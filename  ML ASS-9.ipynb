{
 "cells": [
  {
   "cell_type": "code",
   "execution_count": 15,
   "id": "d05dce51",
   "metadata": {},
   "outputs": [],
   "source": [
    "import pandas as pd\n",
    "import numpy as np\n",
    "import matplotlib.pyplot as plt\n",
    "import seaborn as sns\n",
    "%matplotlib inline"
   ]
  },
  {
   "cell_type": "code",
   "execution_count": 16,
   "id": "4b0ed5f4",
   "metadata": {},
   "outputs": [],
   "source": [
    "df = pd.read_csv(\"C:/Users/NOOMAN KHAN/Desktop/ASS-9.csv\")\n",
    "df = df.iloc[:16,:]"
   ]
  },
  {
   "cell_type": "code",
   "execution_count": 17,
   "id": "87cf8d60",
   "metadata": {},
   "outputs": [
    {
     "data": {
      "text/html": [
       "<div>\n",
       "<style scoped>\n",
       "    .dataframe tbody tr th:only-of-type {\n",
       "        vertical-align: middle;\n",
       "    }\n",
       "\n",
       "    .dataframe tbody tr th {\n",
       "        vertical-align: top;\n",
       "    }\n",
       "\n",
       "    .dataframe thead th {\n",
       "        text-align: right;\n",
       "    }\n",
       "</style>\n",
       "<table border=\"1\" class=\"dataframe\">\n",
       "  <thead>\n",
       "    <tr style=\"text-align: right;\">\n",
       "      <th></th>\n",
       "      <th>Actual</th>\n",
       "      <th>Probability</th>\n",
       "    </tr>\n",
       "  </thead>\n",
       "  <tbody>\n",
       "    <tr>\n",
       "      <th>0</th>\n",
       "      <td>1.0</td>\n",
       "      <td>0.69</td>\n",
       "    </tr>\n",
       "    <tr>\n",
       "      <th>1</th>\n",
       "      <td>0.0</td>\n",
       "      <td>0.43</td>\n",
       "    </tr>\n",
       "    <tr>\n",
       "      <th>2</th>\n",
       "      <td>0.0</td>\n",
       "      <td>0.32</td>\n",
       "    </tr>\n",
       "    <tr>\n",
       "      <th>3</th>\n",
       "      <td>1.0</td>\n",
       "      <td>0.87</td>\n",
       "    </tr>\n",
       "    <tr>\n",
       "      <th>4</th>\n",
       "      <td>1.0</td>\n",
       "      <td>0.56</td>\n",
       "    </tr>\n",
       "    <tr>\n",
       "      <th>5</th>\n",
       "      <td>1.0</td>\n",
       "      <td>0.66</td>\n",
       "    </tr>\n",
       "    <tr>\n",
       "      <th>6</th>\n",
       "      <td>0.0</td>\n",
       "      <td>0.32</td>\n",
       "    </tr>\n",
       "    <tr>\n",
       "      <th>7</th>\n",
       "      <td>1.0</td>\n",
       "      <td>0.76</td>\n",
       "    </tr>\n",
       "    <tr>\n",
       "      <th>8</th>\n",
       "      <td>1.0</td>\n",
       "      <td>0.87</td>\n",
       "    </tr>\n",
       "    <tr>\n",
       "      <th>9</th>\n",
       "      <td>0.0</td>\n",
       "      <td>0.45</td>\n",
       "    </tr>\n",
       "    <tr>\n",
       "      <th>10</th>\n",
       "      <td>0.0</td>\n",
       "      <td>0.12</td>\n",
       "    </tr>\n",
       "    <tr>\n",
       "      <th>11</th>\n",
       "      <td>1.0</td>\n",
       "      <td>0.98</td>\n",
       "    </tr>\n",
       "    <tr>\n",
       "      <th>12</th>\n",
       "      <td>0.0</td>\n",
       "      <td>0.21</td>\n",
       "    </tr>\n",
       "    <tr>\n",
       "      <th>13</th>\n",
       "      <td>0.0</td>\n",
       "      <td>0.13</td>\n",
       "    </tr>\n",
       "    <tr>\n",
       "      <th>14</th>\n",
       "      <td>1.0</td>\n",
       "      <td>0.82</td>\n",
       "    </tr>\n",
       "    <tr>\n",
       "      <th>15</th>\n",
       "      <td>1.0</td>\n",
       "      <td>0.92</td>\n",
       "    </tr>\n",
       "  </tbody>\n",
       "</table>\n",
       "</div>"
      ],
      "text/plain": [
       "    Actual Probability\n",
       "0      1.0        0.69\n",
       "1      0.0        0.43\n",
       "2      0.0        0.32\n",
       "3      1.0        0.87\n",
       "4      1.0        0.56\n",
       "5      1.0        0.66\n",
       "6      0.0        0.32\n",
       "7      1.0        0.76\n",
       "8      1.0        0.87\n",
       "9      0.0        0.45\n",
       "10     0.0        0.12\n",
       "11     1.0        0.98\n",
       "12     0.0        0.21\n",
       "13     0.0        0.13\n",
       "14     1.0        0.82\n",
       "15     1.0        0.92"
      ]
     },
     "execution_count": 17,
     "metadata": {},
     "output_type": "execute_result"
    }
   ],
   "source": [
    "df"
   ]
  },
  {
   "cell_type": "code",
   "execution_count": 18,
   "id": "e6715ddb",
   "metadata": {},
   "outputs": [],
   "source": [
    "threshold = [0.4,0.5,0.6,0.7,0.8]"
   ]
  },
  {
   "cell_type": "code",
   "execution_count": 19,
   "id": "f54fd537",
   "metadata": {},
   "outputs": [],
   "source": [
    "df[\"Probability\"] = df[\"Probability\"].astype(\"float64\")"
   ]
  },
  {
   "cell_type": "code",
   "execution_count": 20,
   "id": "a34a08a9",
   "metadata": {},
   "outputs": [],
   "source": [
    "from sklearn import metrics"
   ]
  },
  {
   "cell_type": "code",
   "execution_count": 21,
   "id": "30e1bd6f",
   "metadata": {},
   "outputs": [
    {
     "name": "stdout",
     "output_type": "stream",
     "text": [
      "0.69\n",
      "0.43\n",
      "0.32\n",
      "0.87\n",
      "0.56\n",
      "0.66\n",
      "0.32\n",
      "0.76\n",
      "0.87\n",
      "0.45\n",
      "0.12\n",
      "0.98\n",
      "0.21\n",
      "0.13\n",
      "0.82\n",
      "0.92\n"
     ]
    }
   ],
   "source": [
    "for i in df[\"Probability\"]:\n",
    "    print(i)"
   ]
  },
  {
   "cell_type": "code",
   "execution_count": 22,
   "id": "ad357512",
   "metadata": {},
   "outputs": [
    {
     "name": "stdout",
     "output_type": "stream",
     "text": [
      "TPR  1.0\n",
      "TNR  0.7142857142857143\n",
      "FNR  0.0\n",
      "FPR  0.2857142857142857\n"
     ]
    },
    {
     "data": {
      "image/png": "[encoded data removed]",
      "text/plain": [
       "<Figure size 432x288 with 2 Axes>"
      ]
     },
     "metadata": {
      "needs_background": "light"
     },
     "output_type": "display_data"
    },
    {
     "name": "stdout",
     "output_type": "stream",
     "text": [
      "TPR  1.0\n",
      "TNR  1.0\n",
      "FNR  0.0\n",
      "FPR  0.0\n"
     ]
    },
    {
     "data": {
      "image/png": "[encoded data removed]",
      "text/plain": [
       "<Figure size 432x288 with 2 Axes>"
      ]
     },
     "metadata": {
      "needs_background": "light"
     },
     "output_type": "display_data"
    },
    {
     "name": "stdout",
     "output_type": "stream",
     "text": [
      "TPR  0.8888888888888888\n",
      "TNR  1.0\n",
      "FNR  0.1111111111111111\n",
      "FPR  0.0\n"
     ]
    },
    {
     "data": {
      "image/png": "[encoded data removed]",
      "text/plain": [
       "<Figure size 432x288 with 2 Axes>"
      ]
     },
     "metadata": {
      "needs_background": "light"
     },
     "output_type": "display_data"
    },
    {
     "name": "stdout",
     "output_type": "stream",
     "text": [
      "TPR  0.6666666666666666\n",
      "TNR  1.0\n",
      "FNR  0.3333333333333333\n",
      "FPR  0.0\n"
     ]
    },
    {
     "data": {
      "image/png": "[encoded data removed]",
      "text/plain": [
       "<Figure size 432x288 with 2 Axes>"
      ]
     },
     "metadata": {
      "needs_background": "light"
     },
     "output_type": "display_data"
    },
    {
     "name": "stdout",
     "output_type": "stream",
     "text": [
      "TPR  0.5555555555555556\n",
      "TNR  1.0\n",
      "FNR  0.4444444444444444\n",
      "FPR  0.0\n"
     ]
    },
    {
     "data": {
      "image/png": "[encoded data removed]",
      "text/plain": [
       "<Figure size 432x288 with 2 Axes>"
      ]
     },
     "metadata": {
      "needs_background": "light"
     },
     "output_type": "display_data"
    },
    {
     "name": "stdout",
     "output_type": "stream",
     "text": [
      "[1.0, 1.0, 0.8888888888888888, 0.6666666666666666, 0.5555555555555556]\n",
      "[0.2857142857142857, 0.0, 0.0, 0.0, 0.0]\n"
     ]
    },
    {
     "data": {
      "text/plain": [
       "Text(0, 0.5, 'TPR')"
      ]
     },
     "execution_count": 22,
     "metadata": {},
     "output_type": "execute_result"
    },
    {
     "data": {
      "image/png": "[encoded data removed]",
      "text/plain": [
       "<Figure size 432x288 with 1 Axes>"
      ]
     },
     "metadata": {
      "needs_background": "light"
     },
     "output_type": "display_data"
    }
   ],
   "source": [
    "threshold = [0.4,0.5,0.6,0.7,0.8]\n",
    "TPR = []\n",
    "FPR = []\n",
    "for i in threshold:\n",
    "    df[\"Predicted\"+str(i)] = [1 if j>=i else 0 for j in df[\"Probability\"] ]\n",
    "    tn,fp,fn,tp = metrics.confusion_matrix(df[\"Actual\"].values.ravel() , df[\"Predicted\"+str(i)].values.ravel()).ravel()  \n",
    "    plt.figure()\n",
    "    sns.heatmap( metrics.confusion_matrix(df[\"Actual\"].values.ravel() , df[\"Predicted\"+str(i)].values.ravel()),annot = True)\n",
    "    plt.xlabel(\"Pridected\")\n",
    "    plt.ylabel(\"actual\")\n",
    "    \n",
    "   \n",
    "    tpr = tp/(tp+fn)\n",
    "    tnr = tn/(tn+fp)\n",
    "    fnr = fn/(fn+tp)\n",
    "    fpr = fp/(fp+tn)\n",
    "    TPR.append(tpr)\n",
    "    FPR.append(fpr)\n",
    "    print(\"TPR \",tpr)\n",
    "    print(\"TNR \",tnr)\n",
    "    print(\"FNR \",fnr)\n",
    "    print(\"FPR \",fpr)\n",
    "     \n",
    "    plt.show()\n",
    "print(TPR)\n",
    "print(FPR)\n",
    "plt.plot(FPR,TPR)\n",
    "plt.xlabel(\"FPR\")\n",
    "plt.ylabel(\"TPR\")"
   ]
  },
  {
   "cell_type": "code",
   "execution_count": 23,
   "id": "284eae03",
   "metadata": {},
   "outputs": [],
   "source": [
    "df = pd.read_csv(\"C:/Users/NOOMAN KHAN/Desktop/ASS-9-2.csv\")\n",
    "Y_true = df[\"Actual\"].values.ravel()\n",
    "Y_pred = df[\"Predicted\"].values.ravel()"
   ]
  },
  {
   "cell_type": "code",
   "execution_count": 24,
   "id": "bd34e2eb",
   "metadata": {},
   "outputs": [
    {
     "data": {
      "image/png": "[encoded data removed]",
      "text/plain": [
       "<Figure size 432x288 with 2 Axes>"
      ]
     },
     "metadata": {
      "needs_background": "light"
     },
     "output_type": "display_data"
    }
   ],
   "source": [
    "tn , fp , fn , tp = metrics.confusion_matrix(Y_true,Y_pred).ravel()\n",
    "c_f = metrics.confusion_matrix(Y_true,Y_pred)\n",
    "\n",
    "sns.heatmap(c_f,annot = True , cmap=\"viridis\")\n",
    "plt.xlabel(\"Predicted\")\n",
    "plt.ylabel(\"Actuaal\")\n",
    "plt.show()\n"
   ]
  },
  {
   "cell_type": "code",
   "execution_count": 25,
   "id": "7b5cc9d1",
   "metadata": {},
   "outputs": [
    {
     "name": "stdout",
     "output_type": "stream",
     "text": [
      "TP 6\n",
      "FP 3\n",
      "TN 2\n",
      "TP 6\n"
     ]
    }
   ],
   "source": [
    "print(\"TP\",tp)\n",
    "print(\"FP\",fp)\n",
    "print(\"TN\",tn)\n",
    "print(\"TP\",tp)"
   ]
  },
  {
   "cell_type": "code",
   "execution_count": 26,
   "id": "45171e21",
   "metadata": {},
   "outputs": [
    {
     "name": "stdout",
     "output_type": "stream",
     "text": [
      "              precision    recall  f1-score   support\n",
      "\n",
      "           0       0.29      0.40      0.33         5\n",
      "           1       0.67      0.55      0.60        11\n",
      "\n",
      "    accuracy                           0.50        16\n",
      "   macro avg       0.48      0.47      0.47        16\n",
      "weighted avg       0.55      0.50      0.52        16\n",
      "\n"
     ]
    }
   ],
   "source": [
    "print(metrics.classification_report(Y_true , Y_pred))"
   ]
  },
  {
   "cell_type": "code",
   "execution_count": 27,
   "id": "4e40c251",
   "metadata": {},
   "outputs": [],
   "source": [
    "# load_dataset\n",
    "df = pd.read_csv(\"C:/Users/NOOMAN KHAN/Downloads/Health_insurance - Health_insurance.csv\")"
   ]
  },
  {
   "cell_type": "code",
   "execution_count": 28,
   "id": "aeb3ee74",
   "metadata": {},
   "outputs": [
    {
     "data": {
      "text/html": [
       "<div>\n",
       "<style scoped>\n",
       "    .dataframe tbody tr th:only-of-type {\n",
       "        vertical-align: middle;\n",
       "    }\n",
       "\n",
       "    .dataframe tbody tr th {\n",
       "        vertical-align: top;\n",
       "    }\n",
       "\n",
       "    .dataframe thead th {\n",
       "        text-align: right;\n",
       "    }\n",
       "</style>\n",
       "<table border=\"1\" class=\"dataframe\">\n",
       "  <thead>\n",
       "    <tr style=\"text-align: right;\">\n",
       "      <th></th>\n",
       "      <th>age</th>\n",
       "      <th>sex</th>\n",
       "      <th>bmi</th>\n",
       "      <th>children</th>\n",
       "      <th>smoker</th>\n",
       "      <th>region</th>\n",
       "      <th>charges</th>\n",
       "    </tr>\n",
       "  </thead>\n",
       "  <tbody>\n",
       "    <tr>\n",
       "      <th>0</th>\n",
       "      <td>19</td>\n",
       "      <td>female</td>\n",
       "      <td>27.9</td>\n",
       "      <td>0.0</td>\n",
       "      <td>yes</td>\n",
       "      <td>southwest</td>\n",
       "      <td>16884.924$</td>\n",
       "    </tr>\n",
       "    <tr>\n",
       "      <th>1</th>\n",
       "      <td>18</td>\n",
       "      <td>male</td>\n",
       "      <td>33.77</td>\n",
       "      <td>1.0</td>\n",
       "      <td>no</td>\n",
       "      <td>southeast</td>\n",
       "      <td>1725.5523$</td>\n",
       "    </tr>\n",
       "    <tr>\n",
       "      <th>2</th>\n",
       "      <td>28</td>\n",
       "      <td>male</td>\n",
       "      <td>33</td>\n",
       "      <td>3.0</td>\n",
       "      <td>no</td>\n",
       "      <td>southeast</td>\n",
       "      <td>4449.462$</td>\n",
       "    </tr>\n",
       "    <tr>\n",
       "      <th>3</th>\n",
       "      <td>33</td>\n",
       "      <td>male</td>\n",
       "      <td>22.705</td>\n",
       "      <td>0.0</td>\n",
       "      <td>no</td>\n",
       "      <td>northwest</td>\n",
       "      <td>21984.47061$</td>\n",
       "    </tr>\n",
       "    <tr>\n",
       "      <th>4</th>\n",
       "      <td>32</td>\n",
       "      <td>male</td>\n",
       "      <td>28.88</td>\n",
       "      <td>0.0</td>\n",
       "      <td>no</td>\n",
       "      <td>northwest</td>\n",
       "      <td>3866.8552$</td>\n",
       "    </tr>\n",
       "  </tbody>\n",
       "</table>\n",
       "</div>"
      ],
      "text/plain": [
       "  age     sex     bmi  children smoker     region       charges\n",
       "0  19  female    27.9       0.0    yes  southwest    16884.924$\n",
       "1  18    male   33.77       1.0     no  southeast    1725.5523$\n",
       "2  28    male      33       3.0     no  southeast     4449.462$\n",
       "3  33    male  22.705       0.0     no  northwest  21984.47061$\n",
       "4  32    male   28.88       0.0     no  northwest    3866.8552$"
      ]
     },
     "execution_count": 28,
     "metadata": {},
     "output_type": "execute_result"
    }
   ],
   "source": [
    "df.head()"
   ]
  },
  {
   "cell_type": "code",
   "execution_count": 29,
   "id": "81fc7559",
   "metadata": {},
   "outputs": [
    {
     "name": "stdout",
     "output_type": "stream",
     "text": [
      "<class 'pandas.core.frame.DataFrame'>\n",
      "RangeIndex: 1563 entries, 0 to 1562\n",
      "Data columns (total 7 columns):\n",
      " #   Column    Non-Null Count  Dtype  \n",
      "---  ------    --------------  -----  \n",
      " 0   age       1563 non-null   object \n",
      " 1   sex       1563 non-null   object \n",
      " 2   bmi       1562 non-null   object \n",
      " 3   children  1542 non-null   float64\n",
      " 4   smoker    1563 non-null   object \n",
      " 5   region    1563 non-null   object \n",
      " 6   charges   1563 non-null   object \n",
      "dtypes: float64(1), object(6)\n",
      "memory usage: 85.6+ KB\n"
     ]
    }
   ],
   "source": [
    "df.info()"
   ]
  },
  {
   "cell_type": "code",
   "execution_count": 30,
   "id": "c14be7ad",
   "metadata": {},
   "outputs": [
    {
     "data": {
      "text/plain": [
       "(1563, 7)"
      ]
     },
     "execution_count": 30,
     "metadata": {},
     "output_type": "execute_result"
    }
   ],
   "source": [
    "df.shape"
   ]
  },
  {
   "cell_type": "code",
   "execution_count": 31,
   "id": "c7211f54",
   "metadata": {},
   "outputs": [
    {
     "data": {
      "text/plain": [
       "age          0\n",
       "sex          0\n",
       "bmi          1\n",
       "children    21\n",
       "smoker       0\n",
       "region       0\n",
       "charges      0\n",
       "dtype: int64"
      ]
     },
     "execution_count": 31,
     "metadata": {},
     "output_type": "execute_result"
    }
   ],
   "source": [
    "df.isnull().sum()"
   ]
  },
  {
   "cell_type": "code",
   "execution_count": 32,
   "id": "fa315e36",
   "metadata": {},
   "outputs": [
    {
     "name": "stdout",
     "output_type": "stream",
     "text": [
      "19     83\n",
      "18     81\n",
      "24     37\n",
      "47     36\n",
      "22     36\n",
      "54     35\n",
      "48     35\n",
      "28     35\n",
      "27     34\n",
      "45     34\n",
      "23     34\n",
      "26     33\n",
      "55     33\n",
      "51     33\n",
      "25     33\n",
      "43     32\n",
      "59     32\n",
      "46     32\n",
      "49     32\n",
      "20     31\n",
      "40     31\n",
      "29     31\n",
      "21     31\n",
      "44     31\n",
      "41     31\n",
      "32     31\n",
      "30     31\n",
      "37     31\n",
      "31     30\n",
      "60     30\n",
      "42     30\n",
      "52     30\n",
      "53     30\n",
      "63     30\n",
      "50     29\n",
      "33     29\n",
      "36     29\n",
      "57     29\n",
      "34     29\n",
      "35     29\n",
      "56     29\n",
      "61     28\n",
      "39     28\n",
      "38     27\n",
      "62     26\n",
      "58     26\n",
      "64     25\n",
      "\" \"     1\n",
      "Name: age, dtype: int64\n",
      "male      794\n",
      "female    767\n",
      "0           1\n",
      "%           1\n",
      "Name: sex, dtype: int64\n",
      "32.3      13\n",
      "34.1      12\n",
      "28.31     12\n",
      "30.8      11\n",
      "31.35     10\n",
      "          ..\n",
      "43.12      1\n",
      "34.295     1\n",
      "45.43      1\n",
      "23.65      1\n",
      "30.97      1\n",
      "Name: bmi, Length: 550, dtype: int64\n",
      "0.0    658\n",
      "1.0    372\n",
      "2.0    278\n",
      "3.0    187\n",
      "4.0     28\n",
      "5.0     19\n",
      "Name: children, dtype: int64\n",
      "no     1237\n",
      "yes     324\n",
      "-         1\n",
      "0         1\n",
      "Name: smoker, dtype: int64\n",
      "southeast    416\n",
      "southwest    387\n",
      "northwest    379\n",
      "northeast    378\n",
      "\" \"            3\n",
      "Name: region, dtype: int64\n",
      "-$             4\n",
      "4837.5823$     2\n",
      "2850.68375$    2\n",
      "19350.3689$    2\n",
      "2899.48935$    2\n",
      "              ..\n",
      "8083.9198$     1\n",
      "9264.797$      1\n",
      "1631.6683$     1\n",
      "14988.432$     1\n",
      "29141.3603$    1\n",
      "Name: charges, Length: 1333, dtype: int64\n"
     ]
    }
   ],
   "source": [
    "for i in df.columns:\n",
    "    print(df[i].value_counts())"
   ]
  },
  {
   "cell_type": "code",
   "execution_count": 33,
   "id": "5368dc2c",
   "metadata": {},
   "outputs": [
    {
     "data": {
      "text/plain": [
       "age          object\n",
       "sex          object\n",
       "bmi          object\n",
       "children    float64\n",
       "smoker       object\n",
       "region       object\n",
       "charges      object\n",
       "dtype: object"
      ]
     },
     "execution_count": 33,
     "metadata": {},
     "output_type": "execute_result"
    }
   ],
   "source": [
    "df.dtypes"
   ]
  },
  {
   "cell_type": "code",
   "execution_count": 34,
   "id": "691d83f8",
   "metadata": {},
   "outputs": [],
   "source": [
    "df[\"age\"] = pd.to_numeric(df[\"age\"] , errors = \"coerce\")"
   ]
  },
  {
   "cell_type": "code",
   "execution_count": 35,
   "id": "b96a2ae9",
   "metadata": {},
   "outputs": [
    {
     "data": {
      "text/plain": [
       "age          1\n",
       "sex          0\n",
       "bmi          1\n",
       "children    21\n",
       "smoker       0\n",
       "region       0\n",
       "charges      0\n",
       "dtype: int64"
      ]
     },
     "execution_count": 35,
     "metadata": {},
     "output_type": "execute_result"
    }
   ],
   "source": [
    "df.isnull().sum()"
   ]
  },
  {
   "cell_type": "code",
   "execution_count": 36,
   "id": "5f89e4df",
   "metadata": {},
   "outputs": [],
   "source": [
    "df = df[df[\"sex\"]!=\"0\"]"
   ]
  },
  {
   "cell_type": "code",
   "execution_count": 37,
   "id": "43fbaf29",
   "metadata": {},
   "outputs": [],
   "source": [
    "df = df[df[\"sex\"]!=\"%\"]"
   ]
  },
  {
   "cell_type": "code",
   "execution_count": 38,
   "id": "25d1703c",
   "metadata": {},
   "outputs": [
    {
     "data": {
      "text/html": [
       "<div>\n",
       "<style scoped>\n",
       "    .dataframe tbody tr th:only-of-type {\n",
       "        vertical-align: middle;\n",
       "    }\n",
       "\n",
       "    .dataframe tbody tr th {\n",
       "        vertical-align: top;\n",
       "    }\n",
       "\n",
       "    .dataframe thead th {\n",
       "        text-align: right;\n",
       "    }\n",
       "</style>\n",
       "<table border=\"1\" class=\"dataframe\">\n",
       "  <thead>\n",
       "    <tr style=\"text-align: right;\">\n",
       "      <th></th>\n",
       "      <th>age</th>\n",
       "      <th>sex</th>\n",
       "      <th>bmi</th>\n",
       "      <th>children</th>\n",
       "      <th>smoker</th>\n",
       "      <th>region</th>\n",
       "      <th>charges</th>\n",
       "    </tr>\n",
       "  </thead>\n",
       "  <tbody>\n",
       "    <tr>\n",
       "      <th>0</th>\n",
       "      <td>19.0</td>\n",
       "      <td>female</td>\n",
       "      <td>27.9</td>\n",
       "      <td>0.0</td>\n",
       "      <td>yes</td>\n",
       "      <td>southwest</td>\n",
       "      <td>16884.924$</td>\n",
       "    </tr>\n",
       "    <tr>\n",
       "      <th>1</th>\n",
       "      <td>18.0</td>\n",
       "      <td>male</td>\n",
       "      <td>33.77</td>\n",
       "      <td>1.0</td>\n",
       "      <td>no</td>\n",
       "      <td>southeast</td>\n",
       "      <td>1725.5523$</td>\n",
       "    </tr>\n",
       "    <tr>\n",
       "      <th>2</th>\n",
       "      <td>28.0</td>\n",
       "      <td>male</td>\n",
       "      <td>33</td>\n",
       "      <td>3.0</td>\n",
       "      <td>no</td>\n",
       "      <td>southeast</td>\n",
       "      <td>4449.462$</td>\n",
       "    </tr>\n",
       "    <tr>\n",
       "      <th>3</th>\n",
       "      <td>33.0</td>\n",
       "      <td>male</td>\n",
       "      <td>22.705</td>\n",
       "      <td>0.0</td>\n",
       "      <td>no</td>\n",
       "      <td>northwest</td>\n",
       "      <td>21984.47061$</td>\n",
       "    </tr>\n",
       "    <tr>\n",
       "      <th>4</th>\n",
       "      <td>32.0</td>\n",
       "      <td>male</td>\n",
       "      <td>28.88</td>\n",
       "      <td>0.0</td>\n",
       "      <td>no</td>\n",
       "      <td>northwest</td>\n",
       "      <td>3866.8552$</td>\n",
       "    </tr>\n",
       "    <tr>\n",
       "      <th>...</th>\n",
       "      <td>...</td>\n",
       "      <td>...</td>\n",
       "      <td>...</td>\n",
       "      <td>...</td>\n",
       "      <td>...</td>\n",
       "      <td>...</td>\n",
       "      <td>...</td>\n",
       "    </tr>\n",
       "    <tr>\n",
       "      <th>1558</th>\n",
       "      <td>42.0</td>\n",
       "      <td>male</td>\n",
       "      <td>20.3</td>\n",
       "      <td>NaN</td>\n",
       "      <td>no</td>\n",
       "      <td>southwest</td>\n",
       "      <td>1984.4533$</td>\n",
       "    </tr>\n",
       "    <tr>\n",
       "      <th>1559</th>\n",
       "      <td>48.0</td>\n",
       "      <td>male</td>\n",
       "      <td>35.3</td>\n",
       "      <td>NaN</td>\n",
       "      <td>no</td>\n",
       "      <td>southwest</td>\n",
       "      <td>2457.502$</td>\n",
       "    </tr>\n",
       "    <tr>\n",
       "      <th>1560</th>\n",
       "      <td>39.0</td>\n",
       "      <td>male</td>\n",
       "      <td>24.32</td>\n",
       "      <td>NaN</td>\n",
       "      <td>no</td>\n",
       "      <td>southeast</td>\n",
       "      <td>12146.971$</td>\n",
       "    </tr>\n",
       "    <tr>\n",
       "      <th>1561</th>\n",
       "      <td>63.0</td>\n",
       "      <td>male</td>\n",
       "      <td>18.5</td>\n",
       "      <td>NaN</td>\n",
       "      <td>no</td>\n",
       "      <td>southwest</td>\n",
       "      <td>9566.9909$</td>\n",
       "    </tr>\n",
       "    <tr>\n",
       "      <th>1562</th>\n",
       "      <td>54.0</td>\n",
       "      <td>female</td>\n",
       "      <td>26.41</td>\n",
       "      <td>NaN</td>\n",
       "      <td>no</td>\n",
       "      <td>northeast</td>\n",
       "      <td>13112.6048$</td>\n",
       "    </tr>\n",
       "  </tbody>\n",
       "</table>\n",
       "<p>1561 rows × 7 columns</p>\n",
       "</div>"
      ],
      "text/plain": [
       "       age     sex     bmi  children smoker     region       charges\n",
       "0     19.0  female    27.9       0.0    yes  southwest    16884.924$\n",
       "1     18.0    male   33.77       1.0     no  southeast    1725.5523$\n",
       "2     28.0    male      33       3.0     no  southeast     4449.462$\n",
       "3     33.0    male  22.705       0.0     no  northwest  21984.47061$\n",
       "4     32.0    male   28.88       0.0     no  northwest    3866.8552$\n",
       "...    ...     ...     ...       ...    ...        ...           ...\n",
       "1558  42.0    male    20.3       NaN     no  southwest    1984.4533$\n",
       "1559  48.0    male    35.3       NaN     no  southwest     2457.502$\n",
       "1560  39.0    male   24.32       NaN     no  southeast    12146.971$\n",
       "1561  63.0    male    18.5       NaN     no  southwest    9566.9909$\n",
       "1562  54.0  female   26.41       NaN     no  northeast   13112.6048$\n",
       "\n",
       "[1561 rows x 7 columns]"
      ]
     },
     "execution_count": 38,
     "metadata": {},
     "output_type": "execute_result"
    }
   ],
   "source": [
    "df"
   ]
  },
  {
   "cell_type": "code",
   "execution_count": 39,
   "id": "8f6f51f0",
   "metadata": {},
   "outputs": [
    {
     "data": {
      "text/plain": [
       "male      794\n",
       "female    767\n",
       "Name: sex, dtype: int64"
      ]
     },
     "execution_count": 39,
     "metadata": {},
     "output_type": "execute_result"
    }
   ],
   "source": [
    "df[\"sex\"].value_counts()"
   ]
  },
  {
   "cell_type": "code",
   "execution_count": 40,
   "id": "c6d08473",
   "metadata": {},
   "outputs": [
    {
     "data": {
      "text/plain": [
       "32.3      13\n",
       "34.1      12\n",
       "28.31     12\n",
       "30.8      11\n",
       "31.35     10\n",
       "          ..\n",
       "34.295     1\n",
       "45.43      1\n",
       "23.65      1\n",
       "20.7       1\n",
       "30.97      1\n",
       "Name: bmi, Length: 548, dtype: int64"
      ]
     },
     "execution_count": 40,
     "metadata": {},
     "output_type": "execute_result"
    }
   ],
   "source": [
    "df[\"bmi\"].value_counts()"
   ]
  },
  {
   "cell_type": "code",
   "execution_count": 41,
   "id": "c0112f28",
   "metadata": {},
   "outputs": [],
   "source": [
    "df[\"bmi\"] = pd.to_numeric(df[\"bmi\"],errors = \"coerce\")"
   ]
  },
  {
   "cell_type": "code",
   "execution_count": 42,
   "id": "16c0e5b6",
   "metadata": {},
   "outputs": [
    {
     "data": {
      "text/plain": [
       "age          1\n",
       "sex          0\n",
       "bmi          2\n",
       "children    21\n",
       "smoker       0\n",
       "region       0\n",
       "charges      0\n",
       "dtype: int64"
      ]
     },
     "execution_count": 42,
     "metadata": {},
     "output_type": "execute_result"
    }
   ],
   "source": [
    "df.isnull().sum()"
   ]
  },
  {
   "cell_type": "code",
   "execution_count": 43,
   "id": "17f7df00",
   "metadata": {},
   "outputs": [
    {
     "data": {
      "text/plain": [
       "age         float64\n",
       "sex          object\n",
       "bmi         float64\n",
       "children    float64\n",
       "smoker       object\n",
       "region       object\n",
       "charges      object\n",
       "dtype: object"
      ]
     },
     "execution_count": 43,
     "metadata": {},
     "output_type": "execute_result"
    }
   ],
   "source": [
    "df.dtypes"
   ]
  },
  {
   "cell_type": "code",
   "execution_count": 44,
   "id": "26d00c61",
   "metadata": {},
   "outputs": [
    {
     "data": {
      "text/plain": [
       "no     1236\n",
       "yes     323\n",
       "-         1\n",
       "0         1\n",
       "Name: smoker, dtype: int64"
      ]
     },
     "execution_count": 44,
     "metadata": {},
     "output_type": "execute_result"
    }
   ],
   "source": [
    "df[\"smoker\"].value_counts()"
   ]
  },
  {
   "cell_type": "code",
   "execution_count": 45,
   "id": "14066a26",
   "metadata": {},
   "outputs": [],
   "source": [
    "df = df[df[\"smoker\"]!=\"-\"]\n",
    "df = df[df[\"smoker\"]!=\"0\"]\n"
   ]
  },
  {
   "cell_type": "code",
   "execution_count": 46,
   "id": "b4f07d5e",
   "metadata": {},
   "outputs": [
    {
     "data": {
      "text/plain": [
       "no     1236\n",
       "yes     323\n",
       "Name: smoker, dtype: int64"
      ]
     },
     "execution_count": 46,
     "metadata": {},
     "output_type": "execute_result"
    }
   ],
   "source": [
    "df[\"smoker\"].value_counts()"
   ]
  },
  {
   "cell_type": "code",
   "execution_count": 47,
   "id": "1c29a468",
   "metadata": {},
   "outputs": [
    {
     "data": {
      "text/plain": [
       "southeast    414\n",
       "southwest    386\n",
       "northwest    379\n",
       "northeast    377\n",
       "\" \"            3\n",
       "Name: region, dtype: int64"
      ]
     },
     "execution_count": 47,
     "metadata": {},
     "output_type": "execute_result"
    }
   ],
   "source": [
    "df[\"region\"].value_counts()"
   ]
  },
  {
   "cell_type": "code",
   "execution_count": 48,
   "id": "908f0a82",
   "metadata": {
    "scrolled": true
   },
   "outputs": [],
   "source": [
    "df[\"region\"] = df[\"region\"].replace(\"\",np.nan)"
   ]
  },
  {
   "cell_type": "code",
   "execution_count": 49,
   "id": "cbda8213",
   "metadata": {},
   "outputs": [
    {
     "data": {
      "text/plain": [
       "southeast    414\n",
       "southwest    386\n",
       "northwest    379\n",
       "northeast    377\n",
       "\" \"            3\n",
       "Name: region, dtype: int64"
      ]
     },
     "execution_count": 49,
     "metadata": {},
     "output_type": "execute_result"
    }
   ],
   "source": [
    "df[\"region\"].value_counts()"
   ]
  },
  {
   "cell_type": "code",
   "execution_count": 50,
   "id": "c9b1e01b",
   "metadata": {},
   "outputs": [],
   "source": [
    "df[\"region\"] = [i if len(i)>4 else np.nan for i in df[\"region\"]]"
   ]
  },
  {
   "cell_type": "code",
   "execution_count": 51,
   "id": "8df84bba",
   "metadata": {},
   "outputs": [
    {
     "data": {
      "text/plain": [
       "southeast    414\n",
       "southwest    386\n",
       "northwest    379\n",
       "northeast    377\n",
       "Name: region, dtype: int64"
      ]
     },
     "execution_count": 51,
     "metadata": {},
     "output_type": "execute_result"
    }
   ],
   "source": [
    "df[\"region\"].value_counts()"
   ]
  },
  {
   "cell_type": "code",
   "execution_count": 52,
   "id": "7144315f",
   "metadata": {},
   "outputs": [
    {
     "data": {
      "text/plain": [
       "age          1\n",
       "sex          0\n",
       "bmi          2\n",
       "children    21\n",
       "smoker       0\n",
       "region       3\n",
       "charges      0\n",
       "dtype: int64"
      ]
     },
     "execution_count": 52,
     "metadata": {},
     "output_type": "execute_result"
    }
   ],
   "source": [
    " df.isnull().sum()"
   ]
  },
  {
   "cell_type": "code",
   "execution_count": 53,
   "id": "77a0a0fa",
   "metadata": {},
   "outputs": [
    {
     "data": {
      "text/html": [
       "<div>\n",
       "<style scoped>\n",
       "    .dataframe tbody tr th:only-of-type {\n",
       "        vertical-align: middle;\n",
       "    }\n",
       "\n",
       "    .dataframe tbody tr th {\n",
       "        vertical-align: top;\n",
       "    }\n",
       "\n",
       "    .dataframe thead th {\n",
       "        text-align: right;\n",
       "    }\n",
       "</style>\n",
       "<table border=\"1\" class=\"dataframe\">\n",
       "  <thead>\n",
       "    <tr style=\"text-align: right;\">\n",
       "      <th></th>\n",
       "      <th>age</th>\n",
       "      <th>sex</th>\n",
       "      <th>bmi</th>\n",
       "      <th>children</th>\n",
       "      <th>smoker</th>\n",
       "      <th>region</th>\n",
       "      <th>charges</th>\n",
       "    </tr>\n",
       "  </thead>\n",
       "  <tbody>\n",
       "    <tr>\n",
       "      <th>0</th>\n",
       "      <td>19.0</td>\n",
       "      <td>female</td>\n",
       "      <td>27.900</td>\n",
       "      <td>0.0</td>\n",
       "      <td>yes</td>\n",
       "      <td>southwest</td>\n",
       "      <td>16884.924$</td>\n",
       "    </tr>\n",
       "    <tr>\n",
       "      <th>1</th>\n",
       "      <td>18.0</td>\n",
       "      <td>male</td>\n",
       "      <td>33.770</td>\n",
       "      <td>1.0</td>\n",
       "      <td>no</td>\n",
       "      <td>southeast</td>\n",
       "      <td>1725.5523$</td>\n",
       "    </tr>\n",
       "    <tr>\n",
       "      <th>2</th>\n",
       "      <td>28.0</td>\n",
       "      <td>male</td>\n",
       "      <td>33.000</td>\n",
       "      <td>3.0</td>\n",
       "      <td>no</td>\n",
       "      <td>southeast</td>\n",
       "      <td>4449.462$</td>\n",
       "    </tr>\n",
       "    <tr>\n",
       "      <th>3</th>\n",
       "      <td>33.0</td>\n",
       "      <td>male</td>\n",
       "      <td>22.705</td>\n",
       "      <td>0.0</td>\n",
       "      <td>no</td>\n",
       "      <td>northwest</td>\n",
       "      <td>21984.47061$</td>\n",
       "    </tr>\n",
       "    <tr>\n",
       "      <th>4</th>\n",
       "      <td>32.0</td>\n",
       "      <td>male</td>\n",
       "      <td>28.880</td>\n",
       "      <td>0.0</td>\n",
       "      <td>no</td>\n",
       "      <td>northwest</td>\n",
       "      <td>3866.8552$</td>\n",
       "    </tr>\n",
       "    <tr>\n",
       "      <th>...</th>\n",
       "      <td>...</td>\n",
       "      <td>...</td>\n",
       "      <td>...</td>\n",
       "      <td>...</td>\n",
       "      <td>...</td>\n",
       "      <td>...</td>\n",
       "      <td>...</td>\n",
       "    </tr>\n",
       "    <tr>\n",
       "      <th>1558</th>\n",
       "      <td>42.0</td>\n",
       "      <td>male</td>\n",
       "      <td>20.300</td>\n",
       "      <td>NaN</td>\n",
       "      <td>no</td>\n",
       "      <td>southwest</td>\n",
       "      <td>1984.4533$</td>\n",
       "    </tr>\n",
       "    <tr>\n",
       "      <th>1559</th>\n",
       "      <td>48.0</td>\n",
       "      <td>male</td>\n",
       "      <td>35.300</td>\n",
       "      <td>NaN</td>\n",
       "      <td>no</td>\n",
       "      <td>southwest</td>\n",
       "      <td>2457.502$</td>\n",
       "    </tr>\n",
       "    <tr>\n",
       "      <th>1560</th>\n",
       "      <td>39.0</td>\n",
       "      <td>male</td>\n",
       "      <td>24.320</td>\n",
       "      <td>NaN</td>\n",
       "      <td>no</td>\n",
       "      <td>southeast</td>\n",
       "      <td>12146.971$</td>\n",
       "    </tr>\n",
       "    <tr>\n",
       "      <th>1561</th>\n",
       "      <td>63.0</td>\n",
       "      <td>male</td>\n",
       "      <td>18.500</td>\n",
       "      <td>NaN</td>\n",
       "      <td>no</td>\n",
       "      <td>southwest</td>\n",
       "      <td>9566.9909$</td>\n",
       "    </tr>\n",
       "    <tr>\n",
       "      <th>1562</th>\n",
       "      <td>54.0</td>\n",
       "      <td>female</td>\n",
       "      <td>26.410</td>\n",
       "      <td>NaN</td>\n",
       "      <td>no</td>\n",
       "      <td>northeast</td>\n",
       "      <td>13112.6048$</td>\n",
       "    </tr>\n",
       "  </tbody>\n",
       "</table>\n",
       "<p>1559 rows × 7 columns</p>\n",
       "</div>"
      ],
      "text/plain": [
       "       age     sex     bmi  children smoker     region       charges\n",
       "0     19.0  female  27.900       0.0    yes  southwest    16884.924$\n",
       "1     18.0    male  33.770       1.0     no  southeast    1725.5523$\n",
       "2     28.0    male  33.000       3.0     no  southeast     4449.462$\n",
       "3     33.0    male  22.705       0.0     no  northwest  21984.47061$\n",
       "4     32.0    male  28.880       0.0     no  northwest    3866.8552$\n",
       "...    ...     ...     ...       ...    ...        ...           ...\n",
       "1558  42.0    male  20.300       NaN     no  southwest    1984.4533$\n",
       "1559  48.0    male  35.300       NaN     no  southwest     2457.502$\n",
       "1560  39.0    male  24.320       NaN     no  southeast    12146.971$\n",
       "1561  63.0    male  18.500       NaN     no  southwest    9566.9909$\n",
       "1562  54.0  female  26.410       NaN     no  northeast   13112.6048$\n",
       "\n",
       "[1559 rows x 7 columns]"
      ]
     },
     "execution_count": 53,
     "metadata": {},
     "output_type": "execute_result"
    }
   ],
   "source": [
    "df"
   ]
  },
  {
   "cell_type": "code",
   "execution_count": 54,
   "id": "778ee1c5",
   "metadata": {},
   "outputs": [
    {
     "name": "stderr",
     "output_type": "stream",
     "text": [
      "C:\\Users\\NOOMAN KHAN\\AppData\\Local\\Temp\\ipykernel_7396\\2120794703.py:1: FutureWarning: The default value of regex will change from True to False in a future version. In addition, single character regular expressions will *not* be treated as literal strings when regex=True.\n",
      "  df[\"charges\"] = df[\"charges\"].str.replace(\"$\",\"\")\n"
     ]
    }
   ],
   "source": [
    "df[\"charges\"] = df[\"charges\"].str.replace(\"$\",\"\")"
   ]
  },
  {
   "cell_type": "code",
   "execution_count": 55,
   "id": "195cba0b",
   "metadata": {},
   "outputs": [],
   "source": [
    "df[\"charges\"] = pd.to_numeric(df[\"charges\"] , errors = \"coerce\")"
   ]
  },
  {
   "cell_type": "code",
   "execution_count": 56,
   "id": "9f160e50",
   "metadata": {},
   "outputs": [
    {
     "data": {
      "text/plain": [
       "age         float64\n",
       "sex          object\n",
       "bmi         float64\n",
       "children    float64\n",
       "smoker       object\n",
       "region       object\n",
       "charges     float64\n",
       "dtype: object"
      ]
     },
     "execution_count": 56,
     "metadata": {},
     "output_type": "execute_result"
    }
   ],
   "source": [
    " df.dtypes"
   ]
  },
  {
   "cell_type": "code",
   "execution_count": 57,
   "id": "be455bd8",
   "metadata": {},
   "outputs": [
    {
     "data": {
      "text/plain": [
       "age          1\n",
       "sex          0\n",
       "bmi          2\n",
       "children    21\n",
       "smoker       0\n",
       "region       3\n",
       "charges      8\n",
       "dtype: int64"
      ]
     },
     "execution_count": 57,
     "metadata": {},
     "output_type": "execute_result"
    }
   ],
   "source": [
    "df.isnull().sum()"
   ]
  },
  {
   "cell_type": "code",
   "execution_count": 58,
   "id": "2461d3dc",
   "metadata": {},
   "outputs": [
    {
     "data": {
      "text/plain": [
       "1"
      ]
     },
     "execution_count": 58,
     "metadata": {},
     "output_type": "execute_result"
    }
   ],
   "source": [
    "df.duplicated().sum()"
   ]
  },
  {
   "cell_type": "code",
   "execution_count": 59,
   "id": "eea694a4",
   "metadata": {},
   "outputs": [],
   "source": [
    "# we have to fill children with random sample or mode child can't be fraction that's whywe are not usein\n",
    "# mean/median\n",
    "random_sample = df[\"children\"].dropna().sample(df[\"children\"].isnull().sum() , random_state = 1)\n",
    "random_sample.index = df[df[\"children\"].isnull()].index\n",
    "df.loc[df[\"children\"].isnull(),\"children\"] = random_sample"
   ]
  },
  {
   "cell_type": "code",
   "execution_count": 60,
   "id": "f15da986",
   "metadata": {},
   "outputs": [
    {
     "data": {
      "text/plain": [
       "age         1\n",
       "sex         0\n",
       "bmi         2\n",
       "children    0\n",
       "smoker      0\n",
       "region      3\n",
       "charges     8\n",
       "dtype: int64"
      ]
     },
     "execution_count": 60,
     "metadata": {},
     "output_type": "execute_result"
    }
   ],
   "source": [
    "df.isnull().sum()"
   ]
  },
  {
   "cell_type": "code",
   "execution_count": 61,
   "id": "bdb6c3b0",
   "metadata": {},
   "outputs": [],
   "source": [
    "random_sample = df[\"charges\"].dropna().sample(df[\"charges\"].isnull().sum() , random_state = 1)\n",
    "random_sample.index = df[df[\"charges\"].isnull()].index\n",
    "df.loc[df[\"charges\"].isnull(),\"charges\"] = random_sample"
   ]
  },
  {
   "cell_type": "code",
   "execution_count": 62,
   "id": "808e9a5a",
   "metadata": {},
   "outputs": [
    {
     "data": {
      "text/html": [
       "<div>\n",
       "<style scoped>\n",
       "    .dataframe tbody tr th:only-of-type {\n",
       "        vertical-align: middle;\n",
       "    }\n",
       "\n",
       "    .dataframe tbody tr th {\n",
       "        vertical-align: top;\n",
       "    }\n",
       "\n",
       "    .dataframe thead th {\n",
       "        text-align: right;\n",
       "    }\n",
       "</style>\n",
       "<table border=\"1\" class=\"dataframe\">\n",
       "  <thead>\n",
       "    <tr style=\"text-align: right;\">\n",
       "      <th></th>\n",
       "      <th>age</th>\n",
       "      <th>bmi</th>\n",
       "      <th>children</th>\n",
       "      <th>charges</th>\n",
       "    </tr>\n",
       "  </thead>\n",
       "  <tbody>\n",
       "    <tr>\n",
       "      <th>count</th>\n",
       "      <td>1558.000000</td>\n",
       "      <td>1557.000000</td>\n",
       "      <td>1559.000000</td>\n",
       "      <td>1559.000000</td>\n",
       "    </tr>\n",
       "    <tr>\n",
       "      <th>mean</th>\n",
       "      <td>39.101412</td>\n",
       "      <td>30.663128</td>\n",
       "      <td>1.098781</td>\n",
       "      <td>13239.407188</td>\n",
       "    </tr>\n",
       "    <tr>\n",
       "      <th>std</th>\n",
       "      <td>14.147493</td>\n",
       "      <td>6.161147</td>\n",
       "      <td>1.206207</td>\n",
       "      <td>12132.301683</td>\n",
       "    </tr>\n",
       "    <tr>\n",
       "      <th>min</th>\n",
       "      <td>18.000000</td>\n",
       "      <td>0.000000</td>\n",
       "      <td>0.000000</td>\n",
       "      <td>1121.873900</td>\n",
       "    </tr>\n",
       "    <tr>\n",
       "      <th>25%</th>\n",
       "      <td>26.000000</td>\n",
       "      <td>26.315000</td>\n",
       "      <td>0.000000</td>\n",
       "      <td>4764.175500</td>\n",
       "    </tr>\n",
       "    <tr>\n",
       "      <th>50%</th>\n",
       "      <td>39.000000</td>\n",
       "      <td>30.495000</td>\n",
       "      <td>1.000000</td>\n",
       "      <td>9283.562000</td>\n",
       "    </tr>\n",
       "    <tr>\n",
       "      <th>75%</th>\n",
       "      <td>51.000000</td>\n",
       "      <td>34.800000</td>\n",
       "      <td>2.000000</td>\n",
       "      <td>16359.170275</td>\n",
       "    </tr>\n",
       "    <tr>\n",
       "      <th>max</th>\n",
       "      <td>64.000000</td>\n",
       "      <td>53.130000</td>\n",
       "      <td>5.000000</td>\n",
       "      <td>63770.428010</td>\n",
       "    </tr>\n",
       "  </tbody>\n",
       "</table>\n",
       "</div>"
      ],
      "text/plain": [
       "               age          bmi     children       charges\n",
       "count  1558.000000  1557.000000  1559.000000   1559.000000\n",
       "mean     39.101412    30.663128     1.098781  13239.407188\n",
       "std      14.147493     6.161147     1.206207  12132.301683\n",
       "min      18.000000     0.000000     0.000000   1121.873900\n",
       "25%      26.000000    26.315000     0.000000   4764.175500\n",
       "50%      39.000000    30.495000     1.000000   9283.562000\n",
       "75%      51.000000    34.800000     2.000000  16359.170275\n",
       "max      64.000000    53.130000     5.000000  63770.428010"
      ]
     },
     "execution_count": 62,
     "metadata": {},
     "output_type": "execute_result"
    }
   ],
   "source": [
    "df.describe()"
   ]
  },
  {
   "cell_type": "code",
   "execution_count": 63,
   "id": "9e003039",
   "metadata": {},
   "outputs": [
    {
     "data": {
      "text/plain": [
       "age         1\n",
       "sex         0\n",
       "bmi         2\n",
       "children    0\n",
       "smoker      0\n",
       "region      3\n",
       "charges     0\n",
       "dtype: int64"
      ]
     },
     "execution_count": 63,
     "metadata": {},
     "output_type": "execute_result"
    }
   ],
   "source": [
    "df.isnull().sum()"
   ]
  },
  {
   "cell_type": "code",
   "execution_count": 64,
   "id": "3d0a0aac",
   "metadata": {},
   "outputs": [],
   "source": [
    "df = df.dropna()"
   ]
  },
  {
   "cell_type": "code",
   "execution_count": 65,
   "id": "a813465a",
   "metadata": {},
   "outputs": [
    {
     "data": {
      "text/html": [
       "<div>\n",
       "<style scoped>\n",
       "    .dataframe tbody tr th:only-of-type {\n",
       "        vertical-align: middle;\n",
       "    }\n",
       "\n",
       "    .dataframe tbody tr th {\n",
       "        vertical-align: top;\n",
       "    }\n",
       "\n",
       "    .dataframe thead th {\n",
       "        text-align: right;\n",
       "    }\n",
       "</style>\n",
       "<table border=\"1\" class=\"dataframe\">\n",
       "  <thead>\n",
       "    <tr style=\"text-align: right;\">\n",
       "      <th></th>\n",
       "      <th>age</th>\n",
       "      <th>sex</th>\n",
       "      <th>bmi</th>\n",
       "      <th>children</th>\n",
       "      <th>smoker</th>\n",
       "      <th>region</th>\n",
       "      <th>charges</th>\n",
       "    </tr>\n",
       "  </thead>\n",
       "  <tbody>\n",
       "    <tr>\n",
       "      <th>0</th>\n",
       "      <td>19.0</td>\n",
       "      <td>female</td>\n",
       "      <td>27.900</td>\n",
       "      <td>0.0</td>\n",
       "      <td>yes</td>\n",
       "      <td>southwest</td>\n",
       "      <td>16884.92400</td>\n",
       "    </tr>\n",
       "    <tr>\n",
       "      <th>1</th>\n",
       "      <td>18.0</td>\n",
       "      <td>male</td>\n",
       "      <td>33.770</td>\n",
       "      <td>1.0</td>\n",
       "      <td>no</td>\n",
       "      <td>southeast</td>\n",
       "      <td>1725.55230</td>\n",
       "    </tr>\n",
       "    <tr>\n",
       "      <th>2</th>\n",
       "      <td>28.0</td>\n",
       "      <td>male</td>\n",
       "      <td>33.000</td>\n",
       "      <td>3.0</td>\n",
       "      <td>no</td>\n",
       "      <td>southeast</td>\n",
       "      <td>4449.46200</td>\n",
       "    </tr>\n",
       "    <tr>\n",
       "      <th>3</th>\n",
       "      <td>33.0</td>\n",
       "      <td>male</td>\n",
       "      <td>22.705</td>\n",
       "      <td>0.0</td>\n",
       "      <td>no</td>\n",
       "      <td>northwest</td>\n",
       "      <td>21984.47061</td>\n",
       "    </tr>\n",
       "    <tr>\n",
       "      <th>4</th>\n",
       "      <td>32.0</td>\n",
       "      <td>male</td>\n",
       "      <td>28.880</td>\n",
       "      <td>0.0</td>\n",
       "      <td>no</td>\n",
       "      <td>northwest</td>\n",
       "      <td>3866.85520</td>\n",
       "    </tr>\n",
       "  </tbody>\n",
       "</table>\n",
       "</div>"
      ],
      "text/plain": [
       "    age     sex     bmi  children smoker     region      charges\n",
       "0  19.0  female  27.900       0.0    yes  southwest  16884.92400\n",
       "1  18.0    male  33.770       1.0     no  southeast   1725.55230\n",
       "2  28.0    male  33.000       3.0     no  southeast   4449.46200\n",
       "3  33.0    male  22.705       0.0     no  northwest  21984.47061\n",
       "4  32.0    male  28.880       0.0     no  northwest   3866.85520"
      ]
     },
     "execution_count": 65,
     "metadata": {},
     "output_type": "execute_result"
    }
   ],
   "source": [
    "df.head()"
   ]
  },
  {
   "cell_type": "code",
   "execution_count": 66,
   "id": "b2258ad9",
   "metadata": {},
   "outputs": [
    {
     "data": {
      "image/png": "[encoded data removed]",
      "text/plain": [
       "<Figure size 1080x720 with 4 Axes>"
      ]
     },
     "metadata": {
      "needs_background": "light"
     },
     "output_type": "display_data"
    }
   ],
   "source": [
    "# bivarient analysis of categorical independent\n",
    "fig,ax = plt.subplots(2,2,figsize = (15,10))\n",
    "cols = [\"sex\",\"smoker\",\"region\",\"children\"]\n",
    "index = 0\n",
    "for i in range(2):\n",
    "    for j in range(2):\n",
    "        sns.barplot(x = df[cols[index]], y = df[\"charges\"] , ax=ax[i][j])\n",
    "        index+=1"
   ]
  },
  {
   "cell_type": "code",
   "execution_count": 67,
   "id": "aa5240ea",
   "metadata": {},
   "outputs": [
    {
     "data": {
      "image/png": "[encoded data removed]",
      "text/plain": [
       "<Figure size 432x432 with 3 Axes>"
      ]
     },
     "metadata": {
      "needs_background": "light"
     },
     "output_type": "display_data"
    }
   ],
   "source": [
    "# bivarient analysis of countinous independent\n",
    "sns.jointplot(x = df[\"age\"] , y=df[\"charges\"])\n",
    "plt.show()"
   ]
  },
  {
   "cell_type": "code",
   "execution_count": 68,
   "id": "cee2114f",
   "metadata": {},
   "outputs": [
    {
     "data": {
      "image/png": "[encoded data removed]",
      "text/plain": [
       "<Figure size 432x432 with 3 Axes>"
      ]
     },
     "metadata": {
      "needs_background": "light"
     },
     "output_type": "display_data"
    }
   ],
   "source": [
    "sns.jointplot(x = df[\"bmi\"] , y=df[\"charges\"])\n",
    "plt.show()"
   ]
  },
  {
   "cell_type": "code",
   "execution_count": 69,
   "id": "e86a38b8",
   "metadata": {},
   "outputs": [
    {
     "data": {
      "image/png": "[encoded data removed]",
      "text/plain": [
       "<Figure size 1080x720 with 4 Axes>"
      ]
     },
     "metadata": {
      "needs_background": "light"
     },
     "output_type": "display_data"
    }
   ],
   "source": [
    "# outliers analysis\n",
    "fig,ax = plt.subplots(2,2,figsize = (15,10))\n",
    "cols = [\"bmi\",\"charges\",\"age\",\"children\"]\n",
    "index = 0\n",
    "for i in range(2):\n",
    "    for j in range(2):\n",
    "        sns.boxplot(x = df[cols[index]], ax=ax[i][j])\n",
    "        index+=1"
   ]
  },
  {
   "cell_type": "code",
   "execution_count": 70,
   "id": "4499cb5c",
   "metadata": {},
   "outputs": [
    {
     "data": {
      "image/png": "[encoded data removed]",
      "text/plain": [
       "<Figure size 1080x720 with 4 Axes>"
      ]
     },
     "metadata": {
      "needs_background": "light"
     },
     "output_type": "display_data"
    }
   ],
   "source": [
    "fig,ax = plt.subplots(2,2,figsize = (15,10))\n",
    "cols = [\"bmi\",\"charges\",\"age\",\"children\"]\n",
    "index = 0\n",
    "for i in range(2):\n",
    "    for j in range(2):\n",
    "        sns.kdeplot(x = df[cols[index]], ax=ax[i][j] , color = \"blue\")\n",
    "        index+=1"
   ]
  },
  {
   "cell_type": "code",
   "execution_count": 71,
   "id": "ea718973",
   "metadata": {},
   "outputs": [
    {
     "data": {
      "text/plain": [
       "(188, 7)"
      ]
     },
     "execution_count": 71,
     "metadata": {},
     "output_type": "execute_result"
    }
   ],
   "source": [
    " df[df[\"charges\"]>30000].shape"
   ]
  },
  {
   "cell_type": "code",
   "execution_count": 72,
   "id": "450d2e95",
   "metadata": {},
   "outputs": [],
   "source": [
    "for i in [\"bmi\",\"charges\",\"age\",\"children\"]:\n",
    "    q1 = df[i].quantile(0.25)\n",
    "    q3 = df[i].quantile(0.75)\n",
    "    IQR = q3-q1\n",
    "    df = df[(df[i]>=(q1-1.5*IQR)) & (df[i]<=(q3+1.5*IQR))]"
   ]
  },
  {
   "cell_type": "code",
   "execution_count": 73,
   "id": "30584883",
   "metadata": {},
   "outputs": [
    {
     "data": {
      "text/html": [
       "<div>\n",
       "<style scoped>\n",
       "    .dataframe tbody tr th:only-of-type {\n",
       "        vertical-align: middle;\n",
       "    }\n",
       "\n",
       "    .dataframe tbody tr th {\n",
       "        vertical-align: top;\n",
       "    }\n",
       "\n",
       "    .dataframe thead th {\n",
       "        text-align: right;\n",
       "    }\n",
       "</style>\n",
       "<table border=\"1\" class=\"dataframe\">\n",
       "  <thead>\n",
       "    <tr style=\"text-align: right;\">\n",
       "      <th></th>\n",
       "      <th>age</th>\n",
       "      <th>sex</th>\n",
       "      <th>bmi</th>\n",
       "      <th>children</th>\n",
       "      <th>smoker</th>\n",
       "      <th>region</th>\n",
       "      <th>charges</th>\n",
       "    </tr>\n",
       "  </thead>\n",
       "  <tbody>\n",
       "    <tr>\n",
       "      <th>0</th>\n",
       "      <td>19.0</td>\n",
       "      <td>female</td>\n",
       "      <td>27.900</td>\n",
       "      <td>0.0</td>\n",
       "      <td>yes</td>\n",
       "      <td>southwest</td>\n",
       "      <td>16884.92400</td>\n",
       "    </tr>\n",
       "    <tr>\n",
       "      <th>1</th>\n",
       "      <td>18.0</td>\n",
       "      <td>male</td>\n",
       "      <td>33.770</td>\n",
       "      <td>1.0</td>\n",
       "      <td>no</td>\n",
       "      <td>southeast</td>\n",
       "      <td>1725.55230</td>\n",
       "    </tr>\n",
       "    <tr>\n",
       "      <th>2</th>\n",
       "      <td>28.0</td>\n",
       "      <td>male</td>\n",
       "      <td>33.000</td>\n",
       "      <td>3.0</td>\n",
       "      <td>no</td>\n",
       "      <td>southeast</td>\n",
       "      <td>4449.46200</td>\n",
       "    </tr>\n",
       "    <tr>\n",
       "      <th>3</th>\n",
       "      <td>33.0</td>\n",
       "      <td>male</td>\n",
       "      <td>22.705</td>\n",
       "      <td>0.0</td>\n",
       "      <td>no</td>\n",
       "      <td>northwest</td>\n",
       "      <td>21984.47061</td>\n",
       "    </tr>\n",
       "    <tr>\n",
       "      <th>4</th>\n",
       "      <td>32.0</td>\n",
       "      <td>male</td>\n",
       "      <td>28.880</td>\n",
       "      <td>0.0</td>\n",
       "      <td>no</td>\n",
       "      <td>northwest</td>\n",
       "      <td>3866.85520</td>\n",
       "    </tr>\n",
       "    <tr>\n",
       "      <th>...</th>\n",
       "      <td>...</td>\n",
       "      <td>...</td>\n",
       "      <td>...</td>\n",
       "      <td>...</td>\n",
       "      <td>...</td>\n",
       "      <td>...</td>\n",
       "      <td>...</td>\n",
       "    </tr>\n",
       "    <tr>\n",
       "      <th>1558</th>\n",
       "      <td>42.0</td>\n",
       "      <td>male</td>\n",
       "      <td>20.300</td>\n",
       "      <td>3.0</td>\n",
       "      <td>no</td>\n",
       "      <td>southwest</td>\n",
       "      <td>1984.45330</td>\n",
       "    </tr>\n",
       "    <tr>\n",
       "      <th>1559</th>\n",
       "      <td>48.0</td>\n",
       "      <td>male</td>\n",
       "      <td>35.300</td>\n",
       "      <td>0.0</td>\n",
       "      <td>no</td>\n",
       "      <td>southwest</td>\n",
       "      <td>2457.50200</td>\n",
       "    </tr>\n",
       "    <tr>\n",
       "      <th>1560</th>\n",
       "      <td>39.0</td>\n",
       "      <td>male</td>\n",
       "      <td>24.320</td>\n",
       "      <td>0.0</td>\n",
       "      <td>no</td>\n",
       "      <td>southeast</td>\n",
       "      <td>12146.97100</td>\n",
       "    </tr>\n",
       "    <tr>\n",
       "      <th>1561</th>\n",
       "      <td>63.0</td>\n",
       "      <td>male</td>\n",
       "      <td>18.500</td>\n",
       "      <td>0.0</td>\n",
       "      <td>no</td>\n",
       "      <td>southwest</td>\n",
       "      <td>9566.99090</td>\n",
       "    </tr>\n",
       "    <tr>\n",
       "      <th>1562</th>\n",
       "      <td>54.0</td>\n",
       "      <td>female</td>\n",
       "      <td>26.410</td>\n",
       "      <td>4.0</td>\n",
       "      <td>no</td>\n",
       "      <td>northeast</td>\n",
       "      <td>13112.60480</td>\n",
       "    </tr>\n",
       "  </tbody>\n",
       "</table>\n",
       "<p>1372 rows × 7 columns</p>\n",
       "</div>"
      ],
      "text/plain": [
       "       age     sex     bmi  children smoker     region      charges\n",
       "0     19.0  female  27.900       0.0    yes  southwest  16884.92400\n",
       "1     18.0    male  33.770       1.0     no  southeast   1725.55230\n",
       "2     28.0    male  33.000       3.0     no  southeast   4449.46200\n",
       "3     33.0    male  22.705       0.0     no  northwest  21984.47061\n",
       "4     32.0    male  28.880       0.0     no  northwest   3866.85520\n",
       "...    ...     ...     ...       ...    ...        ...          ...\n",
       "1558  42.0    male  20.300       3.0     no  southwest   1984.45330\n",
       "1559  48.0    male  35.300       0.0     no  southwest   2457.50200\n",
       "1560  39.0    male  24.320       0.0     no  southeast  12146.97100\n",
       "1561  63.0    male  18.500       0.0     no  southwest   9566.99090\n",
       "1562  54.0  female  26.410       4.0     no  northeast  13112.60480\n",
       "\n",
       "[1372 rows x 7 columns]"
      ]
     },
     "execution_count": 73,
     "metadata": {},
     "output_type": "execute_result"
    }
   ],
   "source": [
    "df"
   ]
  },
  {
   "cell_type": "code",
   "execution_count": 74,
   "id": "6e5690c7",
   "metadata": {},
   "outputs": [
    {
     "data": {
      "image/png": "[encoded data removed]",
      "text/plain": [
       "<Figure size 1080x720 with 4 Axes>"
      ]
     },
     "metadata": {
      "needs_background": "light"
     },
     "output_type": "display_data"
    }
   ],
   "source": [
    "fig,ax = plt.subplots(2,2,figsize = (15,10))\n",
    "cols = [\"bmi\",\"charges\",\"age\",\"children\"]\n",
    "index = 0\n",
    "for i in range(2):\n",
    "    for j in range(2):\n",
    "        sns.kdeplot(x = df[cols[index]], ax=ax[i][j] , color = \"blue\")\n",
    "        index+=1"
   ]
  },
  {
   "cell_type": "code",
   "execution_count": 75,
   "id": "463b5124",
   "metadata": {},
   "outputs": [],
   "source": [
    "for i in [\"sex\",\"smoker\",\"region\"]:\n",
    "    df = pd.get_dummies(data = df,columns = [i],drop_first=True)"
   ]
  },
  {
   "cell_type": "code",
   "execution_count": 429,
   "id": "40a82a9e",
   "metadata": {},
   "outputs": [
    {
     "data": {
      "text/html": [
       "<div>\n",
       "<style scoped>\n",
       "    .dataframe tbody tr th:only-of-type {\n",
       "        vertical-align: middle;\n",
       "    }\n",
       "\n",
       "    .dataframe tbody tr th {\n",
       "        vertical-align: top;\n",
       "    }\n",
       "\n",
       "    .dataframe thead th {\n",
       "        text-align: right;\n",
       "    }\n",
       "</style>\n",
       "<table border=\"1\" class=\"dataframe\">\n",
       "  <thead>\n",
       "    <tr style=\"text-align: right;\">\n",
       "      <th></th>\n",
       "      <th>age</th>\n",
       "      <th>bmi</th>\n",
       "      <th>children</th>\n",
       "      <th>charges</th>\n",
       "      <th>sex_male</th>\n",
       "      <th>smoker_yes</th>\n",
       "      <th>region_northwest</th>\n",
       "      <th>region_southeast</th>\n",
       "      <th>region_southwest</th>\n",
       "    </tr>\n",
       "  </thead>\n",
       "  <tbody>\n",
       "    <tr>\n",
       "      <th>0</th>\n",
       "      <td>19.0</td>\n",
       "      <td>27.900</td>\n",
       "      <td>0.0</td>\n",
       "      <td>16884.92400</td>\n",
       "      <td>0</td>\n",
       "      <td>1</td>\n",
       "      <td>0</td>\n",
       "      <td>0</td>\n",
       "      <td>1</td>\n",
       "    </tr>\n",
       "    <tr>\n",
       "      <th>1</th>\n",
       "      <td>18.0</td>\n",
       "      <td>33.770</td>\n",
       "      <td>1.0</td>\n",
       "      <td>1725.55230</td>\n",
       "      <td>1</td>\n",
       "      <td>0</td>\n",
       "      <td>0</td>\n",
       "      <td>1</td>\n",
       "      <td>0</td>\n",
       "    </tr>\n",
       "    <tr>\n",
       "      <th>2</th>\n",
       "      <td>28.0</td>\n",
       "      <td>33.000</td>\n",
       "      <td>3.0</td>\n",
       "      <td>4449.46200</td>\n",
       "      <td>1</td>\n",
       "      <td>0</td>\n",
       "      <td>0</td>\n",
       "      <td>1</td>\n",
       "      <td>0</td>\n",
       "    </tr>\n",
       "    <tr>\n",
       "      <th>3</th>\n",
       "      <td>33.0</td>\n",
       "      <td>22.705</td>\n",
       "      <td>0.0</td>\n",
       "      <td>21984.47061</td>\n",
       "      <td>1</td>\n",
       "      <td>0</td>\n",
       "      <td>1</td>\n",
       "      <td>0</td>\n",
       "      <td>0</td>\n",
       "    </tr>\n",
       "    <tr>\n",
       "      <th>4</th>\n",
       "      <td>32.0</td>\n",
       "      <td>28.880</td>\n",
       "      <td>0.0</td>\n",
       "      <td>3866.85520</td>\n",
       "      <td>1</td>\n",
       "      <td>0</td>\n",
       "      <td>1</td>\n",
       "      <td>0</td>\n",
       "      <td>0</td>\n",
       "    </tr>\n",
       "    <tr>\n",
       "      <th>...</th>\n",
       "      <td>...</td>\n",
       "      <td>...</td>\n",
       "      <td>...</td>\n",
       "      <td>...</td>\n",
       "      <td>...</td>\n",
       "      <td>...</td>\n",
       "      <td>...</td>\n",
       "      <td>...</td>\n",
       "      <td>...</td>\n",
       "    </tr>\n",
       "    <tr>\n",
       "      <th>1558</th>\n",
       "      <td>42.0</td>\n",
       "      <td>20.300</td>\n",
       "      <td>3.0</td>\n",
       "      <td>1984.45330</td>\n",
       "      <td>1</td>\n",
       "      <td>0</td>\n",
       "      <td>0</td>\n",
       "      <td>0</td>\n",
       "      <td>1</td>\n",
       "    </tr>\n",
       "    <tr>\n",
       "      <th>1559</th>\n",
       "      <td>48.0</td>\n",
       "      <td>35.300</td>\n",
       "      <td>0.0</td>\n",
       "      <td>2457.50200</td>\n",
       "      <td>1</td>\n",
       "      <td>0</td>\n",
       "      <td>0</td>\n",
       "      <td>0</td>\n",
       "      <td>1</td>\n",
       "    </tr>\n",
       "    <tr>\n",
       "      <th>1560</th>\n",
       "      <td>39.0</td>\n",
       "      <td>24.320</td>\n",
       "      <td>0.0</td>\n",
       "      <td>12146.97100</td>\n",
       "      <td>1</td>\n",
       "      <td>0</td>\n",
       "      <td>0</td>\n",
       "      <td>1</td>\n",
       "      <td>0</td>\n",
       "    </tr>\n",
       "    <tr>\n",
       "      <th>1561</th>\n",
       "      <td>63.0</td>\n",
       "      <td>18.500</td>\n",
       "      <td>0.0</td>\n",
       "      <td>9566.99090</td>\n",
       "      <td>1</td>\n",
       "      <td>0</td>\n",
       "      <td>0</td>\n",
       "      <td>0</td>\n",
       "      <td>1</td>\n",
       "    </tr>\n",
       "    <tr>\n",
       "      <th>1562</th>\n",
       "      <td>54.0</td>\n",
       "      <td>26.410</td>\n",
       "      <td>4.0</td>\n",
       "      <td>13112.60480</td>\n",
       "      <td>0</td>\n",
       "      <td>0</td>\n",
       "      <td>0</td>\n",
       "      <td>0</td>\n",
       "      <td>0</td>\n",
       "    </tr>\n",
       "  </tbody>\n",
       "</table>\n",
       "<p>1372 rows × 9 columns</p>\n",
       "</div>"
      ],
      "text/plain": [
       "       age     bmi  children      charges  sex_male  smoker_yes  \\\n",
       "0     19.0  27.900       0.0  16884.92400         0           1   \n",
       "1     18.0  33.770       1.0   1725.55230         1           0   \n",
       "2     28.0  33.000       3.0   4449.46200         1           0   \n",
       "3     33.0  22.705       0.0  21984.47061         1           0   \n",
       "4     32.0  28.880       0.0   3866.85520         1           0   \n",
       "...    ...     ...       ...          ...       ...         ...   \n",
       "1558  42.0  20.300       3.0   1984.45330         1           0   \n",
       "1559  48.0  35.300       0.0   2457.50200         1           0   \n",
       "1560  39.0  24.320       0.0  12146.97100         1           0   \n",
       "1561  63.0  18.500       0.0   9566.99090         1           0   \n",
       "1562  54.0  26.410       4.0  13112.60480         0           0   \n",
       "\n",
       "      region_northwest  region_southeast  region_southwest  \n",
       "0                    0                 0                 1  \n",
       "1                    0                 1                 0  \n",
       "2                    0                 1                 0  \n",
       "3                    1                 0                 0  \n",
       "4                    1                 0                 0  \n",
       "...                ...               ...               ...  \n",
       "1558                 0                 0                 1  \n",
       "1559                 0                 0                 1  \n",
       "1560                 0                 1                 0  \n",
       "1561                 0                 0                 1  \n",
       "1562                 0                 0                 0  \n",
       "\n",
       "[1372 rows x 9 columns]"
      ]
     },
     "execution_count": 429,
     "metadata": {},
     "output_type": "execute_result"
    }
   ],
   "source": [
    "df"
   ]
  },
  {
   "cell_type": "code",
   "execution_count": 78,
   "id": "39ad21c7",
   "metadata": {},
   "outputs": [],
   "source": [
    "X = df.drop(\"charges\" , axis=1).values\n",
    "Y = df[[\"charges\"]].values"
   ]
  },
  {
   "cell_type": "code",
   "execution_count": 79,
   "id": "0a04c1c4",
   "metadata": {},
   "outputs": [],
   "source": [
    "from sklearn.model_selection import train_test_split\n",
    "X_train,X_test,Y_train,Y_test = train_test_split(X,Y,test_size = 0.2,random_state = 1)"
   ]
  },
  {
   "cell_type": "code",
   "execution_count": 84,
   "id": "0795075d",
   "metadata": {},
   "outputs": [],
   "source": [
    "from sklearn.preprocessing import StandardScaler\n",
    "sc = StandardScaler()\n",
    "X_train = sc.fit_transform(X_train)\n",
    "X_test = sc.transform(X_test)"
   ]
  },
  {
   "cell_type": "code",
   "execution_count": 85,
   "id": "33441420",
   "metadata": {},
   "outputs": [
    {
     "data": {
      "text/plain": [
       "LinearRegression()"
      ]
     },
     "execution_count": 85,
     "metadata": {},
     "output_type": "execute_result"
    }
   ],
   "source": [
    "from sklearn.linear_model import LinearRegression \n",
    "le = LinearRegression()\n",
    "le.fit(X_train,Y_train)\n"
   ]
  },
  {
   "cell_type": "code",
   "execution_count": 86,
   "id": "0eafb6e4",
   "metadata": {},
   "outputs": [
    {
     "data": {
      "text/plain": [
       "array([[2887.68424622,  353.10881157,  462.79026291,    8.53202206,\n",
       "        3389.824911  , -364.76949292, -534.00541221, -579.59010872]])"
      ]
     },
     "execution_count": 86,
     "metadata": {},
     "output_type": "execute_result"
    }
   ],
   "source": [
    "le.coef_"
   ]
  },
  {
   "cell_type": "code",
   "execution_count": 87,
   "id": "f6754b10",
   "metadata": {},
   "outputs": [
    {
     "data": {
      "text/plain": [
       "array([9674.31063568])"
      ]
     },
     "execution_count": 87,
     "metadata": {},
     "output_type": "execute_result"
    }
   ],
   "source": [
    "le.intercept_"
   ]
  },
  {
   "cell_type": "code",
   "execution_count": 88,
   "id": "53dc1113",
   "metadata": {},
   "outputs": [],
   "source": [
    "Y_pred = le.predict(X_test)"
   ]
  },
  {
   "cell_type": "code",
   "execution_count": 89,
   "id": "c397c399",
   "metadata": {},
   "outputs": [
    {
     "data": {
      "text/plain": [
       "23683263.044717163"
      ]
     },
     "execution_count": 89,
     "metadata": {},
     "output_type": "execute_result"
    }
   ],
   "source": [
    "from sklearn import metrics\n",
    "metrics.mean_squared_error(Y_test,Y_pred)"
   ]
  },
  {
   "cell_type": "code",
   "execution_count": 90,
   "id": "909e7691",
   "metadata": {},
   "outputs": [
    {
     "data": {
      "text/plain": [
       "0.48225340422262875"
      ]
     },
     "execution_count": 90,
     "metadata": {},
     "output_type": "execute_result"
    }
   ],
   "source": [
    "# test accuracy\n",
    "metrics.r2_score(Y_test,Y_pred)"
   ]
  },
  {
   "cell_type": "code",
   "execution_count": 91,
   "id": "7c08bc54",
   "metadata": {},
   "outputs": [],
   "source": [
    "Y_pred_train = le.predict(X_train)"
   ]
  },
  {
   "cell_type": "code",
   "execution_count": 92,
   "id": "ea1dbc5c",
   "metadata": {},
   "outputs": [
    {
     "data": {
      "text/plain": [
       "0.403967546625318"
      ]
     },
     "execution_count": 92,
     "metadata": {},
     "output_type": "execute_result"
    }
   ],
   "source": [
    "# train accuracy\n",
    "metrics.r2_score(Y_train,Y_pred_train)"
   ]
  },
  {
   "cell_type": "code",
   "execution_count": 93,
   "id": "9287255b",
   "metadata": {},
   "outputs": [
    {
     "data": {
      "text/html": [
       "<div>\n",
       "<style scoped>\n",
       "    .dataframe tbody tr th:only-of-type {\n",
       "        vertical-align: middle;\n",
       "    }\n",
       "\n",
       "    .dataframe tbody tr th {\n",
       "        vertical-align: top;\n",
       "    }\n",
       "\n",
       "    .dataframe thead th {\n",
       "        text-align: right;\n",
       "    }\n",
       "</style>\n",
       "<table border=\"1\" class=\"dataframe\">\n",
       "  <thead>\n",
       "    <tr style=\"text-align: right;\">\n",
       "      <th></th>\n",
       "      <th>age</th>\n",
       "      <th>bmi</th>\n",
       "      <th>children</th>\n",
       "      <th>charges</th>\n",
       "      <th>sex_male</th>\n",
       "      <th>smoker_yes</th>\n",
       "      <th>region_northwest</th>\n",
       "      <th>region_southeast</th>\n",
       "      <th>region_southwest</th>\n",
       "    </tr>\n",
       "  </thead>\n",
       "  <tbody>\n",
       "    <tr>\n",
       "      <th>age</th>\n",
       "      <td>1.000000</td>\n",
       "      <td>0.108805</td>\n",
       "      <td>0.039140</td>\n",
       "      <td>0.413281</td>\n",
       "      <td>-0.016709</td>\n",
       "      <td>-0.052321</td>\n",
       "      <td>-0.000551</td>\n",
       "      <td>-0.003469</td>\n",
       "      <td>0.001311</td>\n",
       "    </tr>\n",
       "    <tr>\n",
       "      <th>bmi</th>\n",
       "      <td>0.108805</td>\n",
       "      <td>1.000000</td>\n",
       "      <td>0.010886</td>\n",
       "      <td>-0.047801</td>\n",
       "      <td>0.021533</td>\n",
       "      <td>-0.228525</td>\n",
       "      <td>-0.095111</td>\n",
       "      <td>0.196960</td>\n",
       "      <td>-0.010033</td>\n",
       "    </tr>\n",
       "    <tr>\n",
       "      <th>children</th>\n",
       "      <td>0.039140</td>\n",
       "      <td>0.010886</td>\n",
       "      <td>1.000000</td>\n",
       "      <td>0.095275</td>\n",
       "      <td>0.032868</td>\n",
       "      <td>0.022144</td>\n",
       "      <td>0.012110</td>\n",
       "      <td>-0.019186</td>\n",
       "      <td>0.016991</td>\n",
       "    </tr>\n",
       "    <tr>\n",
       "      <th>charges</th>\n",
       "      <td>0.413281</td>\n",
       "      <td>-0.047801</td>\n",
       "      <td>0.095275</td>\n",
       "      <td>1.000000</td>\n",
       "      <td>-0.016294</td>\n",
       "      <td>0.468849</td>\n",
       "      <td>0.021343</td>\n",
       "      <td>-0.015354</td>\n",
       "      <td>-0.069171</td>\n",
       "    </tr>\n",
       "    <tr>\n",
       "      <th>sex_male</th>\n",
       "      <td>-0.016709</td>\n",
       "      <td>0.021533</td>\n",
       "      <td>0.032868</td>\n",
       "      <td>-0.016294</td>\n",
       "      <td>1.000000</td>\n",
       "      <td>0.002655</td>\n",
       "      <td>-0.002403</td>\n",
       "      <td>-0.022682</td>\n",
       "      <td>0.012625</td>\n",
       "    </tr>\n",
       "    <tr>\n",
       "      <th>smoker_yes</th>\n",
       "      <td>-0.052321</td>\n",
       "      <td>-0.228525</td>\n",
       "      <td>0.022144</td>\n",
       "      <td>0.468849</td>\n",
       "      <td>0.002655</td>\n",
       "      <td>1.000000</td>\n",
       "      <td>0.044274</td>\n",
       "      <td>-0.004483</td>\n",
       "      <td>-0.060490</td>\n",
       "    </tr>\n",
       "    <tr>\n",
       "      <th>region_northwest</th>\n",
       "      <td>-0.000551</td>\n",
       "      <td>-0.095111</td>\n",
       "      <td>0.012110</td>\n",
       "      <td>0.021343</td>\n",
       "      <td>-0.002403</td>\n",
       "      <td>0.044274</td>\n",
       "      <td>1.000000</td>\n",
       "      <td>-0.337227</td>\n",
       "      <td>-0.336573</td>\n",
       "    </tr>\n",
       "    <tr>\n",
       "      <th>region_southeast</th>\n",
       "      <td>-0.003469</td>\n",
       "      <td>0.196960</td>\n",
       "      <td>-0.019186</td>\n",
       "      <td>-0.015354</td>\n",
       "      <td>-0.022682</td>\n",
       "      <td>-0.004483</td>\n",
       "      <td>-0.337227</td>\n",
       "      <td>1.000000</td>\n",
       "      <td>-0.333981</td>\n",
       "    </tr>\n",
       "    <tr>\n",
       "      <th>region_southwest</th>\n",
       "      <td>0.001311</td>\n",
       "      <td>-0.010033</td>\n",
       "      <td>0.016991</td>\n",
       "      <td>-0.069171</td>\n",
       "      <td>0.012625</td>\n",
       "      <td>-0.060490</td>\n",
       "      <td>-0.336573</td>\n",
       "      <td>-0.333981</td>\n",
       "      <td>1.000000</td>\n",
       "    </tr>\n",
       "  </tbody>\n",
       "</table>\n",
       "</div>"
      ],
      "text/plain": [
       "                       age       bmi  children   charges  sex_male  \\\n",
       "age               1.000000  0.108805  0.039140  0.413281 -0.016709   \n",
       "bmi               0.108805  1.000000  0.010886 -0.047801  0.021533   \n",
       "children          0.039140  0.010886  1.000000  0.095275  0.032868   \n",
       "charges           0.413281 -0.047801  0.095275  1.000000 -0.016294   \n",
       "sex_male         -0.016709  0.021533  0.032868 -0.016294  1.000000   \n",
       "smoker_yes       -0.052321 -0.228525  0.022144  0.468849  0.002655   \n",
       "region_northwest -0.000551 -0.095111  0.012110  0.021343 -0.002403   \n",
       "region_southeast -0.003469  0.196960 -0.019186 -0.015354 -0.022682   \n",
       "region_southwest  0.001311 -0.010033  0.016991 -0.069171  0.012625   \n",
       "\n",
       "                  smoker_yes  region_northwest  region_southeast  \\\n",
       "age                -0.052321         -0.000551         -0.003469   \n",
       "bmi                -0.228525         -0.095111          0.196960   \n",
       "children            0.022144          0.012110         -0.019186   \n",
       "charges             0.468849          0.021343         -0.015354   \n",
       "sex_male            0.002655         -0.002403         -0.022682   \n",
       "smoker_yes          1.000000          0.044274         -0.004483   \n",
       "region_northwest    0.044274          1.000000         -0.337227   \n",
       "region_southeast   -0.004483         -0.337227          1.000000   \n",
       "region_southwest   -0.060490         -0.336573         -0.333981   \n",
       "\n",
       "                  region_southwest  \n",
       "age                       0.001311  \n",
       "bmi                      -0.010033  \n",
       "children                  0.016991  \n",
       "charges                  -0.069171  \n",
       "sex_male                  0.012625  \n",
       "smoker_yes               -0.060490  \n",
       "region_northwest         -0.336573  \n",
       "region_southeast         -0.333981  \n",
       "region_southwest          1.000000  "
      ]
     },
     "execution_count": 93,
     "metadata": {},
     "output_type": "execute_result"
    }
   ],
   "source": [
    "df.corr()"
   ]
  }
 ],
 "metadata": {
  "kernelspec": {
   "display_name": "Python 3 (ipykernel)",
   "language": "python",
   "name": "python3"
  },
  "language_info": {
   "codemirror_mode": {
    "name": "ipython",
    "version": 3
   },
   "file_extension": ".py",
   "mimetype": "text/x-python",
   "name": "python",
   "nbconvert_exporter": "python",
   "pygments_lexer": "ipython3",
   "version": "3.9.12"
  }
 },
 "nbformat": 4,
 "nbformat_minor": 5
}
