{
 "cells": [
  {
   "cell_type": "code",
   "execution_count": 77,
   "id": "69ca3f62",
   "metadata": {},
   "outputs": [],
   "source": [
    "# importing library\n",
    "import numpy as np\n",
    "import pandas as pd\n",
    "import matplotlib.pyplot as plt\n",
    "import seaborn as sns\n",
    "%matplotlib inline"
   ]
  },
  {
   "cell_type": "code",
   "execution_count": 78,
   "id": "56edb286",
   "metadata": {},
   "outputs": [],
   "source": [
    "# load dataset\n",
    "df = pd.read_csv(\"C:/Users/NOOMAN KHAN/Downloads/used-car-data - train-data.csv\")"
   ]
  },
  {
   "cell_type": "code",
   "execution_count": 79,
   "id": "16b791dc",
   "metadata": {},
   "outputs": [
    {
     "data": {
      "text/html": [
       "<div>\n",
       "<style scoped>\n",
       "    .dataframe tbody tr th:only-of-type {\n",
       "        vertical-align: middle;\n",
       "    }\n",
       "\n",
       "    .dataframe tbody tr th {\n",
       "        vertical-align: top;\n",
       "    }\n",
       "\n",
       "    .dataframe thead th {\n",
       "        text-align: right;\n",
       "    }\n",
       "</style>\n",
       "<table border=\"1\" class=\"dataframe\">\n",
       "  <thead>\n",
       "    <tr style=\"text-align: right;\">\n",
       "      <th></th>\n",
       "      <th>Name</th>\n",
       "      <th>Location</th>\n",
       "      <th>Year</th>\n",
       "      <th>Kilometers_Driven</th>\n",
       "      <th>Fuel_Type</th>\n",
       "      <th>Transmission</th>\n",
       "      <th>Owner_Type</th>\n",
       "      <th>Mileage</th>\n",
       "      <th>Engine</th>\n",
       "      <th>Power</th>\n",
       "      <th>Seats</th>\n",
       "      <th>New_Price</th>\n",
       "      <th>Price</th>\n",
       "    </tr>\n",
       "  </thead>\n",
       "  <tbody>\n",
       "    <tr>\n",
       "      <th>0</th>\n",
       "      <td>Maruti Wagon R LXI CNG</td>\n",
       "      <td>Mumbai</td>\n",
       "      <td>2010</td>\n",
       "      <td>72000</td>\n",
       "      <td>CNG</td>\n",
       "      <td>Manual</td>\n",
       "      <td>First</td>\n",
       "      <td>26.6 km/kg</td>\n",
       "      <td>998 CC</td>\n",
       "      <td>58.16 bhp</td>\n",
       "      <td>5.0</td>\n",
       "      <td>NaN</td>\n",
       "      <td>1.75</td>\n",
       "    </tr>\n",
       "    <tr>\n",
       "      <th>1</th>\n",
       "      <td>Hyundai Creta 1.6 CRDi SX Option</td>\n",
       "      <td>Pune</td>\n",
       "      <td>2015</td>\n",
       "      <td>41000</td>\n",
       "      <td>Diesel</td>\n",
       "      <td>Manual</td>\n",
       "      <td>First</td>\n",
       "      <td>19.67 kmpl</td>\n",
       "      <td>1582 CC</td>\n",
       "      <td>126.2 bhp</td>\n",
       "      <td>5.0</td>\n",
       "      <td>NaN</td>\n",
       "      <td>12.50</td>\n",
       "    </tr>\n",
       "    <tr>\n",
       "      <th>2</th>\n",
       "      <td>Honda Jazz V</td>\n",
       "      <td>Chennai</td>\n",
       "      <td>2011</td>\n",
       "      <td>46000</td>\n",
       "      <td>Petrol</td>\n",
       "      <td>Manual</td>\n",
       "      <td>First</td>\n",
       "      <td>18.2 kmpl</td>\n",
       "      <td>1199 CC</td>\n",
       "      <td>88.7 bhp</td>\n",
       "      <td>5.0</td>\n",
       "      <td>8.61 Lakh</td>\n",
       "      <td>4.50</td>\n",
       "    </tr>\n",
       "    <tr>\n",
       "      <th>3</th>\n",
       "      <td>Maruti Ertiga VDI</td>\n",
       "      <td>Chennai</td>\n",
       "      <td>2012</td>\n",
       "      <td>87000</td>\n",
       "      <td>Diesel</td>\n",
       "      <td>Manual</td>\n",
       "      <td>First</td>\n",
       "      <td>20.77 kmpl</td>\n",
       "      <td>1248 CC</td>\n",
       "      <td>88.76 bhp</td>\n",
       "      <td>7.0</td>\n",
       "      <td>NaN</td>\n",
       "      <td>6.00</td>\n",
       "    </tr>\n",
       "    <tr>\n",
       "      <th>4</th>\n",
       "      <td>Audi A4 New 2.0 TDI Multitronic</td>\n",
       "      <td>Coimbatore</td>\n",
       "      <td>2013</td>\n",
       "      <td>40670</td>\n",
       "      <td>Diesel</td>\n",
       "      <td>Automatic</td>\n",
       "      <td>Second</td>\n",
       "      <td>15.2 kmpl</td>\n",
       "      <td>1968 CC</td>\n",
       "      <td>140.8 bhp</td>\n",
       "      <td>5.0</td>\n",
       "      <td>NaN</td>\n",
       "      <td>17.74</td>\n",
       "    </tr>\n",
       "  </tbody>\n",
       "</table>\n",
       "</div>"
      ],
      "text/plain": [
       "                               Name    Location  Year  Kilometers_Driven  \\\n",
       "0            Maruti Wagon R LXI CNG      Mumbai  2010              72000   \n",
       "1  Hyundai Creta 1.6 CRDi SX Option        Pune  2015              41000   \n",
       "2                      Honda Jazz V     Chennai  2011              46000   \n",
       "3                 Maruti Ertiga VDI     Chennai  2012              87000   \n",
       "4   Audi A4 New 2.0 TDI Multitronic  Coimbatore  2013              40670   \n",
       "\n",
       "  Fuel_Type Transmission Owner_Type     Mileage   Engine      Power  Seats  \\\n",
       "0       CNG       Manual      First  26.6 km/kg   998 CC  58.16 bhp    5.0   \n",
       "1    Diesel       Manual      First  19.67 kmpl  1582 CC  126.2 bhp    5.0   \n",
       "2    Petrol       Manual      First   18.2 kmpl  1199 CC   88.7 bhp    5.0   \n",
       "3    Diesel       Manual      First  20.77 kmpl  1248 CC  88.76 bhp    7.0   \n",
       "4    Diesel    Automatic     Second   15.2 kmpl  1968 CC  140.8 bhp    5.0   \n",
       "\n",
       "   New_Price  Price  \n",
       "0        NaN   1.75  \n",
       "1        NaN  12.50  \n",
       "2  8.61 Lakh   4.50  \n",
       "3        NaN   6.00  \n",
       "4        NaN  17.74  "
      ]
     },
     "execution_count": 79,
     "metadata": {},
     "output_type": "execute_result"
    }
   ],
   "source": [
    "df.head()"
   ]
  },
  {
   "cell_type": "code",
   "execution_count": 80,
   "id": "8f025b8d",
   "metadata": {},
   "outputs": [
    {
     "name": "stdout",
     "output_type": "stream",
     "text": [
      "<class 'pandas.core.frame.DataFrame'>\n",
      "RangeIndex: 6019 entries, 0 to 6018\n",
      "Data columns (total 13 columns):\n",
      " #   Column             Non-Null Count  Dtype  \n",
      "---  ------             --------------  -----  \n",
      " 0   Name               6019 non-null   object \n",
      " 1   Location           6019 non-null   object \n",
      " 2   Year               6019 non-null   int64  \n",
      " 3   Kilometers_Driven  6019 non-null   int64  \n",
      " 4   Fuel_Type          6019 non-null   object \n",
      " 5   Transmission       6019 non-null   object \n",
      " 6   Owner_Type         6019 non-null   object \n",
      " 7   Mileage            6017 non-null   object \n",
      " 8   Engine             5983 non-null   object \n",
      " 9   Power              5983 non-null   object \n",
      " 10  Seats              5977 non-null   float64\n",
      " 11  New_Price          824 non-null    object \n",
      " 12  Price              6019 non-null   float64\n",
      "dtypes: float64(2), int64(2), object(9)\n",
      "memory usage: 611.4+ KB\n"
     ]
    }
   ],
   "source": [
    "# datatype of each column\n",
    "df.info()"
   ]
  },
  {
   "cell_type": "markdown",
   "id": "015e87da",
   "metadata": {},
   "source": [
    "Q1. Clean the data and remove the noise values from the data"
   ]
  },
  {
   "cell_type": "code",
   "execution_count": 81,
   "id": "35e6bfa1",
   "metadata": {},
   "outputs": [
    {
     "data": {
      "text/plain": [
       "array(['Maruti Wagon R LXI CNG', 'Hyundai Creta 1.6 CRDi SX Option',\n",
       "       'Honda Jazz V', ..., 'Volkswagen Polo IPL II 1.2 Petrol Highline',\n",
       "       'Tata Bolt Revotron XT', 'Mahindra Xylo D4 BSIV'], dtype=object)"
      ]
     },
     "execution_count": 81,
     "metadata": {},
     "output_type": "execute_result"
    }
   ],
   "source": [
    "df[\"Name\"].unique()"
   ]
  },
  {
   "cell_type": "code",
   "execution_count": 82,
   "id": "dc983758",
   "metadata": {},
   "outputs": [
    {
     "data": {
      "text/plain": [
       "array(['Mumbai', 'Pune', 'Chennai', 'Coimbatore', 'Hyderabad', 'Jaipur',\n",
       "       'Kochi', 'Kolkata', 'Delhi', 'Bangalore', 'Ahmedabad'],\n",
       "      dtype=object)"
      ]
     },
     "execution_count": 82,
     "metadata": {},
     "output_type": "execute_result"
    }
   ],
   "source": [
    "df[\"Location\"].unique()"
   ]
  },
  {
   "cell_type": "code",
   "execution_count": 83,
   "id": "acf30e73",
   "metadata": {},
   "outputs": [
    {
     "data": {
      "text/plain": [
       "array([2010, 2015, 2011, 2012, 2013, 2016, 2018, 2014, 2017, 2007, 2009,\n",
       "       2008, 2019, 2006, 2005, 2004, 2002, 2000, 2003, 1999, 2001, 1998],\n",
       "      dtype=int64)"
      ]
     },
     "execution_count": 83,
     "metadata": {},
     "output_type": "execute_result"
    }
   ],
   "source": [
    "df[\"Year\"].unique()"
   ]
  },
  {
   "cell_type": "code",
   "execution_count": 84,
   "id": "777e4b17",
   "metadata": {},
   "outputs": [],
   "source": [
    "df[\"Kilometers_Driven\"]  = pd.to_numeric(df[\"Kilometers_Driven\"] , errors = \"coerce\")"
   ]
  },
  {
   "cell_type": "code",
   "execution_count": 85,
   "id": "2cdd95c6",
   "metadata": {},
   "outputs": [
    {
     "data": {
      "text/plain": [
       "array(['CNG', 'Diesel', 'Petrol', 'LPG', 'Electric'], dtype=object)"
      ]
     },
     "execution_count": 85,
     "metadata": {},
     "output_type": "execute_result"
    }
   ],
   "source": [
    "df[\"Fuel_Type\"].unique()"
   ]
  },
  {
   "cell_type": "code",
   "execution_count": 86,
   "id": "088b0045",
   "metadata": {},
   "outputs": [
    {
     "data": {
      "text/plain": [
       "array(['Manual', 'Automatic'], dtype=object)"
      ]
     },
     "execution_count": 86,
     "metadata": {},
     "output_type": "execute_result"
    }
   ],
   "source": [
    "df[\"Transmission\"].unique()"
   ]
  },
  {
   "cell_type": "code",
   "execution_count": 87,
   "id": "ae5def52",
   "metadata": {},
   "outputs": [
    {
     "data": {
      "text/plain": [
       "array(['First', 'Second', 'Fourth & Above', 'Third'], dtype=object)"
      ]
     },
     "execution_count": 87,
     "metadata": {},
     "output_type": "execute_result"
    }
   ],
   "source": [
    "df[\"Owner_Type\"].unique()"
   ]
  },
  {
   "cell_type": "markdown",
   "id": "7efc1c2d",
   "metadata": {},
   "source": [
    "Q7. Take only the numerical value of mileage, engine, and power columns."
   ]
  },
  {
   "cell_type": "code",
   "execution_count": 88,
   "id": "d6c81767",
   "metadata": {},
   "outputs": [],
   "source": [
    "df[\"Mileage\"] = df[\"Mileage\"].str[:4]"
   ]
  },
  {
   "cell_type": "code",
   "execution_count": 89,
   "id": "747604d8",
   "metadata": {},
   "outputs": [
    {
     "data": {
      "text/plain": [
       "array(['26.6', '19.6', '18.2', '20.7', '15.2', '21.1', '23.0', '11.3',\n",
       "       '20.5', '22.3', '21.5', '16.8', '25.2', '12.7', '0.0 ', '13.5',\n",
       "       '25.8', '28.4', '20.4', '14.8', '22.6', '23.6', '18.5', '14.4',\n",
       "       '20.9', '17.5', '12.8', '19.0', '14.5', '11.1', '12.4', '16.0',\n",
       "       '14.0', '24.3', '18.1', '11.7', '22.0', '19.7', '25.4', '25.3',\n",
       "       '14.6', '14.2', '14.9', '11.2', '24.4', '16.5', '17.1', '22.9',\n",
       "       '17.8', '18.9', '15.0', '25.1', '20.3', '13.2', '13.6', '20.0',\n",
       "       '15.8', '25.0', '16.4', '24.5', '22.1', '8.5 ', '15.1', '16.9',\n",
       "       '18.0', '23.2', '16.7', '17.0', '13.0', '17.6', '22.7', '16.2',\n",
       "       '19.8', '17.7', '14.7', '12.9', '23.3', '19.1', '10.8', '21.9',\n",
       "       '12.0', '21.2', '24.0', '19.2', '11.5', '18.6', '11.0', '21.7',\n",
       "       '7.81', '21.6', '17.2', '20.6', '19.4', '26.0', '15.3', '17.9',\n",
       "       '16.6', '22.5', '13.7', '22.4', '19.9', '21.4', '15.4', '17.4',\n",
       "       '15.6', '15.7', '23.5', '16.1', '27.4', '11.8', '14.3', '21.0',\n",
       "       '28.0', '13.1', '18.7', '16.3', '17.3', '18.8', '23.4', '18.4',\n",
       "       '23.1', '19.3', '9.52', '26.3', '13.8', '24.7', '13.4', '15.9',\n",
       "       '14.1', '27.6', '12.5', '12.6', '15.5', '12.1', '10.9', '9.9 ',\n",
       "       '20.1', '27.3', '26.5', '10.1', '10.5', '23.9', '20.8', '12.3',\n",
       "       '9.43', '18.3', '25.5', '10.0', '24.2', '26.8', '9.7 ', '9.0 ',\n",
       "       '26.2', '10.2', '13.9', '8.6 ', '23.8', '8.45', '19.5', '27.0',\n",
       "       '33.4', '33.5', '26.1', '8.3 ', '11.6', '11.4', '11.9', '24.6',\n",
       "       '25.6', '10.4', '9.5 ', '31.7', '21.8', '8.0 ', '22.8', '27.2',\n",
       "       '32.2', '13.3', '8.7 ', '8.77', '9.1 ', '21.3', '24.8', '9.8 ',\n",
       "       '9.3 ', nan, '10.6', '7.94', '8.1 ', '10.3', '9.74', '8.2 ',\n",
       "       '7.5 ', '30.4', '6.4 '], dtype=object)"
      ]
     },
     "execution_count": 89,
     "metadata": {},
     "output_type": "execute_result"
    }
   ],
   "source": [
    "df[\"Mileage\"].unique()"
   ]
  },
  {
   "cell_type": "code",
   "execution_count": 90,
   "id": "87d18e14",
   "metadata": {},
   "outputs": [],
   "source": [
    "df[\"Mileage\"] = df[\"Mileage\"].astype(\"float64\")"
   ]
  },
  {
   "cell_type": "code",
   "execution_count": null,
   "id": "eb293947",
   "metadata": {},
   "outputs": [],
   "source": []
  },
  {
   "cell_type": "code",
   "execution_count": 92,
   "id": "80cf7b71",
   "metadata": {},
   "outputs": [],
   "source": [
    "df[\"Engine\"] = df[\"Engine\"].str.replace(\"CC\" , \"\")"
   ]
  },
  {
   "cell_type": "code",
   "execution_count": 93,
   "id": "dbe38bb7",
   "metadata": {},
   "outputs": [],
   "source": [
    "df[\"Engine\"] = df[\"Engine\"].astype(\"float64\")"
   ]
  },
  {
   "cell_type": "code",
   "execution_count": 94,
   "id": "7d24e97c",
   "metadata": {},
   "outputs": [
    {
     "data": {
      "text/plain": [
       "array([ 998., 1582., 1199., 1248., 1968.,  814., 1461., 2755., 1598.,\n",
       "       1462., 1497., 2179., 2477., 1498., 2143., 1995., 1984., 1197.,\n",
       "       2494., 1798., 2696., 2698., 1061., 1198., 2987.,  796.,  624.,\n",
       "       1999., 1991., 2694., 1120., 2498.,  799., 2393., 1399., 1796.,\n",
       "       2148., 1396., 1950., 4806., 1998., 1086., 1193., 2982., 1493.,\n",
       "       2967., 2993., 1196., 1799., 2497., 2354., 1373., 2996., 1591.,\n",
       "       2894., 5461., 1595.,  936., 1997.,   nan, 1896., 1390., 1364.,\n",
       "       2199.,  993.,  999., 1405., 2956., 1794.,  995., 2496., 1599.,\n",
       "       2400., 1495., 2523.,  793., 4134., 1596., 1395., 2953., 1586.,\n",
       "       2362., 1496., 1368., 1298., 1956., 1299., 3498., 2835., 1150.,\n",
       "       3198., 1343., 1499., 1186., 1590., 2609., 2499., 2446., 1978.,\n",
       "       2360., 3436., 2198., 4367., 2706., 1422., 2979., 1969., 1489.,\n",
       "       2489., 1242., 1388., 1172., 2495., 1194., 3200., 1781., 1341.,\n",
       "       2773., 3597., 1985., 2147., 1047., 2999., 2995., 2997., 1948.,\n",
       "       2359., 4395., 2349., 2720., 1468., 3197., 2487., 1597., 2771.,\n",
       "         72., 4951.,  970., 2925., 2200., 5000., 2149., 5998., 2092.,\n",
       "       5204., 2112., 1797.])"
      ]
     },
     "execution_count": 94,
     "metadata": {},
     "output_type": "execute_result"
    }
   ],
   "source": [
    "df[\"Engine\"].unique()"
   ]
  },
  {
   "cell_type": "code",
   "execution_count": 95,
   "id": "247e55dc",
   "metadata": {},
   "outputs": [],
   "source": [
    "df[\"Power\"] = df[\"Power\"].str.replace(\"bhp\" , \"\")"
   ]
  },
  {
   "cell_type": "code",
   "execution_count": 110,
   "id": "ef4c0fb2",
   "metadata": {},
   "outputs": [],
   "source": [
    "df[\"Power\"]=pd.to_numeric(df[\"Power\"] , errors = \"coerce\")"
   ]
  },
  {
   "cell_type": "code",
   "execution_count": 65,
   "id": "516d7786",
   "metadata": {},
   "outputs": [],
   "source": [
    "df[\"Seats\"] = pd.to_numeric(df[\"Seats\"] , errors = \"coerce\")"
   ]
  },
  {
   "cell_type": "code",
   "execution_count": 97,
   "id": "c101dddb",
   "metadata": {},
   "outputs": [],
   "source": [
    "df[\"New_Price\"] = df[\"New_Price\"].str.replace(\"Lakh\" , \"\")"
   ]
  },
  {
   "cell_type": "code",
   "execution_count": 98,
   "id": "26490463",
   "metadata": {},
   "outputs": [],
   "source": [
    "df[\"New_Price\"] = pd.to_numeric(df[\"New_Price\"] , errors = \"coerce\")"
   ]
  },
  {
   "cell_type": "code",
   "execution_count": 99,
   "id": "82ad7f95",
   "metadata": {},
   "outputs": [],
   "source": [
    "df[\"Price\"] = pd.to_numeric(df[\"Price\"] , errors = \"coerce\")"
   ]
  },
  {
   "cell_type": "code",
   "execution_count": 100,
   "id": "72398cd2",
   "metadata": {},
   "outputs": [],
   "source": [
    "df[\"Year\"] = pd.to_datetime(df['Year'], format='%Y')"
   ]
  },
  {
   "cell_type": "code",
   "execution_count": 101,
   "id": "019e7e79",
   "metadata": {},
   "outputs": [
    {
     "data": {
      "text/plain": [
       "Name                         object\n",
       "Location                     object\n",
       "Year                 datetime64[ns]\n",
       "Kilometers_Driven             int64\n",
       "Fuel_Type                    object\n",
       "Transmission                 object\n",
       "Owner_Type                   object\n",
       "Mileage                     float64\n",
       "Engine                      float64\n",
       "Power                        object\n",
       "Seats                       float64\n",
       "New_Price                   float64\n",
       "Price                       float64\n",
       "dtype: object"
      ]
     },
     "execution_count": 101,
     "metadata": {},
     "output_type": "execute_result"
    }
   ],
   "source": [
    "df.dtypes"
   ]
  },
  {
   "cell_type": "markdown",
   "id": "e47f4cef",
   "metadata": {},
   "source": [
    "Data All Set"
   ]
  },
  {
   "cell_type": "markdown",
   "id": "1921747b",
   "metadata": {},
   "source": [
    "\n",
    "Q2. Print the percentage of null values in each column"
   ]
  },
  {
   "cell_type": "code",
   "execution_count": 102,
   "id": "34439c5b",
   "metadata": {},
   "outputs": [
    {
     "data": {
      "text/plain": [
       "Name                  0.000000\n",
       "Location              0.000000\n",
       "Year                  0.000000\n",
       "Kilometers_Driven     0.000000\n",
       "Fuel_Type             0.000000\n",
       "Transmission          0.000000\n",
       "Owner_Type            0.000000\n",
       "Mileage               0.033228\n",
       "Engine                0.598106\n",
       "Power                 0.598106\n",
       "Seats                 0.697790\n",
       "New_Price            86.592457\n",
       "Price                 0.000000\n",
       "dtype: float64"
      ]
     },
     "execution_count": 102,
     "metadata": {},
     "output_type": "execute_result"
    }
   ],
   "source": [
    "df.isnull().sum()* 100 / len(df)"
   ]
  },
  {
   "cell_type": "markdown",
   "id": "08ef1964",
   "metadata": {},
   "source": [
    "Q3. Handle the null values from the data. Explain the method you chose and why?\n"
   ]
  },
  {
   "cell_type": "code",
   "execution_count": 103,
   "id": "b16e31b9",
   "metadata": {},
   "outputs": [
    {
     "data": {
      "text/plain": [
       "Name                    0\n",
       "Location                0\n",
       "Year                    0\n",
       "Kilometers_Driven       0\n",
       "Fuel_Type               0\n",
       "Transmission            0\n",
       "Owner_Type              0\n",
       "Mileage                 2\n",
       "Engine                 36\n",
       "Power                  36\n",
       "Seats                  42\n",
       "New_Price            5212\n",
       "Price                   0\n",
       "dtype: int64"
      ]
     },
     "execution_count": 103,
     "metadata": {},
     "output_type": "execute_result"
    }
   ],
   "source": [
    " df.isnull().sum()"
   ]
  },
  {
   "cell_type": "markdown",
   "id": "41aa660b",
   "metadata": {},
   "source": [
    "Engine and Power are countinous we have to deal with mean/median/random sampling\n",
    "\n",
    "Seats are categorical we have to fill null with most frequent one(mode)\n",
    "\n",
    "New Price have 86% null we have to drop that column\n",
    "\n",
    "Mileage have only 2 null out of 6019 we can delete null"
   ]
  },
  {
   "cell_type": "code",
   "execution_count": 104,
   "id": "22fd9f72",
   "metadata": {},
   "outputs": [],
   "source": [
    "# Seats with mode\n",
    "df[\"Seats\"] = df[\"Seats\"].fillna(df[\"Seats\"].mode()[0])"
   ]
  },
  {
   "cell_type": "code",
   "execution_count": null,
   "id": "87b22e33",
   "metadata": {},
   "outputs": [],
   "source": []
  },
  {
   "cell_type": "code",
   "execution_count": 105,
   "id": "bf6ea677",
   "metadata": {},
   "outputs": [],
   "source": [
    "# for coutinous data we have to check distribution or mean and mode"
   ]
  },
  {
   "cell_type": "code",
   "execution_count": 111,
   "id": "5ec89e69",
   "metadata": {},
   "outputs": [
    {
     "data": {
      "text/html": [
       "<div>\n",
       "<style scoped>\n",
       "    .dataframe tbody tr th:only-of-type {\n",
       "        vertical-align: middle;\n",
       "    }\n",
       "\n",
       "    .dataframe tbody tr th {\n",
       "        vertical-align: top;\n",
       "    }\n",
       "\n",
       "    .dataframe thead th {\n",
       "        text-align: right;\n",
       "    }\n",
       "</style>\n",
       "<table border=\"1\" class=\"dataframe\">\n",
       "  <thead>\n",
       "    <tr style=\"text-align: right;\">\n",
       "      <th></th>\n",
       "      <th>Kilometers_Driven</th>\n",
       "      <th>Mileage</th>\n",
       "      <th>Engine</th>\n",
       "      <th>Power</th>\n",
       "      <th>Seats</th>\n",
       "      <th>New_Price</th>\n",
       "      <th>Price</th>\n",
       "    </tr>\n",
       "  </thead>\n",
       "  <tbody>\n",
       "    <tr>\n",
       "      <th>count</th>\n",
       "      <td>6.019000e+03</td>\n",
       "      <td>6017.000000</td>\n",
       "      <td>5983.000000</td>\n",
       "      <td>5876.000000</td>\n",
       "      <td>6019.000000</td>\n",
       "      <td>807.000000</td>\n",
       "      <td>6019.000000</td>\n",
       "    </tr>\n",
       "    <tr>\n",
       "      <th>mean</th>\n",
       "      <td>5.873838e+04</td>\n",
       "      <td>18.113610</td>\n",
       "      <td>1621.276450</td>\n",
       "      <td>113.253050</td>\n",
       "      <td>5.276790</td>\n",
       "      <td>20.720372</td>\n",
       "      <td>9.479468</td>\n",
       "    </tr>\n",
       "    <tr>\n",
       "      <th>std</th>\n",
       "      <td>9.126884e+04</td>\n",
       "      <td>4.580291</td>\n",
       "      <td>601.355233</td>\n",
       "      <td>53.874957</td>\n",
       "      <td>0.806346</td>\n",
       "      <td>20.219173</td>\n",
       "      <td>11.187917</td>\n",
       "    </tr>\n",
       "    <tr>\n",
       "      <th>min</th>\n",
       "      <td>1.710000e+02</td>\n",
       "      <td>0.000000</td>\n",
       "      <td>72.000000</td>\n",
       "      <td>34.200000</td>\n",
       "      <td>0.000000</td>\n",
       "      <td>3.910000</td>\n",
       "      <td>0.440000</td>\n",
       "    </tr>\n",
       "    <tr>\n",
       "      <th>25%</th>\n",
       "      <td>3.400000e+04</td>\n",
       "      <td>15.100000</td>\n",
       "      <td>1198.000000</td>\n",
       "      <td>75.000000</td>\n",
       "      <td>5.000000</td>\n",
       "      <td>7.950000</td>\n",
       "      <td>3.500000</td>\n",
       "    </tr>\n",
       "    <tr>\n",
       "      <th>50%</th>\n",
       "      <td>5.300000e+04</td>\n",
       "      <td>18.100000</td>\n",
       "      <td>1493.000000</td>\n",
       "      <td>97.700000</td>\n",
       "      <td>5.000000</td>\n",
       "      <td>11.560000</td>\n",
       "      <td>5.640000</td>\n",
       "    </tr>\n",
       "    <tr>\n",
       "      <th>75%</th>\n",
       "      <td>7.300000e+04</td>\n",
       "      <td>21.100000</td>\n",
       "      <td>1984.000000</td>\n",
       "      <td>138.100000</td>\n",
       "      <td>5.000000</td>\n",
       "      <td>24.445000</td>\n",
       "      <td>9.950000</td>\n",
       "    </tr>\n",
       "    <tr>\n",
       "      <th>max</th>\n",
       "      <td>6.500000e+06</td>\n",
       "      <td>33.500000</td>\n",
       "      <td>5998.000000</td>\n",
       "      <td>560.000000</td>\n",
       "      <td>10.000000</td>\n",
       "      <td>99.920000</td>\n",
       "      <td>160.000000</td>\n",
       "    </tr>\n",
       "  </tbody>\n",
       "</table>\n",
       "</div>"
      ],
      "text/plain": [
       "       Kilometers_Driven      Mileage       Engine        Power        Seats  \\\n",
       "count       6.019000e+03  6017.000000  5983.000000  5876.000000  6019.000000   \n",
       "mean        5.873838e+04    18.113610  1621.276450   113.253050     5.276790   \n",
       "std         9.126884e+04     4.580291   601.355233    53.874957     0.806346   \n",
       "min         1.710000e+02     0.000000    72.000000    34.200000     0.000000   \n",
       "25%         3.400000e+04    15.100000  1198.000000    75.000000     5.000000   \n",
       "50%         5.300000e+04    18.100000  1493.000000    97.700000     5.000000   \n",
       "75%         7.300000e+04    21.100000  1984.000000   138.100000     5.000000   \n",
       "max         6.500000e+06    33.500000  5998.000000   560.000000    10.000000   \n",
       "\n",
       "        New_Price        Price  \n",
       "count  807.000000  6019.000000  \n",
       "mean    20.720372     9.479468  \n",
       "std     20.219173    11.187917  \n",
       "min      3.910000     0.440000  \n",
       "25%      7.950000     3.500000  \n",
       "50%     11.560000     5.640000  \n",
       "75%     24.445000     9.950000  \n",
       "max     99.920000   160.000000  "
      ]
     },
     "execution_count": 111,
     "metadata": {},
     "output_type": "execute_result"
    }
   ],
   "source": [
    "df.describe()"
   ]
  },
  {
   "cell_type": "markdown",
   "id": "8de19878",
   "metadata": {},
   "source": [
    "we can see mean of power and 50%(median) is different if we fill with mean it will change our distribution thats why have to go with median\n",
    "\n",
    "we can see mean of Engine and 50%(median) is different if we fill with mean it will change our distribution thats why have to go with median\n",
    "\n",
    "but one more problem if we go with median might be possible engine size become fraction from domain knowledge it is not possible for this we have to go with mode\n",
    "\n"
   ]
  },
  {
   "cell_type": "code",
   "execution_count": 113,
   "id": "ff4dcdb0",
   "metadata": {},
   "outputs": [],
   "source": [
    "df[\"Power\"] = df[\"Power\"].fillna(df[\"Power\"].median())\n",
    "df[\"Engine\"] = df[\"Engine\"].fillna(df[\"Engine\"].mode()[0])"
   ]
  },
  {
   "cell_type": "code",
   "execution_count": 112,
   "id": "5fd96ba3",
   "metadata": {},
   "outputs": [
    {
     "data": {
      "text/plain": [
       "array([ 998., 1582., 1199., 1248., 1968.,  814., 1461., 2755., 1598.,\n",
       "       1462., 1497., 2179., 2477., 1498., 2143., 1995., 1984., 1197.,\n",
       "       2494., 1798., 2696., 2698., 1061., 1198., 2987.,  796.,  624.,\n",
       "       1999., 1991., 2694., 1120., 2498.,  799., 2393., 1399., 1796.,\n",
       "       2148., 1396., 1950., 4806., 1998., 1086., 1193., 2982., 1493.,\n",
       "       2967., 2993., 1196., 1799., 2497., 2354., 1373., 2996., 1591.,\n",
       "       2894., 5461., 1595.,  936., 1997.,   nan, 1896., 1390., 1364.,\n",
       "       2199.,  993.,  999., 1405., 2956., 1794.,  995., 2496., 1599.,\n",
       "       2400., 1495., 2523.,  793., 4134., 1596., 1395., 2953., 1586.,\n",
       "       2362., 1496., 1368., 1298., 1956., 1299., 3498., 2835., 1150.,\n",
       "       3198., 1343., 1499., 1186., 1590., 2609., 2499., 2446., 1978.,\n",
       "       2360., 3436., 2198., 4367., 2706., 1422., 2979., 1969., 1489.,\n",
       "       2489., 1242., 1388., 1172., 2495., 1194., 3200., 1781., 1341.,\n",
       "       2773., 3597., 1985., 2147., 1047., 2999., 2995., 2997., 1948.,\n",
       "       2359., 4395., 2349., 2720., 1468., 3197., 2487., 1597., 2771.,\n",
       "         72., 4951.,  970., 2925., 2200., 5000., 2149., 5998., 2092.,\n",
       "       5204., 2112., 1797.])"
      ]
     },
     "execution_count": 112,
     "metadata": {},
     "output_type": "execute_result"
    }
   ],
   "source": [
    "df[\"Engine\"].unique()"
   ]
  },
  {
   "cell_type": "code",
   "execution_count": 114,
   "id": "63b8ffcc",
   "metadata": {},
   "outputs": [
    {
     "data": {
      "text/plain": [
       "Name                    0\n",
       "Location                0\n",
       "Year                    0\n",
       "Kilometers_Driven       0\n",
       "Fuel_Type               0\n",
       "Transmission            0\n",
       "Owner_Type              0\n",
       "Mileage                 2\n",
       "Engine                  0\n",
       "Power                   0\n",
       "Seats                   0\n",
       "New_Price            5212\n",
       "Price                   0\n",
       "dtype: int64"
      ]
     },
     "execution_count": 114,
     "metadata": {},
     "output_type": "execute_result"
    }
   ],
   "source": [
    "df.isnull().sum()"
   ]
  },
  {
   "cell_type": "markdown",
   "id": "2739c056",
   "metadata": {},
   "source": [
    "Q9. Drop those columns where the null value is greater than 60%.\n"
   ]
  },
  {
   "cell_type": "code",
   "execution_count": 115,
   "id": "dbfbc46b",
   "metadata": {},
   "outputs": [],
   "source": [
    "df = df.drop(\"New_Price\" , axis = 1)"
   ]
  },
  {
   "cell_type": "code",
   "execution_count": 117,
   "id": "98d38d46",
   "metadata": {},
   "outputs": [
    {
     "data": {
      "text/plain": [
       "Name                 0\n",
       "Location             0\n",
       "Year                 0\n",
       "Kilometers_Driven    0\n",
       "Fuel_Type            0\n",
       "Transmission         0\n",
       "Owner_Type           0\n",
       "Mileage              2\n",
       "Engine               0\n",
       "Power                0\n",
       "Seats                0\n",
       "Price                0\n",
       "dtype: int64"
      ]
     },
     "execution_count": 117,
     "metadata": {},
     "output_type": "execute_result"
    }
   ],
   "source": [
    "df.isnull().sum()"
   ]
  },
  {
   "cell_type": "code",
   "execution_count": 118,
   "id": "b65272a5",
   "metadata": {},
   "outputs": [],
   "source": [
    "df = df.dropna()"
   ]
  },
  {
   "cell_type": "code",
   "execution_count": 119,
   "id": "a4c026f9",
   "metadata": {},
   "outputs": [
    {
     "data": {
      "text/plain": [
       "Name                 0\n",
       "Location             0\n",
       "Year                 0\n",
       "Kilometers_Driven    0\n",
       "Fuel_Type            0\n",
       "Transmission         0\n",
       "Owner_Type           0\n",
       "Mileage              0\n",
       "Engine               0\n",
       "Power                0\n",
       "Seats                0\n",
       "Price                0\n",
       "dtype: int64"
      ]
     },
     "execution_count": 119,
     "metadata": {},
     "output_type": "execute_result"
    }
   ],
   "source": [
    "df.isnull().sum()"
   ]
  },
  {
   "cell_type": "markdown",
   "id": "1ca21eb0",
   "metadata": {},
   "source": [
    "Done with Null"
   ]
  },
  {
   "cell_type": "markdown",
   "id": "2e2c70fc",
   "metadata": {},
   "source": [
    "Q4. Print each location's minimum and maximum Kilometers_Driven.\n"
   ]
  },
  {
   "cell_type": "code",
   "execution_count": 122,
   "id": "aff9c1b4",
   "metadata": {},
   "outputs": [
    {
     "data": {
      "text/html": [
       "<div>\n",
       "<style scoped>\n",
       "    .dataframe tbody tr th:only-of-type {\n",
       "        vertical-align: middle;\n",
       "    }\n",
       "\n",
       "    .dataframe tbody tr th {\n",
       "        vertical-align: top;\n",
       "    }\n",
       "\n",
       "    .dataframe thead th {\n",
       "        text-align: right;\n",
       "    }\n",
       "</style>\n",
       "<table border=\"1\" class=\"dataframe\">\n",
       "  <thead>\n",
       "    <tr style=\"text-align: right;\">\n",
       "      <th></th>\n",
       "      <th>min</th>\n",
       "      <th>max</th>\n",
       "    </tr>\n",
       "    <tr>\n",
       "      <th>Location</th>\n",
       "      <th></th>\n",
       "      <th></th>\n",
       "    </tr>\n",
       "  </thead>\n",
       "  <tbody>\n",
       "    <tr>\n",
       "      <th>Ahmedabad</th>\n",
       "      <td>1000.0</td>\n",
       "      <td>173000.0</td>\n",
       "    </tr>\n",
       "    <tr>\n",
       "      <th>Bangalore</th>\n",
       "      <td>1331.0</td>\n",
       "      <td>445000.0</td>\n",
       "    </tr>\n",
       "    <tr>\n",
       "      <th>Chennai</th>\n",
       "      <td>3000.0</td>\n",
       "      <td>6500000.0</td>\n",
       "    </tr>\n",
       "    <tr>\n",
       "      <th>Coimbatore</th>\n",
       "      <td>2526.0</td>\n",
       "      <td>186679.0</td>\n",
       "    </tr>\n",
       "    <tr>\n",
       "      <th>Delhi</th>\n",
       "      <td>1000.0</td>\n",
       "      <td>231673.0</td>\n",
       "    </tr>\n",
       "    <tr>\n",
       "      <th>Hyderabad</th>\n",
       "      <td>1000.0</td>\n",
       "      <td>299322.0</td>\n",
       "    </tr>\n",
       "    <tr>\n",
       "      <th>Jaipur</th>\n",
       "      <td>1000.0</td>\n",
       "      <td>300000.0</td>\n",
       "    </tr>\n",
       "    <tr>\n",
       "      <th>Kochi</th>\n",
       "      <td>3102.0</td>\n",
       "      <td>169006.0</td>\n",
       "    </tr>\n",
       "    <tr>\n",
       "      <th>Kolkata</th>\n",
       "      <td>1000.0</td>\n",
       "      <td>775000.0</td>\n",
       "    </tr>\n",
       "    <tr>\n",
       "      <th>Mumbai</th>\n",
       "      <td>171.0</td>\n",
       "      <td>262000.0</td>\n",
       "    </tr>\n",
       "    <tr>\n",
       "      <th>Pune</th>\n",
       "      <td>1000.0</td>\n",
       "      <td>282000.0</td>\n",
       "    </tr>\n",
       "  </tbody>\n",
       "</table>\n",
       "</div>"
      ],
      "text/plain": [
       "               min        max\n",
       "Location                     \n",
       "Ahmedabad   1000.0   173000.0\n",
       "Bangalore   1331.0   445000.0\n",
       "Chennai     3000.0  6500000.0\n",
       "Coimbatore  2526.0   186679.0\n",
       "Delhi       1000.0   231673.0\n",
       "Hyderabad   1000.0   299322.0\n",
       "Jaipur      1000.0   300000.0\n",
       "Kochi       3102.0   169006.0\n",
       "Kolkata     1000.0   775000.0\n",
       "Mumbai       171.0   262000.0\n",
       "Pune        1000.0   282000.0"
      ]
     },
     "execution_count": 122,
     "metadata": {},
     "output_type": "execute_result"
    }
   ],
   "source": [
    "df.groupby([\"Location\"])[\"Kilometers_Driven\"].describe()[[\"min\" , \"max\"]]"
   ]
  },
  {
   "cell_type": "code",
   "execution_count": 123,
   "id": "d730b834",
   "metadata": {},
   "outputs": [
    {
     "data": {
      "text/html": [
       "<div>\n",
       "<style scoped>\n",
       "    .dataframe tbody tr th:only-of-type {\n",
       "        vertical-align: middle;\n",
       "    }\n",
       "\n",
       "    .dataframe tbody tr th {\n",
       "        vertical-align: top;\n",
       "    }\n",
       "\n",
       "    .dataframe thead th {\n",
       "        text-align: right;\n",
       "    }\n",
       "</style>\n",
       "<table border=\"1\" class=\"dataframe\">\n",
       "  <thead>\n",
       "    <tr style=\"text-align: right;\">\n",
       "      <th></th>\n",
       "      <th>Name</th>\n",
       "      <th>Location</th>\n",
       "      <th>Year</th>\n",
       "      <th>Kilometers_Driven</th>\n",
       "      <th>Fuel_Type</th>\n",
       "      <th>Transmission</th>\n",
       "      <th>Owner_Type</th>\n",
       "      <th>Mileage</th>\n",
       "      <th>Engine</th>\n",
       "      <th>Power</th>\n",
       "      <th>Seats</th>\n",
       "      <th>Price</th>\n",
       "    </tr>\n",
       "  </thead>\n",
       "  <tbody>\n",
       "    <tr>\n",
       "      <th>0</th>\n",
       "      <td>Maruti Wagon R LXI CNG</td>\n",
       "      <td>Mumbai</td>\n",
       "      <td>2010-01-01</td>\n",
       "      <td>72000</td>\n",
       "      <td>CNG</td>\n",
       "      <td>Manual</td>\n",
       "      <td>First</td>\n",
       "      <td>26.6</td>\n",
       "      <td>998.0</td>\n",
       "      <td>58.16</td>\n",
       "      <td>5.0</td>\n",
       "      <td>1.75</td>\n",
       "    </tr>\n",
       "    <tr>\n",
       "      <th>1</th>\n",
       "      <td>Hyundai Creta 1.6 CRDi SX Option</td>\n",
       "      <td>Pune</td>\n",
       "      <td>2015-01-01</td>\n",
       "      <td>41000</td>\n",
       "      <td>Diesel</td>\n",
       "      <td>Manual</td>\n",
       "      <td>First</td>\n",
       "      <td>19.6</td>\n",
       "      <td>1582.0</td>\n",
       "      <td>126.20</td>\n",
       "      <td>5.0</td>\n",
       "      <td>12.50</td>\n",
       "    </tr>\n",
       "    <tr>\n",
       "      <th>2</th>\n",
       "      <td>Honda Jazz V</td>\n",
       "      <td>Chennai</td>\n",
       "      <td>2011-01-01</td>\n",
       "      <td>46000</td>\n",
       "      <td>Petrol</td>\n",
       "      <td>Manual</td>\n",
       "      <td>First</td>\n",
       "      <td>18.2</td>\n",
       "      <td>1199.0</td>\n",
       "      <td>88.70</td>\n",
       "      <td>5.0</td>\n",
       "      <td>4.50</td>\n",
       "    </tr>\n",
       "    <tr>\n",
       "      <th>3</th>\n",
       "      <td>Maruti Ertiga VDI</td>\n",
       "      <td>Chennai</td>\n",
       "      <td>2012-01-01</td>\n",
       "      <td>87000</td>\n",
       "      <td>Diesel</td>\n",
       "      <td>Manual</td>\n",
       "      <td>First</td>\n",
       "      <td>20.7</td>\n",
       "      <td>1248.0</td>\n",
       "      <td>88.76</td>\n",
       "      <td>7.0</td>\n",
       "      <td>6.00</td>\n",
       "    </tr>\n",
       "    <tr>\n",
       "      <th>4</th>\n",
       "      <td>Audi A4 New 2.0 TDI Multitronic</td>\n",
       "      <td>Coimbatore</td>\n",
       "      <td>2013-01-01</td>\n",
       "      <td>40670</td>\n",
       "      <td>Diesel</td>\n",
       "      <td>Automatic</td>\n",
       "      <td>Second</td>\n",
       "      <td>15.2</td>\n",
       "      <td>1968.0</td>\n",
       "      <td>140.80</td>\n",
       "      <td>5.0</td>\n",
       "      <td>17.74</td>\n",
       "    </tr>\n",
       "    <tr>\n",
       "      <th>...</th>\n",
       "      <td>...</td>\n",
       "      <td>...</td>\n",
       "      <td>...</td>\n",
       "      <td>...</td>\n",
       "      <td>...</td>\n",
       "      <td>...</td>\n",
       "      <td>...</td>\n",
       "      <td>...</td>\n",
       "      <td>...</td>\n",
       "      <td>...</td>\n",
       "      <td>...</td>\n",
       "      <td>...</td>\n",
       "    </tr>\n",
       "    <tr>\n",
       "      <th>6014</th>\n",
       "      <td>Maruti Swift VDI</td>\n",
       "      <td>Delhi</td>\n",
       "      <td>2014-01-01</td>\n",
       "      <td>27365</td>\n",
       "      <td>Diesel</td>\n",
       "      <td>Manual</td>\n",
       "      <td>First</td>\n",
       "      <td>28.4</td>\n",
       "      <td>1248.0</td>\n",
       "      <td>74.00</td>\n",
       "      <td>5.0</td>\n",
       "      <td>4.75</td>\n",
       "    </tr>\n",
       "    <tr>\n",
       "      <th>6015</th>\n",
       "      <td>Hyundai Xcent 1.1 CRDi S</td>\n",
       "      <td>Jaipur</td>\n",
       "      <td>2015-01-01</td>\n",
       "      <td>100000</td>\n",
       "      <td>Diesel</td>\n",
       "      <td>Manual</td>\n",
       "      <td>First</td>\n",
       "      <td>24.4</td>\n",
       "      <td>1120.0</td>\n",
       "      <td>71.00</td>\n",
       "      <td>5.0</td>\n",
       "      <td>4.00</td>\n",
       "    </tr>\n",
       "    <tr>\n",
       "      <th>6016</th>\n",
       "      <td>Mahindra Xylo D4 BSIV</td>\n",
       "      <td>Jaipur</td>\n",
       "      <td>2012-01-01</td>\n",
       "      <td>55000</td>\n",
       "      <td>Diesel</td>\n",
       "      <td>Manual</td>\n",
       "      <td>Second</td>\n",
       "      <td>14.0</td>\n",
       "      <td>2498.0</td>\n",
       "      <td>112.00</td>\n",
       "      <td>8.0</td>\n",
       "      <td>2.90</td>\n",
       "    </tr>\n",
       "    <tr>\n",
       "      <th>6017</th>\n",
       "      <td>Maruti Wagon R VXI</td>\n",
       "      <td>Kolkata</td>\n",
       "      <td>2013-01-01</td>\n",
       "      <td>46000</td>\n",
       "      <td>Petrol</td>\n",
       "      <td>Manual</td>\n",
       "      <td>First</td>\n",
       "      <td>18.9</td>\n",
       "      <td>998.0</td>\n",
       "      <td>67.10</td>\n",
       "      <td>5.0</td>\n",
       "      <td>2.65</td>\n",
       "    </tr>\n",
       "    <tr>\n",
       "      <th>6018</th>\n",
       "      <td>Chevrolet Beat Diesel</td>\n",
       "      <td>Hyderabad</td>\n",
       "      <td>2011-01-01</td>\n",
       "      <td>47000</td>\n",
       "      <td>Diesel</td>\n",
       "      <td>Manual</td>\n",
       "      <td>First</td>\n",
       "      <td>25.4</td>\n",
       "      <td>936.0</td>\n",
       "      <td>57.60</td>\n",
       "      <td>5.0</td>\n",
       "      <td>2.50</td>\n",
       "    </tr>\n",
       "  </tbody>\n",
       "</table>\n",
       "<p>6017 rows × 12 columns</p>\n",
       "</div>"
      ],
      "text/plain": [
       "                                  Name    Location       Year  \\\n",
       "0               Maruti Wagon R LXI CNG      Mumbai 2010-01-01   \n",
       "1     Hyundai Creta 1.6 CRDi SX Option        Pune 2015-01-01   \n",
       "2                         Honda Jazz V     Chennai 2011-01-01   \n",
       "3                    Maruti Ertiga VDI     Chennai 2012-01-01   \n",
       "4      Audi A4 New 2.0 TDI Multitronic  Coimbatore 2013-01-01   \n",
       "...                                ...         ...        ...   \n",
       "6014                  Maruti Swift VDI       Delhi 2014-01-01   \n",
       "6015          Hyundai Xcent 1.1 CRDi S      Jaipur 2015-01-01   \n",
       "6016             Mahindra Xylo D4 BSIV      Jaipur 2012-01-01   \n",
       "6017                Maruti Wagon R VXI     Kolkata 2013-01-01   \n",
       "6018             Chevrolet Beat Diesel   Hyderabad 2011-01-01   \n",
       "\n",
       "      Kilometers_Driven Fuel_Type Transmission Owner_Type  Mileage  Engine  \\\n",
       "0                 72000       CNG       Manual      First     26.6   998.0   \n",
       "1                 41000    Diesel       Manual      First     19.6  1582.0   \n",
       "2                 46000    Petrol       Manual      First     18.2  1199.0   \n",
       "3                 87000    Diesel       Manual      First     20.7  1248.0   \n",
       "4                 40670    Diesel    Automatic     Second     15.2  1968.0   \n",
       "...                 ...       ...          ...        ...      ...     ...   \n",
       "6014              27365    Diesel       Manual      First     28.4  1248.0   \n",
       "6015             100000    Diesel       Manual      First     24.4  1120.0   \n",
       "6016              55000    Diesel       Manual     Second     14.0  2498.0   \n",
       "6017              46000    Petrol       Manual      First     18.9   998.0   \n",
       "6018              47000    Diesel       Manual      First     25.4   936.0   \n",
       "\n",
       "       Power  Seats  Price  \n",
       "0      58.16    5.0   1.75  \n",
       "1     126.20    5.0  12.50  \n",
       "2      88.70    5.0   4.50  \n",
       "3      88.76    7.0   6.00  \n",
       "4     140.80    5.0  17.74  \n",
       "...      ...    ...    ...  \n",
       "6014   74.00    5.0   4.75  \n",
       "6015   71.00    5.0   4.00  \n",
       "6016  112.00    8.0   2.90  \n",
       "6017   67.10    5.0   2.65  \n",
       "6018   57.60    5.0   2.50  \n",
       "\n",
       "[6017 rows x 12 columns]"
      ]
     },
     "execution_count": 123,
     "metadata": {},
     "output_type": "execute_result"
    }
   ],
   "source": [
    "df"
   ]
  },
  {
   "cell_type": "markdown",
   "id": "62a96991",
   "metadata": {},
   "source": [
    "\n",
    "Q5. Print the year-wise number of cars present.\n"
   ]
  },
  {
   "cell_type": "code",
   "execution_count": 134,
   "id": "29ea44fc",
   "metadata": {},
   "outputs": [
    {
     "data": {
      "text/html": [
       "<div>\n",
       "<style scoped>\n",
       "    .dataframe tbody tr th:only-of-type {\n",
       "        vertical-align: middle;\n",
       "    }\n",
       "\n",
       "    .dataframe tbody tr th {\n",
       "        vertical-align: top;\n",
       "    }\n",
       "\n",
       "    .dataframe thead th {\n",
       "        text-align: right;\n",
       "    }\n",
       "</style>\n",
       "<table border=\"1\" class=\"dataframe\">\n",
       "  <thead>\n",
       "    <tr style=\"text-align: right;\">\n",
       "      <th></th>\n",
       "      <th>Year</th>\n",
       "      <th>Name</th>\n",
       "    </tr>\n",
       "  </thead>\n",
       "  <tbody>\n",
       "    <tr>\n",
       "      <th>0</th>\n",
       "      <td>1998-01-01</td>\n",
       "      <td>4</td>\n",
       "    </tr>\n",
       "    <tr>\n",
       "      <th>1</th>\n",
       "      <td>1999-01-01</td>\n",
       "      <td>2</td>\n",
       "    </tr>\n",
       "    <tr>\n",
       "      <th>2</th>\n",
       "      <td>2000-01-01</td>\n",
       "      <td>4</td>\n",
       "    </tr>\n",
       "    <tr>\n",
       "      <th>3</th>\n",
       "      <td>2001-01-01</td>\n",
       "      <td>8</td>\n",
       "    </tr>\n",
       "    <tr>\n",
       "      <th>4</th>\n",
       "      <td>2002-01-01</td>\n",
       "      <td>15</td>\n",
       "    </tr>\n",
       "    <tr>\n",
       "      <th>5</th>\n",
       "      <td>2003-01-01</td>\n",
       "      <td>17</td>\n",
       "    </tr>\n",
       "    <tr>\n",
       "      <th>6</th>\n",
       "      <td>2004-01-01</td>\n",
       "      <td>31</td>\n",
       "    </tr>\n",
       "    <tr>\n",
       "      <th>7</th>\n",
       "      <td>2005-01-01</td>\n",
       "      <td>57</td>\n",
       "    </tr>\n",
       "    <tr>\n",
       "      <th>8</th>\n",
       "      <td>2006-01-01</td>\n",
       "      <td>78</td>\n",
       "    </tr>\n",
       "    <tr>\n",
       "      <th>9</th>\n",
       "      <td>2007-01-01</td>\n",
       "      <td>125</td>\n",
       "    </tr>\n",
       "    <tr>\n",
       "      <th>10</th>\n",
       "      <td>2008-01-01</td>\n",
       "      <td>174</td>\n",
       "    </tr>\n",
       "    <tr>\n",
       "      <th>11</th>\n",
       "      <td>2009-01-01</td>\n",
       "      <td>198</td>\n",
       "    </tr>\n",
       "    <tr>\n",
       "      <th>12</th>\n",
       "      <td>2010-01-01</td>\n",
       "      <td>342</td>\n",
       "    </tr>\n",
       "    <tr>\n",
       "      <th>13</th>\n",
       "      <td>2011-01-01</td>\n",
       "      <td>465</td>\n",
       "    </tr>\n",
       "    <tr>\n",
       "      <th>14</th>\n",
       "      <td>2012-01-01</td>\n",
       "      <td>580</td>\n",
       "    </tr>\n",
       "    <tr>\n",
       "      <th>15</th>\n",
       "      <td>2013-01-01</td>\n",
       "      <td>649</td>\n",
       "    </tr>\n",
       "    <tr>\n",
       "      <th>16</th>\n",
       "      <td>2014-01-01</td>\n",
       "      <td>797</td>\n",
       "    </tr>\n",
       "    <tr>\n",
       "      <th>17</th>\n",
       "      <td>2015-01-01</td>\n",
       "      <td>744</td>\n",
       "    </tr>\n",
       "    <tr>\n",
       "      <th>18</th>\n",
       "      <td>2016-01-01</td>\n",
       "      <td>740</td>\n",
       "    </tr>\n",
       "    <tr>\n",
       "      <th>19</th>\n",
       "      <td>2017-01-01</td>\n",
       "      <td>587</td>\n",
       "    </tr>\n",
       "    <tr>\n",
       "      <th>20</th>\n",
       "      <td>2018-01-01</td>\n",
       "      <td>298</td>\n",
       "    </tr>\n",
       "    <tr>\n",
       "      <th>21</th>\n",
       "      <td>2019-01-01</td>\n",
       "      <td>102</td>\n",
       "    </tr>\n",
       "  </tbody>\n",
       "</table>\n",
       "</div>"
      ],
      "text/plain": [
       "         Year  Name\n",
       "0  1998-01-01     4\n",
       "1  1999-01-01     2\n",
       "2  2000-01-01     4\n",
       "3  2001-01-01     8\n",
       "4  2002-01-01    15\n",
       "5  2003-01-01    17\n",
       "6  2004-01-01    31\n",
       "7  2005-01-01    57\n",
       "8  2006-01-01    78\n",
       "9  2007-01-01   125\n",
       "10 2008-01-01   174\n",
       "11 2009-01-01   198\n",
       "12 2010-01-01   342\n",
       "13 2011-01-01   465\n",
       "14 2012-01-01   580\n",
       "15 2013-01-01   649\n",
       "16 2014-01-01   797\n",
       "17 2015-01-01   744\n",
       "18 2016-01-01   740\n",
       "19 2017-01-01   587\n",
       "20 2018-01-01   298\n",
       "21 2019-01-01   102"
      ]
     },
     "execution_count": 134,
     "metadata": {},
     "output_type": "execute_result"
    }
   ],
   "source": [
    "df.groupby(\"Year\")[\"Name\"].count().reset_index()\n"
   ]
  },
  {
   "cell_type": "markdown",
   "id": "8d78035c",
   "metadata": {},
   "source": [
    "Q6. How many first-owner-type cars are present in the dataset?"
   ]
  },
  {
   "cell_type": "code",
   "execution_count": 141,
   "id": "ff286fd3",
   "metadata": {},
   "outputs": [
    {
     "data": {
      "text/plain": [
       "4927"
      ]
     },
     "execution_count": 141,
     "metadata": {},
     "output_type": "execute_result"
    }
   ],
   "source": [
    "df[df[\"Owner_Type\"] == \"First\"][\"Owner_Type\"].count()"
   ]
  },
  {
   "cell_type": "markdown",
   "id": "71ab4e85",
   "metadata": {},
   "source": [
    "Q8. Create a dataframe where each location is an index and the number of cars present at\n",
    "that location is a column.\n"
   ]
  },
  {
   "cell_type": "code",
   "execution_count": 142,
   "id": "05a18ceb",
   "metadata": {},
   "outputs": [
    {
     "data": {
      "text/html": [
       "<div>\n",
       "<style scoped>\n",
       "    .dataframe tbody tr th:only-of-type {\n",
       "        vertical-align: middle;\n",
       "    }\n",
       "\n",
       "    .dataframe tbody tr th {\n",
       "        vertical-align: top;\n",
       "    }\n",
       "\n",
       "    .dataframe thead th {\n",
       "        text-align: right;\n",
       "    }\n",
       "</style>\n",
       "<table border=\"1\" class=\"dataframe\">\n",
       "  <thead>\n",
       "    <tr style=\"text-align: right;\">\n",
       "      <th></th>\n",
       "      <th>Name</th>\n",
       "      <th>Location</th>\n",
       "      <th>Year</th>\n",
       "      <th>Kilometers_Driven</th>\n",
       "      <th>Fuel_Type</th>\n",
       "      <th>Transmission</th>\n",
       "      <th>Owner_Type</th>\n",
       "      <th>Mileage</th>\n",
       "      <th>Engine</th>\n",
       "      <th>Power</th>\n",
       "      <th>Seats</th>\n",
       "      <th>Price</th>\n",
       "    </tr>\n",
       "  </thead>\n",
       "  <tbody>\n",
       "    <tr>\n",
       "      <th>0</th>\n",
       "      <td>Maruti Wagon R LXI CNG</td>\n",
       "      <td>Mumbai</td>\n",
       "      <td>2010-01-01</td>\n",
       "      <td>72000</td>\n",
       "      <td>CNG</td>\n",
       "      <td>Manual</td>\n",
       "      <td>First</td>\n",
       "      <td>26.6</td>\n",
       "      <td>998.0</td>\n",
       "      <td>58.16</td>\n",
       "      <td>5.0</td>\n",
       "      <td>1.75</td>\n",
       "    </tr>\n",
       "    <tr>\n",
       "      <th>1</th>\n",
       "      <td>Hyundai Creta 1.6 CRDi SX Option</td>\n",
       "      <td>Pune</td>\n",
       "      <td>2015-01-01</td>\n",
       "      <td>41000</td>\n",
       "      <td>Diesel</td>\n",
       "      <td>Manual</td>\n",
       "      <td>First</td>\n",
       "      <td>19.6</td>\n",
       "      <td>1582.0</td>\n",
       "      <td>126.20</td>\n",
       "      <td>5.0</td>\n",
       "      <td>12.50</td>\n",
       "    </tr>\n",
       "    <tr>\n",
       "      <th>2</th>\n",
       "      <td>Honda Jazz V</td>\n",
       "      <td>Chennai</td>\n",
       "      <td>2011-01-01</td>\n",
       "      <td>46000</td>\n",
       "      <td>Petrol</td>\n",
       "      <td>Manual</td>\n",
       "      <td>First</td>\n",
       "      <td>18.2</td>\n",
       "      <td>1199.0</td>\n",
       "      <td>88.70</td>\n",
       "      <td>5.0</td>\n",
       "      <td>4.50</td>\n",
       "    </tr>\n",
       "    <tr>\n",
       "      <th>3</th>\n",
       "      <td>Maruti Ertiga VDI</td>\n",
       "      <td>Chennai</td>\n",
       "      <td>2012-01-01</td>\n",
       "      <td>87000</td>\n",
       "      <td>Diesel</td>\n",
       "      <td>Manual</td>\n",
       "      <td>First</td>\n",
       "      <td>20.7</td>\n",
       "      <td>1248.0</td>\n",
       "      <td>88.76</td>\n",
       "      <td>7.0</td>\n",
       "      <td>6.00</td>\n",
       "    </tr>\n",
       "    <tr>\n",
       "      <th>4</th>\n",
       "      <td>Audi A4 New 2.0 TDI Multitronic</td>\n",
       "      <td>Coimbatore</td>\n",
       "      <td>2013-01-01</td>\n",
       "      <td>40670</td>\n",
       "      <td>Diesel</td>\n",
       "      <td>Automatic</td>\n",
       "      <td>Second</td>\n",
       "      <td>15.2</td>\n",
       "      <td>1968.0</td>\n",
       "      <td>140.80</td>\n",
       "      <td>5.0</td>\n",
       "      <td>17.74</td>\n",
       "    </tr>\n",
       "    <tr>\n",
       "      <th>...</th>\n",
       "      <td>...</td>\n",
       "      <td>...</td>\n",
       "      <td>...</td>\n",
       "      <td>...</td>\n",
       "      <td>...</td>\n",
       "      <td>...</td>\n",
       "      <td>...</td>\n",
       "      <td>...</td>\n",
       "      <td>...</td>\n",
       "      <td>...</td>\n",
       "      <td>...</td>\n",
       "      <td>...</td>\n",
       "    </tr>\n",
       "    <tr>\n",
       "      <th>6014</th>\n",
       "      <td>Maruti Swift VDI</td>\n",
       "      <td>Delhi</td>\n",
       "      <td>2014-01-01</td>\n",
       "      <td>27365</td>\n",
       "      <td>Diesel</td>\n",
       "      <td>Manual</td>\n",
       "      <td>First</td>\n",
       "      <td>28.4</td>\n",
       "      <td>1248.0</td>\n",
       "      <td>74.00</td>\n",
       "      <td>5.0</td>\n",
       "      <td>4.75</td>\n",
       "    </tr>\n",
       "    <tr>\n",
       "      <th>6015</th>\n",
       "      <td>Hyundai Xcent 1.1 CRDi S</td>\n",
       "      <td>Jaipur</td>\n",
       "      <td>2015-01-01</td>\n",
       "      <td>100000</td>\n",
       "      <td>Diesel</td>\n",
       "      <td>Manual</td>\n",
       "      <td>First</td>\n",
       "      <td>24.4</td>\n",
       "      <td>1120.0</td>\n",
       "      <td>71.00</td>\n",
       "      <td>5.0</td>\n",
       "      <td>4.00</td>\n",
       "    </tr>\n",
       "    <tr>\n",
       "      <th>6016</th>\n",
       "      <td>Mahindra Xylo D4 BSIV</td>\n",
       "      <td>Jaipur</td>\n",
       "      <td>2012-01-01</td>\n",
       "      <td>55000</td>\n",
       "      <td>Diesel</td>\n",
       "      <td>Manual</td>\n",
       "      <td>Second</td>\n",
       "      <td>14.0</td>\n",
       "      <td>2498.0</td>\n",
       "      <td>112.00</td>\n",
       "      <td>8.0</td>\n",
       "      <td>2.90</td>\n",
       "    </tr>\n",
       "    <tr>\n",
       "      <th>6017</th>\n",
       "      <td>Maruti Wagon R VXI</td>\n",
       "      <td>Kolkata</td>\n",
       "      <td>2013-01-01</td>\n",
       "      <td>46000</td>\n",
       "      <td>Petrol</td>\n",
       "      <td>Manual</td>\n",
       "      <td>First</td>\n",
       "      <td>18.9</td>\n",
       "      <td>998.0</td>\n",
       "      <td>67.10</td>\n",
       "      <td>5.0</td>\n",
       "      <td>2.65</td>\n",
       "    </tr>\n",
       "    <tr>\n",
       "      <th>6018</th>\n",
       "      <td>Chevrolet Beat Diesel</td>\n",
       "      <td>Hyderabad</td>\n",
       "      <td>2011-01-01</td>\n",
       "      <td>47000</td>\n",
       "      <td>Diesel</td>\n",
       "      <td>Manual</td>\n",
       "      <td>First</td>\n",
       "      <td>25.4</td>\n",
       "      <td>936.0</td>\n",
       "      <td>57.60</td>\n",
       "      <td>5.0</td>\n",
       "      <td>2.50</td>\n",
       "    </tr>\n",
       "  </tbody>\n",
       "</table>\n",
       "<p>6017 rows × 12 columns</p>\n",
       "</div>"
      ],
      "text/plain": [
       "                                  Name    Location       Year  \\\n",
       "0               Maruti Wagon R LXI CNG      Mumbai 2010-01-01   \n",
       "1     Hyundai Creta 1.6 CRDi SX Option        Pune 2015-01-01   \n",
       "2                         Honda Jazz V     Chennai 2011-01-01   \n",
       "3                    Maruti Ertiga VDI     Chennai 2012-01-01   \n",
       "4      Audi A4 New 2.0 TDI Multitronic  Coimbatore 2013-01-01   \n",
       "...                                ...         ...        ...   \n",
       "6014                  Maruti Swift VDI       Delhi 2014-01-01   \n",
       "6015          Hyundai Xcent 1.1 CRDi S      Jaipur 2015-01-01   \n",
       "6016             Mahindra Xylo D4 BSIV      Jaipur 2012-01-01   \n",
       "6017                Maruti Wagon R VXI     Kolkata 2013-01-01   \n",
       "6018             Chevrolet Beat Diesel   Hyderabad 2011-01-01   \n",
       "\n",
       "      Kilometers_Driven Fuel_Type Transmission Owner_Type  Mileage  Engine  \\\n",
       "0                 72000       CNG       Manual      First     26.6   998.0   \n",
       "1                 41000    Diesel       Manual      First     19.6  1582.0   \n",
       "2                 46000    Petrol       Manual      First     18.2  1199.0   \n",
       "3                 87000    Diesel       Manual      First     20.7  1248.0   \n",
       "4                 40670    Diesel    Automatic     Second     15.2  1968.0   \n",
       "...                 ...       ...          ...        ...      ...     ...   \n",
       "6014              27365    Diesel       Manual      First     28.4  1248.0   \n",
       "6015             100000    Diesel       Manual      First     24.4  1120.0   \n",
       "6016              55000    Diesel       Manual     Second     14.0  2498.0   \n",
       "6017              46000    Petrol       Manual      First     18.9   998.0   \n",
       "6018              47000    Diesel       Manual      First     25.4   936.0   \n",
       "\n",
       "       Power  Seats  Price  \n",
       "0      58.16    5.0   1.75  \n",
       "1     126.20    5.0  12.50  \n",
       "2      88.70    5.0   4.50  \n",
       "3      88.76    7.0   6.00  \n",
       "4     140.80    5.0  17.74  \n",
       "...      ...    ...    ...  \n",
       "6014   74.00    5.0   4.75  \n",
       "6015   71.00    5.0   4.00  \n",
       "6016  112.00    8.0   2.90  \n",
       "6017   67.10    5.0   2.65  \n",
       "6018   57.60    5.0   2.50  \n",
       "\n",
       "[6017 rows x 12 columns]"
      ]
     },
     "execution_count": 142,
     "metadata": {},
     "output_type": "execute_result"
    }
   ],
   "source": [
    "df"
   ]
  },
  {
   "cell_type": "code",
   "execution_count": 147,
   "id": "76ef74b1",
   "metadata": {},
   "outputs": [
    {
     "data": {
      "text/html": [
       "<div>\n",
       "<style scoped>\n",
       "    .dataframe tbody tr th:only-of-type {\n",
       "        vertical-align: middle;\n",
       "    }\n",
       "\n",
       "    .dataframe tbody tr th {\n",
       "        vertical-align: top;\n",
       "    }\n",
       "\n",
       "    .dataframe thead th {\n",
       "        text-align: right;\n",
       "    }\n",
       "</style>\n",
       "<table border=\"1\" class=\"dataframe\">\n",
       "  <thead>\n",
       "    <tr style=\"text-align: right;\">\n",
       "      <th></th>\n",
       "      <th>Name</th>\n",
       "    </tr>\n",
       "    <tr>\n",
       "      <th>Location</th>\n",
       "      <th></th>\n",
       "    </tr>\n",
       "  </thead>\n",
       "  <tbody>\n",
       "    <tr>\n",
       "      <th>Ahmedabad</th>\n",
       "      <td>224</td>\n",
       "    </tr>\n",
       "    <tr>\n",
       "      <th>Bangalore</th>\n",
       "      <td>358</td>\n",
       "    </tr>\n",
       "    <tr>\n",
       "      <th>Chennai</th>\n",
       "      <td>493</td>\n",
       "    </tr>\n",
       "    <tr>\n",
       "      <th>Coimbatore</th>\n",
       "      <td>636</td>\n",
       "    </tr>\n",
       "    <tr>\n",
       "      <th>Delhi</th>\n",
       "      <td>554</td>\n",
       "    </tr>\n",
       "    <tr>\n",
       "      <th>Hyderabad</th>\n",
       "      <td>742</td>\n",
       "    </tr>\n",
       "    <tr>\n",
       "      <th>Jaipur</th>\n",
       "      <td>413</td>\n",
       "    </tr>\n",
       "    <tr>\n",
       "      <th>Kochi</th>\n",
       "      <td>651</td>\n",
       "    </tr>\n",
       "    <tr>\n",
       "      <th>Kolkata</th>\n",
       "      <td>535</td>\n",
       "    </tr>\n",
       "    <tr>\n",
       "      <th>Mumbai</th>\n",
       "      <td>789</td>\n",
       "    </tr>\n",
       "    <tr>\n",
       "      <th>Pune</th>\n",
       "      <td>622</td>\n",
       "    </tr>\n",
       "  </tbody>\n",
       "</table>\n",
       "</div>"
      ],
      "text/plain": [
       "            Name\n",
       "Location        \n",
       "Ahmedabad    224\n",
       "Bangalore    358\n",
       "Chennai      493\n",
       "Coimbatore   636\n",
       "Delhi        554\n",
       "Hyderabad    742\n",
       "Jaipur       413\n",
       "Kochi        651\n",
       "Kolkata      535\n",
       "Mumbai       789\n",
       "Pune         622"
      ]
     },
     "execution_count": 147,
     "metadata": {},
     "output_type": "execute_result"
    }
   ],
   "source": [
    "df1 = pd.DataFrame(df.groupby([\"Location\"])[\"Name\"].count())\n",
    "df1"
   ]
  },
  {
   "cell_type": "code",
   "execution_count": 150,
   "id": "29b0801c",
   "metadata": {},
   "outputs": [
    {
     "data": {
      "text/plain": [
       "Index(['Name', 'Location', 'Year', 'Kilometers_Driven', 'Fuel_Type',\n",
       "       'Transmission', 'Owner_Type', 'Mileage', 'Engine', 'Power', 'Seats',\n",
       "       'Price'],\n",
       "      dtype='object')"
      ]
     },
     "execution_count": 150,
     "metadata": {},
     "output_type": "execute_result"
    }
   ],
   "source": [
    "df.columns"
   ]
  },
  {
   "cell_type": "markdown",
   "id": "1fc4df3a",
   "metadata": {},
   "source": [
    "Q11. Apply the encoding on categorical columns.\n",
    "\n"
   ]
  },
  {
   "cell_type": "markdown",
   "id": "6a68df15",
   "metadata": {},
   "source": [
    "Name , Location , Year is Not effect over moddel let's Drop it"
   ]
  },
  {
   "cell_type": "code",
   "execution_count": 153,
   "id": "81f69622",
   "metadata": {},
   "outputs": [],
   "source": [
    "df = df.drop(['Name', 'Location', 'Year'] , axis = 1)\n"
   ]
  },
  {
   "cell_type": "code",
   "execution_count": 154,
   "id": "a96e2f40",
   "metadata": {},
   "outputs": [
    {
     "data": {
      "text/html": [
       "<div>\n",
       "<style scoped>\n",
       "    .dataframe tbody tr th:only-of-type {\n",
       "        vertical-align: middle;\n",
       "    }\n",
       "\n",
       "    .dataframe tbody tr th {\n",
       "        vertical-align: top;\n",
       "    }\n",
       "\n",
       "    .dataframe thead th {\n",
       "        text-align: right;\n",
       "    }\n",
       "</style>\n",
       "<table border=\"1\" class=\"dataframe\">\n",
       "  <thead>\n",
       "    <tr style=\"text-align: right;\">\n",
       "      <th></th>\n",
       "      <th>Kilometers_Driven</th>\n",
       "      <th>Fuel_Type</th>\n",
       "      <th>Transmission</th>\n",
       "      <th>Owner_Type</th>\n",
       "      <th>Mileage</th>\n",
       "      <th>Engine</th>\n",
       "      <th>Power</th>\n",
       "      <th>Seats</th>\n",
       "      <th>Price</th>\n",
       "    </tr>\n",
       "  </thead>\n",
       "  <tbody>\n",
       "    <tr>\n",
       "      <th>0</th>\n",
       "      <td>72000</td>\n",
       "      <td>CNG</td>\n",
       "      <td>Manual</td>\n",
       "      <td>First</td>\n",
       "      <td>26.6</td>\n",
       "      <td>998.0</td>\n",
       "      <td>58.16</td>\n",
       "      <td>5.0</td>\n",
       "      <td>1.75</td>\n",
       "    </tr>\n",
       "    <tr>\n",
       "      <th>1</th>\n",
       "      <td>41000</td>\n",
       "      <td>Diesel</td>\n",
       "      <td>Manual</td>\n",
       "      <td>First</td>\n",
       "      <td>19.6</td>\n",
       "      <td>1582.0</td>\n",
       "      <td>126.20</td>\n",
       "      <td>5.0</td>\n",
       "      <td>12.50</td>\n",
       "    </tr>\n",
       "    <tr>\n",
       "      <th>2</th>\n",
       "      <td>46000</td>\n",
       "      <td>Petrol</td>\n",
       "      <td>Manual</td>\n",
       "      <td>First</td>\n",
       "      <td>18.2</td>\n",
       "      <td>1199.0</td>\n",
       "      <td>88.70</td>\n",
       "      <td>5.0</td>\n",
       "      <td>4.50</td>\n",
       "    </tr>\n",
       "    <tr>\n",
       "      <th>3</th>\n",
       "      <td>87000</td>\n",
       "      <td>Diesel</td>\n",
       "      <td>Manual</td>\n",
       "      <td>First</td>\n",
       "      <td>20.7</td>\n",
       "      <td>1248.0</td>\n",
       "      <td>88.76</td>\n",
       "      <td>7.0</td>\n",
       "      <td>6.00</td>\n",
       "    </tr>\n",
       "    <tr>\n",
       "      <th>4</th>\n",
       "      <td>40670</td>\n",
       "      <td>Diesel</td>\n",
       "      <td>Automatic</td>\n",
       "      <td>Second</td>\n",
       "      <td>15.2</td>\n",
       "      <td>1968.0</td>\n",
       "      <td>140.80</td>\n",
       "      <td>5.0</td>\n",
       "      <td>17.74</td>\n",
       "    </tr>\n",
       "  </tbody>\n",
       "</table>\n",
       "</div>"
      ],
      "text/plain": [
       "   Kilometers_Driven Fuel_Type Transmission Owner_Type  Mileage  Engine  \\\n",
       "0              72000       CNG       Manual      First     26.6   998.0   \n",
       "1              41000    Diesel       Manual      First     19.6  1582.0   \n",
       "2              46000    Petrol       Manual      First     18.2  1199.0   \n",
       "3              87000    Diesel       Manual      First     20.7  1248.0   \n",
       "4              40670    Diesel    Automatic     Second     15.2  1968.0   \n",
       "\n",
       "    Power  Seats  Price  \n",
       "0   58.16    5.0   1.75  \n",
       "1  126.20    5.0  12.50  \n",
       "2   88.70    5.0   4.50  \n",
       "3   88.76    7.0   6.00  \n",
       "4  140.80    5.0  17.74  "
      ]
     },
     "execution_count": 154,
     "metadata": {},
     "output_type": "execute_result"
    }
   ],
   "source": [
    "df.head()"
   ]
  },
  {
   "cell_type": "code",
   "execution_count": 155,
   "id": "7a38d0ea",
   "metadata": {},
   "outputs": [
    {
     "name": "stdout",
     "output_type": "stream",
     "text": [
      "['CNG' 'Diesel' 'Petrol' 'LPG']\n",
      "['Manual' 'Automatic']\n",
      "['First' 'Second' 'Fourth & Above' 'Third']\n"
     ]
    }
   ],
   "source": [
    "for i in [\"Fuel_Type\" , \"Transmission\" , \"Owner_Type\"]:\n",
    "    print(df[i].unique())"
   ]
  },
  {
   "cell_type": "markdown",
   "id": "7bb5e211",
   "metadata": {},
   "source": [
    "I wiil Go with one hot encoding"
   ]
  },
  {
   "cell_type": "code",
   "execution_count": 156,
   "id": "4bc5aa31",
   "metadata": {},
   "outputs": [],
   "source": [
    "for i in [\"Fuel_Type\" , \"Transmission\" , \"Owner_Type\"]:\n",
    "    df = pd.get_dummies(data = df , columns = [i],drop_first = True )"
   ]
  },
  {
   "cell_type": "code",
   "execution_count": 157,
   "id": "5f00bf2a",
   "metadata": {},
   "outputs": [
    {
     "data": {
      "text/html": [
       "<div>\n",
       "<style scoped>\n",
       "    .dataframe tbody tr th:only-of-type {\n",
       "        vertical-align: middle;\n",
       "    }\n",
       "\n",
       "    .dataframe tbody tr th {\n",
       "        vertical-align: top;\n",
       "    }\n",
       "\n",
       "    .dataframe thead th {\n",
       "        text-align: right;\n",
       "    }\n",
       "</style>\n",
       "<table border=\"1\" class=\"dataframe\">\n",
       "  <thead>\n",
       "    <tr style=\"text-align: right;\">\n",
       "      <th></th>\n",
       "      <th>Kilometers_Driven</th>\n",
       "      <th>Mileage</th>\n",
       "      <th>Engine</th>\n",
       "      <th>Power</th>\n",
       "      <th>Seats</th>\n",
       "      <th>Price</th>\n",
       "      <th>Fuel_Type_Diesel</th>\n",
       "      <th>Fuel_Type_LPG</th>\n",
       "      <th>Fuel_Type_Petrol</th>\n",
       "      <th>Transmission_Manual</th>\n",
       "      <th>Owner_Type_Fourth &amp; Above</th>\n",
       "      <th>Owner_Type_Second</th>\n",
       "      <th>Owner_Type_Third</th>\n",
       "    </tr>\n",
       "  </thead>\n",
       "  <tbody>\n",
       "    <tr>\n",
       "      <th>0</th>\n",
       "      <td>72000</td>\n",
       "      <td>26.6</td>\n",
       "      <td>998.0</td>\n",
       "      <td>58.16</td>\n",
       "      <td>5.0</td>\n",
       "      <td>1.75</td>\n",
       "      <td>0</td>\n",
       "      <td>0</td>\n",
       "      <td>0</td>\n",
       "      <td>1</td>\n",
       "      <td>0</td>\n",
       "      <td>0</td>\n",
       "      <td>0</td>\n",
       "    </tr>\n",
       "    <tr>\n",
       "      <th>1</th>\n",
       "      <td>41000</td>\n",
       "      <td>19.6</td>\n",
       "      <td>1582.0</td>\n",
       "      <td>126.20</td>\n",
       "      <td>5.0</td>\n",
       "      <td>12.50</td>\n",
       "      <td>1</td>\n",
       "      <td>0</td>\n",
       "      <td>0</td>\n",
       "      <td>1</td>\n",
       "      <td>0</td>\n",
       "      <td>0</td>\n",
       "      <td>0</td>\n",
       "    </tr>\n",
       "    <tr>\n",
       "      <th>2</th>\n",
       "      <td>46000</td>\n",
       "      <td>18.2</td>\n",
       "      <td>1199.0</td>\n",
       "      <td>88.70</td>\n",
       "      <td>5.0</td>\n",
       "      <td>4.50</td>\n",
       "      <td>0</td>\n",
       "      <td>0</td>\n",
       "      <td>1</td>\n",
       "      <td>1</td>\n",
       "      <td>0</td>\n",
       "      <td>0</td>\n",
       "      <td>0</td>\n",
       "    </tr>\n",
       "    <tr>\n",
       "      <th>3</th>\n",
       "      <td>87000</td>\n",
       "      <td>20.7</td>\n",
       "      <td>1248.0</td>\n",
       "      <td>88.76</td>\n",
       "      <td>7.0</td>\n",
       "      <td>6.00</td>\n",
       "      <td>1</td>\n",
       "      <td>0</td>\n",
       "      <td>0</td>\n",
       "      <td>1</td>\n",
       "      <td>0</td>\n",
       "      <td>0</td>\n",
       "      <td>0</td>\n",
       "    </tr>\n",
       "    <tr>\n",
       "      <th>4</th>\n",
       "      <td>40670</td>\n",
       "      <td>15.2</td>\n",
       "      <td>1968.0</td>\n",
       "      <td>140.80</td>\n",
       "      <td>5.0</td>\n",
       "      <td>17.74</td>\n",
       "      <td>1</td>\n",
       "      <td>0</td>\n",
       "      <td>0</td>\n",
       "      <td>0</td>\n",
       "      <td>0</td>\n",
       "      <td>1</td>\n",
       "      <td>0</td>\n",
       "    </tr>\n",
       "    <tr>\n",
       "      <th>...</th>\n",
       "      <td>...</td>\n",
       "      <td>...</td>\n",
       "      <td>...</td>\n",
       "      <td>...</td>\n",
       "      <td>...</td>\n",
       "      <td>...</td>\n",
       "      <td>...</td>\n",
       "      <td>...</td>\n",
       "      <td>...</td>\n",
       "      <td>...</td>\n",
       "      <td>...</td>\n",
       "      <td>...</td>\n",
       "      <td>...</td>\n",
       "    </tr>\n",
       "    <tr>\n",
       "      <th>6014</th>\n",
       "      <td>27365</td>\n",
       "      <td>28.4</td>\n",
       "      <td>1248.0</td>\n",
       "      <td>74.00</td>\n",
       "      <td>5.0</td>\n",
       "      <td>4.75</td>\n",
       "      <td>1</td>\n",
       "      <td>0</td>\n",
       "      <td>0</td>\n",
       "      <td>1</td>\n",
       "      <td>0</td>\n",
       "      <td>0</td>\n",
       "      <td>0</td>\n",
       "    </tr>\n",
       "    <tr>\n",
       "      <th>6015</th>\n",
       "      <td>100000</td>\n",
       "      <td>24.4</td>\n",
       "      <td>1120.0</td>\n",
       "      <td>71.00</td>\n",
       "      <td>5.0</td>\n",
       "      <td>4.00</td>\n",
       "      <td>1</td>\n",
       "      <td>0</td>\n",
       "      <td>0</td>\n",
       "      <td>1</td>\n",
       "      <td>0</td>\n",
       "      <td>0</td>\n",
       "      <td>0</td>\n",
       "    </tr>\n",
       "    <tr>\n",
       "      <th>6016</th>\n",
       "      <td>55000</td>\n",
       "      <td>14.0</td>\n",
       "      <td>2498.0</td>\n",
       "      <td>112.00</td>\n",
       "      <td>8.0</td>\n",
       "      <td>2.90</td>\n",
       "      <td>1</td>\n",
       "      <td>0</td>\n",
       "      <td>0</td>\n",
       "      <td>1</td>\n",
       "      <td>0</td>\n",
       "      <td>1</td>\n",
       "      <td>0</td>\n",
       "    </tr>\n",
       "    <tr>\n",
       "      <th>6017</th>\n",
       "      <td>46000</td>\n",
       "      <td>18.9</td>\n",
       "      <td>998.0</td>\n",
       "      <td>67.10</td>\n",
       "      <td>5.0</td>\n",
       "      <td>2.65</td>\n",
       "      <td>0</td>\n",
       "      <td>0</td>\n",
       "      <td>1</td>\n",
       "      <td>1</td>\n",
       "      <td>0</td>\n",
       "      <td>0</td>\n",
       "      <td>0</td>\n",
       "    </tr>\n",
       "    <tr>\n",
       "      <th>6018</th>\n",
       "      <td>47000</td>\n",
       "      <td>25.4</td>\n",
       "      <td>936.0</td>\n",
       "      <td>57.60</td>\n",
       "      <td>5.0</td>\n",
       "      <td>2.50</td>\n",
       "      <td>1</td>\n",
       "      <td>0</td>\n",
       "      <td>0</td>\n",
       "      <td>1</td>\n",
       "      <td>0</td>\n",
       "      <td>0</td>\n",
       "      <td>0</td>\n",
       "    </tr>\n",
       "  </tbody>\n",
       "</table>\n",
       "<p>6017 rows × 13 columns</p>\n",
       "</div>"
      ],
      "text/plain": [
       "      Kilometers_Driven  Mileage  Engine   Power  Seats  Price  \\\n",
       "0                 72000     26.6   998.0   58.16    5.0   1.75   \n",
       "1                 41000     19.6  1582.0  126.20    5.0  12.50   \n",
       "2                 46000     18.2  1199.0   88.70    5.0   4.50   \n",
       "3                 87000     20.7  1248.0   88.76    7.0   6.00   \n",
       "4                 40670     15.2  1968.0  140.80    5.0  17.74   \n",
       "...                 ...      ...     ...     ...    ...    ...   \n",
       "6014              27365     28.4  1248.0   74.00    5.0   4.75   \n",
       "6015             100000     24.4  1120.0   71.00    5.0   4.00   \n",
       "6016              55000     14.0  2498.0  112.00    8.0   2.90   \n",
       "6017              46000     18.9   998.0   67.10    5.0   2.65   \n",
       "6018              47000     25.4   936.0   57.60    5.0   2.50   \n",
       "\n",
       "      Fuel_Type_Diesel  Fuel_Type_LPG  Fuel_Type_Petrol  Transmission_Manual  \\\n",
       "0                    0              0                 0                    1   \n",
       "1                    1              0                 0                    1   \n",
       "2                    0              0                 1                    1   \n",
       "3                    1              0                 0                    1   \n",
       "4                    1              0                 0                    0   \n",
       "...                ...            ...               ...                  ...   \n",
       "6014                 1              0                 0                    1   \n",
       "6015                 1              0                 0                    1   \n",
       "6016                 1              0                 0                    1   \n",
       "6017                 0              0                 1                    1   \n",
       "6018                 1              0                 0                    1   \n",
       "\n",
       "      Owner_Type_Fourth & Above  Owner_Type_Second  Owner_Type_Third  \n",
       "0                             0                  0                 0  \n",
       "1                             0                  0                 0  \n",
       "2                             0                  0                 0  \n",
       "3                             0                  0                 0  \n",
       "4                             0                  1                 0  \n",
       "...                         ...                ...               ...  \n",
       "6014                          0                  0                 0  \n",
       "6015                          0                  0                 0  \n",
       "6016                          0                  1                 0  \n",
       "6017                          0                  0                 0  \n",
       "6018                          0                  0                 0  \n",
       "\n",
       "[6017 rows x 13 columns]"
      ]
     },
     "execution_count": 157,
     "metadata": {},
     "output_type": "execute_result"
    }
   ],
   "source": [
    "df"
   ]
  },
  {
   "cell_type": "code",
   "execution_count": 158,
   "id": "582d6fe1",
   "metadata": {},
   "outputs": [],
   "source": [
    "X = df.drop(\"Price\" , axis = 1)"
   ]
  },
  {
   "cell_type": "code",
   "execution_count": 159,
   "id": "8ae49608",
   "metadata": {},
   "outputs": [
    {
     "data": {
      "text/html": [
       "<div>\n",
       "<style scoped>\n",
       "    .dataframe tbody tr th:only-of-type {\n",
       "        vertical-align: middle;\n",
       "    }\n",
       "\n",
       "    .dataframe tbody tr th {\n",
       "        vertical-align: top;\n",
       "    }\n",
       "\n",
       "    .dataframe thead th {\n",
       "        text-align: right;\n",
       "    }\n",
       "</style>\n",
       "<table border=\"1\" class=\"dataframe\">\n",
       "  <thead>\n",
       "    <tr style=\"text-align: right;\">\n",
       "      <th></th>\n",
       "      <th>Kilometers_Driven</th>\n",
       "      <th>Mileage</th>\n",
       "      <th>Engine</th>\n",
       "      <th>Power</th>\n",
       "      <th>Seats</th>\n",
       "      <th>Fuel_Type_Diesel</th>\n",
       "      <th>Fuel_Type_LPG</th>\n",
       "      <th>Fuel_Type_Petrol</th>\n",
       "      <th>Transmission_Manual</th>\n",
       "      <th>Owner_Type_Fourth &amp; Above</th>\n",
       "      <th>Owner_Type_Second</th>\n",
       "      <th>Owner_Type_Third</th>\n",
       "    </tr>\n",
       "  </thead>\n",
       "  <tbody>\n",
       "    <tr>\n",
       "      <th>0</th>\n",
       "      <td>72000</td>\n",
       "      <td>26.6</td>\n",
       "      <td>998.0</td>\n",
       "      <td>58.16</td>\n",
       "      <td>5.0</td>\n",
       "      <td>0</td>\n",
       "      <td>0</td>\n",
       "      <td>0</td>\n",
       "      <td>1</td>\n",
       "      <td>0</td>\n",
       "      <td>0</td>\n",
       "      <td>0</td>\n",
       "    </tr>\n",
       "    <tr>\n",
       "      <th>1</th>\n",
       "      <td>41000</td>\n",
       "      <td>19.6</td>\n",
       "      <td>1582.0</td>\n",
       "      <td>126.20</td>\n",
       "      <td>5.0</td>\n",
       "      <td>1</td>\n",
       "      <td>0</td>\n",
       "      <td>0</td>\n",
       "      <td>1</td>\n",
       "      <td>0</td>\n",
       "      <td>0</td>\n",
       "      <td>0</td>\n",
       "    </tr>\n",
       "    <tr>\n",
       "      <th>2</th>\n",
       "      <td>46000</td>\n",
       "      <td>18.2</td>\n",
       "      <td>1199.0</td>\n",
       "      <td>88.70</td>\n",
       "      <td>5.0</td>\n",
       "      <td>0</td>\n",
       "      <td>0</td>\n",
       "      <td>1</td>\n",
       "      <td>1</td>\n",
       "      <td>0</td>\n",
       "      <td>0</td>\n",
       "      <td>0</td>\n",
       "    </tr>\n",
       "    <tr>\n",
       "      <th>3</th>\n",
       "      <td>87000</td>\n",
       "      <td>20.7</td>\n",
       "      <td>1248.0</td>\n",
       "      <td>88.76</td>\n",
       "      <td>7.0</td>\n",
       "      <td>1</td>\n",
       "      <td>0</td>\n",
       "      <td>0</td>\n",
       "      <td>1</td>\n",
       "      <td>0</td>\n",
       "      <td>0</td>\n",
       "      <td>0</td>\n",
       "    </tr>\n",
       "    <tr>\n",
       "      <th>4</th>\n",
       "      <td>40670</td>\n",
       "      <td>15.2</td>\n",
       "      <td>1968.0</td>\n",
       "      <td>140.80</td>\n",
       "      <td>5.0</td>\n",
       "      <td>1</td>\n",
       "      <td>0</td>\n",
       "      <td>0</td>\n",
       "      <td>0</td>\n",
       "      <td>0</td>\n",
       "      <td>1</td>\n",
       "      <td>0</td>\n",
       "    </tr>\n",
       "    <tr>\n",
       "      <th>...</th>\n",
       "      <td>...</td>\n",
       "      <td>...</td>\n",
       "      <td>...</td>\n",
       "      <td>...</td>\n",
       "      <td>...</td>\n",
       "      <td>...</td>\n",
       "      <td>...</td>\n",
       "      <td>...</td>\n",
       "      <td>...</td>\n",
       "      <td>...</td>\n",
       "      <td>...</td>\n",
       "      <td>...</td>\n",
       "    </tr>\n",
       "    <tr>\n",
       "      <th>6014</th>\n",
       "      <td>27365</td>\n",
       "      <td>28.4</td>\n",
       "      <td>1248.0</td>\n",
       "      <td>74.00</td>\n",
       "      <td>5.0</td>\n",
       "      <td>1</td>\n",
       "      <td>0</td>\n",
       "      <td>0</td>\n",
       "      <td>1</td>\n",
       "      <td>0</td>\n",
       "      <td>0</td>\n",
       "      <td>0</td>\n",
       "    </tr>\n",
       "    <tr>\n",
       "      <th>6015</th>\n",
       "      <td>100000</td>\n",
       "      <td>24.4</td>\n",
       "      <td>1120.0</td>\n",
       "      <td>71.00</td>\n",
       "      <td>5.0</td>\n",
       "      <td>1</td>\n",
       "      <td>0</td>\n",
       "      <td>0</td>\n",
       "      <td>1</td>\n",
       "      <td>0</td>\n",
       "      <td>0</td>\n",
       "      <td>0</td>\n",
       "    </tr>\n",
       "    <tr>\n",
       "      <th>6016</th>\n",
       "      <td>55000</td>\n",
       "      <td>14.0</td>\n",
       "      <td>2498.0</td>\n",
       "      <td>112.00</td>\n",
       "      <td>8.0</td>\n",
       "      <td>1</td>\n",
       "      <td>0</td>\n",
       "      <td>0</td>\n",
       "      <td>1</td>\n",
       "      <td>0</td>\n",
       "      <td>1</td>\n",
       "      <td>0</td>\n",
       "    </tr>\n",
       "    <tr>\n",
       "      <th>6017</th>\n",
       "      <td>46000</td>\n",
       "      <td>18.9</td>\n",
       "      <td>998.0</td>\n",
       "      <td>67.10</td>\n",
       "      <td>5.0</td>\n",
       "      <td>0</td>\n",
       "      <td>0</td>\n",
       "      <td>1</td>\n",
       "      <td>1</td>\n",
       "      <td>0</td>\n",
       "      <td>0</td>\n",
       "      <td>0</td>\n",
       "    </tr>\n",
       "    <tr>\n",
       "      <th>6018</th>\n",
       "      <td>47000</td>\n",
       "      <td>25.4</td>\n",
       "      <td>936.0</td>\n",
       "      <td>57.60</td>\n",
       "      <td>5.0</td>\n",
       "      <td>1</td>\n",
       "      <td>0</td>\n",
       "      <td>0</td>\n",
       "      <td>1</td>\n",
       "      <td>0</td>\n",
       "      <td>0</td>\n",
       "      <td>0</td>\n",
       "    </tr>\n",
       "  </tbody>\n",
       "</table>\n",
       "<p>6017 rows × 12 columns</p>\n",
       "</div>"
      ],
      "text/plain": [
       "      Kilometers_Driven  Mileage  Engine   Power  Seats  Fuel_Type_Diesel  \\\n",
       "0                 72000     26.6   998.0   58.16    5.0                 0   \n",
       "1                 41000     19.6  1582.0  126.20    5.0                 1   \n",
       "2                 46000     18.2  1199.0   88.70    5.0                 0   \n",
       "3                 87000     20.7  1248.0   88.76    7.0                 1   \n",
       "4                 40670     15.2  1968.0  140.80    5.0                 1   \n",
       "...                 ...      ...     ...     ...    ...               ...   \n",
       "6014              27365     28.4  1248.0   74.00    5.0                 1   \n",
       "6015             100000     24.4  1120.0   71.00    5.0                 1   \n",
       "6016              55000     14.0  2498.0  112.00    8.0                 1   \n",
       "6017              46000     18.9   998.0   67.10    5.0                 0   \n",
       "6018              47000     25.4   936.0   57.60    5.0                 1   \n",
       "\n",
       "      Fuel_Type_LPG  Fuel_Type_Petrol  Transmission_Manual  \\\n",
       "0                 0                 0                    1   \n",
       "1                 0                 0                    1   \n",
       "2                 0                 1                    1   \n",
       "3                 0                 0                    1   \n",
       "4                 0                 0                    0   \n",
       "...             ...               ...                  ...   \n",
       "6014              0                 0                    1   \n",
       "6015              0                 0                    1   \n",
       "6016              0                 0                    1   \n",
       "6017              0                 1                    1   \n",
       "6018              0                 0                    1   \n",
       "\n",
       "      Owner_Type_Fourth & Above  Owner_Type_Second  Owner_Type_Third  \n",
       "0                             0                  0                 0  \n",
       "1                             0                  0                 0  \n",
       "2                             0                  0                 0  \n",
       "3                             0                  0                 0  \n",
       "4                             0                  1                 0  \n",
       "...                         ...                ...               ...  \n",
       "6014                          0                  0                 0  \n",
       "6015                          0                  0                 0  \n",
       "6016                          0                  1                 0  \n",
       "6017                          0                  0                 0  \n",
       "6018                          0                  0                 0  \n",
       "\n",
       "[6017 rows x 12 columns]"
      ]
     },
     "execution_count": 159,
     "metadata": {},
     "output_type": "execute_result"
    }
   ],
   "source": [
    "X"
   ]
  },
  {
   "cell_type": "code",
   "execution_count": 161,
   "id": "2dae84b9",
   "metadata": {},
   "outputs": [],
   "source": [
    "Y = df[[\"Price\"]]"
   ]
  },
  {
   "cell_type": "code",
   "execution_count": 162,
   "id": "35e01931",
   "metadata": {},
   "outputs": [
    {
     "data": {
      "text/html": [
       "<div>\n",
       "<style scoped>\n",
       "    .dataframe tbody tr th:only-of-type {\n",
       "        vertical-align: middle;\n",
       "    }\n",
       "\n",
       "    .dataframe tbody tr th {\n",
       "        vertical-align: top;\n",
       "    }\n",
       "\n",
       "    .dataframe thead th {\n",
       "        text-align: right;\n",
       "    }\n",
       "</style>\n",
       "<table border=\"1\" class=\"dataframe\">\n",
       "  <thead>\n",
       "    <tr style=\"text-align: right;\">\n",
       "      <th></th>\n",
       "      <th>Price</th>\n",
       "    </tr>\n",
       "  </thead>\n",
       "  <tbody>\n",
       "    <tr>\n",
       "      <th>0</th>\n",
       "      <td>1.75</td>\n",
       "    </tr>\n",
       "    <tr>\n",
       "      <th>1</th>\n",
       "      <td>12.50</td>\n",
       "    </tr>\n",
       "    <tr>\n",
       "      <th>2</th>\n",
       "      <td>4.50</td>\n",
       "    </tr>\n",
       "    <tr>\n",
       "      <th>3</th>\n",
       "      <td>6.00</td>\n",
       "    </tr>\n",
       "    <tr>\n",
       "      <th>4</th>\n",
       "      <td>17.74</td>\n",
       "    </tr>\n",
       "    <tr>\n",
       "      <th>...</th>\n",
       "      <td>...</td>\n",
       "    </tr>\n",
       "    <tr>\n",
       "      <th>6014</th>\n",
       "      <td>4.75</td>\n",
       "    </tr>\n",
       "    <tr>\n",
       "      <th>6015</th>\n",
       "      <td>4.00</td>\n",
       "    </tr>\n",
       "    <tr>\n",
       "      <th>6016</th>\n",
       "      <td>2.90</td>\n",
       "    </tr>\n",
       "    <tr>\n",
       "      <th>6017</th>\n",
       "      <td>2.65</td>\n",
       "    </tr>\n",
       "    <tr>\n",
       "      <th>6018</th>\n",
       "      <td>2.50</td>\n",
       "    </tr>\n",
       "  </tbody>\n",
       "</table>\n",
       "<p>6017 rows × 1 columns</p>\n",
       "</div>"
      ],
      "text/plain": [
       "      Price\n",
       "0      1.75\n",
       "1     12.50\n",
       "2      4.50\n",
       "3      6.00\n",
       "4     17.74\n",
       "...     ...\n",
       "6014   4.75\n",
       "6015   4.00\n",
       "6016   2.90\n",
       "6017   2.65\n",
       "6018   2.50\n",
       "\n",
       "[6017 rows x 1 columns]"
      ]
     },
     "execution_count": 162,
     "metadata": {},
     "output_type": "execute_result"
    }
   ],
   "source": [
    "Y"
   ]
  },
  {
   "cell_type": "markdown",
   "id": "e6448adf",
   "metadata": {},
   "source": [
    "Q12. Split the data for training and testing.\n"
   ]
  },
  {
   "cell_type": "code",
   "execution_count": 164,
   "id": "1e6727ab",
   "metadata": {},
   "outputs": [],
   "source": [
    "from sklearn.model_selection import train_test_split\n",
    "X_train , X_test , Y_train , Y_split = train_test_split(X , Y , test_size = 0.2 , random_state = 42)\n"
   ]
  },
  {
   "cell_type": "markdown",
   "id": "721dbf05",
   "metadata": {},
   "source": [
    "Q10. Apply the scaling on numerical columns.\n"
   ]
  },
  {
   "cell_type": "code",
   "execution_count": 167,
   "id": "15736051",
   "metadata": {},
   "outputs": [],
   "source": [
    "from sklearn.preprocessing import StandardScaler\n",
    "sc = StandardScaler()\n",
    "X_train = sc.fit_transform(X_train)\n",
    "X_test = sc.transform(X_test)"
   ]
  },
  {
   "cell_type": "markdown",
   "id": "567e5f55",
   "metadata": {},
   "source": [
    "Q13. Train the linear regression model with the help of all given columns except the name\n",
    "column"
   ]
  },
  {
   "cell_type": "code",
   "execution_count": 170,
   "id": "e5049efa",
   "metadata": {},
   "outputs": [
    {
     "data": {
      "text/plain": [
       "LinearRegression()"
      ]
     },
     "execution_count": 170,
     "metadata": {},
     "output_type": "execute_result"
    }
   ],
   "source": [
    "from sklearn.linear_model import LinearRegression\n",
    "le = LinearRegression()\n",
    "le.fit(X_train,Y_train)"
   ]
  },
  {
   "cell_type": "markdown",
   "id": "c04be8f7",
   "metadata": {},
   "source": [
    "Q14. Determine the training accuracy and testing accuracy"
   ]
  },
  {
   "cell_type": "markdown",
   "id": "f15536fd",
   "metadata": {},
   "source": [
    "Test Accuracy"
   ]
  },
  {
   "cell_type": "code",
   "execution_count": 171,
   "id": "107c4cbb",
   "metadata": {},
   "outputs": [],
   "source": [
    "Y_pred = le.predict(X_test)"
   ]
  },
  {
   "cell_type": "code",
   "execution_count": 174,
   "id": "6f68ea7b",
   "metadata": {},
   "outputs": [
    {
     "data": {
      "text/plain": [
       "45.03940106233598"
      ]
     },
     "execution_count": 174,
     "metadata": {},
     "output_type": "execute_result"
    }
   ],
   "source": [
    "from sklearn import metrics\n",
    "metrics.mean_squared_error(Y_split , Y_pred)"
   ]
  },
  {
   "cell_type": "code",
   "execution_count": 175,
   "id": "a7086ffa",
   "metadata": {},
   "outputs": [
    {
     "data": {
      "text/plain": [
       "0.6162157058728881"
      ]
     },
     "execution_count": 175,
     "metadata": {},
     "output_type": "execute_result"
    }
   ],
   "source": [
    "# r squeare\n",
    "metrics.r2_score(Y_split , Y_pred)"
   ]
  },
  {
   "cell_type": "markdown",
   "id": "09ed025c",
   "metadata": {},
   "source": [
    "Train Accuracy"
   ]
  },
  {
   "cell_type": "code",
   "execution_count": 177,
   "id": "25178464",
   "metadata": {},
   "outputs": [
    {
     "data": {
      "text/plain": [
       "0.6371798327882288"
      ]
     },
     "execution_count": 177,
     "metadata": {},
     "output_type": "execute_result"
    }
   ],
   "source": [
    "Y_pred2 = le.predict(X_train)\n",
    "metrics.r2_score(Y_train , Y_pred2)"
   ]
  },
  {
   "cell_type": "markdown",
   "id": "258fe6ec",
   "metadata": {},
   "source": [
    "There is little bit overfitting"
   ]
  },
  {
   "cell_type": "markdown",
   "id": "95534b70",
   "metadata": {},
   "source": [
    "r square is moderate if we oulier analysis it can bit increase  with this"
   ]
  },
  {
   "cell_type": "markdown",
   "id": "05636197",
   "metadata": {},
   "source": [
    "Q15. Determine the coefficient and intercept of the model."
   ]
  },
  {
   "cell_type": "code",
   "execution_count": 178,
   "id": "19b9af35",
   "metadata": {},
   "outputs": [
    {
     "name": "stdout",
     "output_type": "stream",
     "text": [
      "The Coefficient is\n"
     ]
    },
    {
     "data": {
      "text/plain": [
       "array([[-0.1902031 ,  0.48082087, -0.03856566,  7.60437773, -0.24971299,\n",
       "        -0.04900066,  0.01077605, -1.18967363, -1.75815234, -0.11196307,\n",
       "        -0.88824634, -0.56321818]])"
      ]
     },
     "execution_count": 178,
     "metadata": {},
     "output_type": "execute_result"
    }
   ],
   "source": [
    "print(\"The Coefficient is\")\n",
    "le.coef_"
   ]
  },
  {
   "cell_type": "code",
   "execution_count": 179,
   "id": "884fb2b8",
   "metadata": {},
   "outputs": [
    {
     "name": "stdout",
     "output_type": "stream",
     "text": [
      "The intercept is \n"
     ]
    },
    {
     "data": {
      "text/plain": [
       "array([9.53923333])"
      ]
     },
     "execution_count": 179,
     "metadata": {},
     "output_type": "execute_result"
    }
   ],
   "source": [
    "print(\"The intercept is \")\n",
    "le.intercept_"
   ]
  },
  {
   "cell_type": "markdown",
   "id": "47fd4df1",
   "metadata": {},
   "source": [
    "lets check outlier"
   ]
  },
  {
   "cell_type": "code",
   "execution_count": 184,
   "id": "d2190bfc",
   "metadata": {},
   "outputs": [
    {
     "data": {
      "image/png": "[encoded data removed]",
      "text/plain": [
       "<Figure size 432x288 with 1 Axes>"
      ]
     },
     "metadata": {
      "needs_background": "light"
     },
     "output_type": "display_data"
    },
    {
     "data": {
      "image/png": "[encoded data removed]",
      "text/plain": [
       "<Figure size 432x288 with 1 Axes>"
      ]
     },
     "metadata": {
      "needs_background": "light"
     },
     "output_type": "display_data"
    },
    {
     "data": {
      "image/png": "[encoded data removed]",
      "text/plain": [
       "<Figure size 432x288 with 1 Axes>"
      ]
     },
     "metadata": {
      "needs_background": "light"
     },
     "output_type": "display_data"
    },
    {
     "data": {
      "image/png": "[encoded data removed]",
      "text/plain": [
       "<Figure size 432x288 with 1 Axes>"
      ]
     },
     "metadata": {
      "needs_background": "light"
     },
     "output_type": "display_data"
    },
    {
     "data": {
      "image/png": "[encoded data removed]",
      "text/plain": [
       "<Figure size 432x288 with 1 Axes>"
      ]
     },
     "metadata": {
      "needs_background": "light"
     },
     "output_type": "display_data"
    }
   ],
   "source": [
    "for i in [\"Kilometers_Driven\",\"Mileage\",\"Engine\",\"Power\",\"Price\"]:\n",
    "    plt.figure()\n",
    "    sns.boxplot(x = df[i])"
   ]
  },
  {
   "cell_type": "code",
   "execution_count": 185,
   "id": "e4066284",
   "metadata": {},
   "outputs": [],
   "source": [
    "for i in [\"Kilometers_Driven\",\"Mileage\",\"Engine\",\"Power\",\"Price\"]:\n",
    "    q1 = df[i].quantile(0.25)\n",
    "    q3 = df[i].quantile(0.75)\n",
    "    IQR = q3-q1\n",
    "    df = df[(df[i]>=(q1-IQR*1.5)) & (df[i]<=(q3+IQR*1.5))]\n",
    "    \n",
    "    "
   ]
  },
  {
   "cell_type": "code",
   "execution_count": 187,
   "id": "89372bd2",
   "metadata": {},
   "outputs": [
    {
     "data": {
      "image/png": "[encoded data removed]",
      "text/plain": [
       "<Figure size 432x288 with 1 Axes>"
      ]
     },
     "metadata": {
      "needs_background": "light"
     },
     "output_type": "display_data"
    },
    {
     "data": {
      "image/png": "[encoded data removed]",
      "text/plain": [
       "<Figure size 432x288 with 1 Axes>"
      ]
     },
     "metadata": {
      "needs_background": "light"
     },
     "output_type": "display_data"
    },
    {
     "data": {
      "image/png": "[encoded data removed]",
      "text/plain": [
       "<Figure size 432x288 with 1 Axes>"
      ]
     },
     "metadata": {
      "needs_background": "light"
     },
     "output_type": "display_data"
    },
    {
     "data": {
      "image/png": "[encoded data removed]",
      "text/plain": [
       "<Figure size 432x288 with 1 Axes>"
      ]
     },
     "metadata": {
      "needs_background": "light"
     },
     "output_type": "display_data"
    },
    {
     "data": {
      "image/png": "[encoded data removed]",
      "text/plain": [
       "<Figure size 432x288 with 1 Axes>"
      ]
     },
     "metadata": {
      "needs_background": "light"
     },
     "output_type": "display_data"
    }
   ],
   "source": [
    "for i in [\"Kilometers_Driven\",\"Mileage\",\"Engine\",\"Power\",\"Price\"]:\n",
    "    plt.figure()\n",
    "    sns.boxplot(x = df[i])"
   ]
  },
  {
   "cell_type": "code",
   "execution_count": 188,
   "id": "48950228",
   "metadata": {},
   "outputs": [],
   "source": [
    "X = df.drop(\"Price\" , axis = 1)\n",
    "Y = df[[\"Price\"]]"
   ]
  },
  {
   "cell_type": "code",
   "execution_count": 189,
   "id": "cd5f8a16",
   "metadata": {},
   "outputs": [],
   "source": [
    "from sklearn.model_selection import train_test_split\n",
    "X_train , X_test , Y_train , Y_split = train_test_split(X , Y , test_size = 0.2 , random_state = 42)"
   ]
  },
  {
   "cell_type": "code",
   "execution_count": 190,
   "id": "ff960bd2",
   "metadata": {},
   "outputs": [],
   "source": [
    "from sklearn.preprocessing import StandardScaler\n",
    "sc = StandardScaler()\n",
    "X_train = sc.fit_transform(X_train)\n",
    "X_test = sc.transform(X_test)"
   ]
  },
  {
   "cell_type": "code",
   "execution_count": 191,
   "id": "4891e589",
   "metadata": {},
   "outputs": [
    {
     "data": {
      "text/plain": [
       "LinearRegression()"
      ]
     },
     "execution_count": 191,
     "metadata": {},
     "output_type": "execute_result"
    }
   ],
   "source": [
    "from sklearn.linear_model import LinearRegression\n",
    "le = LinearRegression()\n",
    "le.fit(X_train,Y_train)"
   ]
  },
  {
   "cell_type": "code",
   "execution_count": 192,
   "id": "3be6ac3c",
   "metadata": {},
   "outputs": [],
   "source": [
    "Y_pred = le.predict(X_test)"
   ]
  },
  {
   "cell_type": "code",
   "execution_count": 193,
   "id": "78221011",
   "metadata": {},
   "outputs": [
    {
     "data": {
      "text/plain": [
       "0.6202549342260786"
      ]
     },
     "execution_count": 193,
     "metadata": {},
     "output_type": "execute_result"
    }
   ],
   "source": [
    "metrics.r2_score(Y_split , Y_pred)"
   ]
  },
  {
   "cell_type": "markdown",
   "id": "3a3e0598",
   "metadata": {},
   "source": [
    "NOT MUCH AFTER REMOVING OUTLIER"
   ]
  }
 ],
 "metadata": {
  "kernelspec": {
   "display_name": "Python 3 (ipykernel)",
   "language": "python",
   "name": "python3"
  },
  "language_info": {
   "codemirror_mode": {
    "name": "ipython",
    "version": 3
   },
   "file_extension": ".py",
   "mimetype": "text/x-python",
   "name": "python",
   "nbconvert_exporter": "python",
   "pygments_lexer": "ipython3",
   "version": "3.9.12"
  }
 },
 "nbformat": 4,
 "nbformat_minor": 5
}
