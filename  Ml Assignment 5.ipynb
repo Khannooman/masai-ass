{
 "cells": [
  {
   "cell_type": "markdown",
   "id": "6ff8d5b6",
   "metadata": {},
   "source": [
    "#### Q1. What are assumptions of linear regression ?"
   ]
  },
  {
   "cell_type": "markdown",
   "id": "97ed695b",
   "metadata": {},
   "source": [
    "Linear relationship between independent and depensent variable\n",
    "\n",
    "No or little Multicolinearity\n",
    "\n",
    "Errors normally distributed\n",
    "\n",
    "Homoscedasticity\n",
    "\n",
    "No auto-correlation"
   ]
  },
  {
   "cell_type": "markdown",
   "id": "861f1f2c",
   "metadata": {},
   "source": []
  }
 ],
 "metadata": {
  "kernelspec": {
   "display_name": "Python 3 (ipykernel)",
   "language": "python",
   "name": "python3"
  },
  "language_info": {
   "codemirror_mode": {
    "name": "ipython",
    "version": 3
   },
   "file_extension": ".py",
   "mimetype": "text/x-python",
   "name": "python",
   "nbconvert_exporter": "python",
   "pygments_lexer": "ipython3",
   "version": "3.9.12"
  }
 },
 "nbformat": 4,
 "nbformat_minor": 5
}
