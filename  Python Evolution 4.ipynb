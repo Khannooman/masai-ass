{
 "cells": [
  {
   "cell_type": "markdown",
   "id": "e19dcadd",
   "metadata": {},
   "source": [
    "### Evolution 4\n"
   ]
  },
  {
   "cell_type": "markdown",
   "id": "ed85fecf",
   "metadata": {},
   "source": [
    "#### importing Packeges"
   ]
  },
  {
   "cell_type": "code",
   "execution_count": 1,
   "id": "a1b3d469",
   "metadata": {},
   "outputs": [],
   "source": [
    "import numpy as np\n",
    "import pandas as pd\n",
    "import matplotlib.pyplot as plt\n",
    "import seaborn as sns\n",
    "%matplotlib inline"
   ]
  },
  {
   "cell_type": "code",
   "execution_count": 2,
   "id": "bc64fd3a",
   "metadata": {},
   "outputs": [
    {
     "data": {
      "text/html": [
       "<div>\n",
       "<style scoped>\n",
       "    .dataframe tbody tr th:only-of-type {\n",
       "        vertical-align: middle;\n",
       "    }\n",
       "\n",
       "    .dataframe tbody tr th {\n",
       "        vertical-align: top;\n",
       "    }\n",
       "\n",
       "    .dataframe thead th {\n",
       "        text-align: right;\n",
       "    }\n",
       "</style>\n",
       "<table border=\"1\" class=\"dataframe\">\n",
       "  <thead>\n",
       "    <tr style=\"text-align: right;\">\n",
       "      <th></th>\n",
       "      <th>0</th>\n",
       "      <th>1</th>\n",
       "      <th>2</th>\n",
       "      <th>3</th>\n",
       "      <th>4</th>\n",
       "    </tr>\n",
       "  </thead>\n",
       "  <tbody>\n",
       "    <tr>\n",
       "      <th>battery_power</th>\n",
       "      <td>842</td>\n",
       "      <td>1021</td>\n",
       "      <td>563</td>\n",
       "      <td>615</td>\n",
       "      <td>1821</td>\n",
       "    </tr>\n",
       "    <tr>\n",
       "      <th>blue</th>\n",
       "      <td>0.0</td>\n",
       "      <td>1.0</td>\n",
       "      <td>1.0</td>\n",
       "      <td>1.0</td>\n",
       "      <td>1.0</td>\n",
       "    </tr>\n",
       "    <tr>\n",
       "      <th>clock_speed</th>\n",
       "      <td>2.2</td>\n",
       "      <td>0.5</td>\n",
       "      <td>0.5</td>\n",
       "      <td>2.5</td>\n",
       "      <td>1.2</td>\n",
       "    </tr>\n",
       "    <tr>\n",
       "      <th>dual_sim</th>\n",
       "      <td>0.0</td>\n",
       "      <td>1.0</td>\n",
       "      <td>1.0</td>\n",
       "      <td>0.0</td>\n",
       "      <td>0.0</td>\n",
       "    </tr>\n",
       "    <tr>\n",
       "      <th>fc</th>\n",
       "      <td>1</td>\n",
       "      <td>0</td>\n",
       "      <td>2</td>\n",
       "      <td>0</td>\n",
       "      <td>13</td>\n",
       "    </tr>\n",
       "    <tr>\n",
       "      <th>four_g</th>\n",
       "      <td>0</td>\n",
       "      <td>1</td>\n",
       "      <td>1</td>\n",
       "      <td>0</td>\n",
       "      <td>1</td>\n",
       "    </tr>\n",
       "    <tr>\n",
       "      <th>int_memory</th>\n",
       "      <td>7.0</td>\n",
       "      <td>53.0</td>\n",
       "      <td>41.0</td>\n",
       "      <td>10.0</td>\n",
       "      <td>44.0</td>\n",
       "    </tr>\n",
       "    <tr>\n",
       "      <th>m_dep</th>\n",
       "      <td>0.6</td>\n",
       "      <td>0.7</td>\n",
       "      <td>0.9</td>\n",
       "      <td>0.8</td>\n",
       "      <td>0.6</td>\n",
       "    </tr>\n",
       "    <tr>\n",
       "      <th>mobile_wt</th>\n",
       "      <td>188</td>\n",
       "      <td>136</td>\n",
       "      <td>145</td>\n",
       "      <td>131</td>\n",
       "      <td>141</td>\n",
       "    </tr>\n",
       "    <tr>\n",
       "      <th>n_cores</th>\n",
       "      <td>2</td>\n",
       "      <td>3</td>\n",
       "      <td>5</td>\n",
       "      <td>6</td>\n",
       "      <td>2</td>\n",
       "    </tr>\n",
       "    <tr>\n",
       "      <th>pc</th>\n",
       "      <td>2.0</td>\n",
       "      <td>6.0</td>\n",
       "      <td>6.0</td>\n",
       "      <td>9.0</td>\n",
       "      <td>14.0</td>\n",
       "    </tr>\n",
       "    <tr>\n",
       "      <th>px_height</th>\n",
       "      <td>20.0</td>\n",
       "      <td>905.0</td>\n",
       "      <td>1263.0</td>\n",
       "      <td>1216.0</td>\n",
       "      <td>1208.0</td>\n",
       "    </tr>\n",
       "    <tr>\n",
       "      <th>px_width</th>\n",
       "      <td>756</td>\n",
       "      <td>1988</td>\n",
       "      <td>1716</td>\n",
       "      <td>1786</td>\n",
       "      <td>1212</td>\n",
       "    </tr>\n",
       "    <tr>\n",
       "      <th>ram</th>\n",
       "      <td>2,549.00</td>\n",
       "      <td>2,631.00</td>\n",
       "      <td>2,603.00</td>\n",
       "      <td>2,769.00</td>\n",
       "      <td>1,411.00</td>\n",
       "    </tr>\n",
       "    <tr>\n",
       "      <th>sc_h</th>\n",
       "      <td>9</td>\n",
       "      <td>17</td>\n",
       "      <td>11</td>\n",
       "      <td>16</td>\n",
       "      <td>8</td>\n",
       "    </tr>\n",
       "    <tr>\n",
       "      <th>sc_w</th>\n",
       "      <td>7</td>\n",
       "      <td>3</td>\n",
       "      <td>2</td>\n",
       "      <td>8</td>\n",
       "      <td>2</td>\n",
       "    </tr>\n",
       "    <tr>\n",
       "      <th>talk_time</th>\n",
       "      <td>19</td>\n",
       "      <td>7</td>\n",
       "      <td>9</td>\n",
       "      <td>11</td>\n",
       "      <td>15</td>\n",
       "    </tr>\n",
       "    <tr>\n",
       "      <th>three_g</th>\n",
       "      <td>0</td>\n",
       "      <td>1</td>\n",
       "      <td>1</td>\n",
       "      <td>1</td>\n",
       "      <td>1</td>\n",
       "    </tr>\n",
       "    <tr>\n",
       "      <th>touch_screen</th>\n",
       "      <td>0</td>\n",
       "      <td>1</td>\n",
       "      <td>1</td>\n",
       "      <td>0</td>\n",
       "      <td>1</td>\n",
       "    </tr>\n",
       "    <tr>\n",
       "      <th>wifi</th>\n",
       "      <td>1</td>\n",
       "      <td>0</td>\n",
       "      <td>0</td>\n",
       "      <td>0</td>\n",
       "      <td>0</td>\n",
       "    </tr>\n",
       "    <tr>\n",
       "      <th>price_range</th>\n",
       "      <td>1.0</td>\n",
       "      <td>2.0</td>\n",
       "      <td>2.0</td>\n",
       "      <td>2.0</td>\n",
       "      <td>1.0</td>\n",
       "    </tr>\n",
       "  </tbody>\n",
       "</table>\n",
       "</div>"
      ],
      "text/plain": [
       "                      0         1         2         3         4\n",
       "battery_power       842      1021       563       615      1821\n",
       "blue                0.0       1.0       1.0       1.0       1.0\n",
       "clock_speed         2.2       0.5       0.5       2.5       1.2\n",
       "dual_sim            0.0       1.0       1.0       0.0       0.0\n",
       "fc                    1         0         2         0        13\n",
       "four_g                0         1         1         0         1\n",
       "int_memory          7.0      53.0      41.0      10.0      44.0\n",
       "m_dep               0.6       0.7       0.9       0.8       0.6\n",
       "mobile_wt           188       136       145       131       141\n",
       "n_cores               2         3         5         6         2\n",
       "pc                  2.0       6.0       6.0       9.0      14.0\n",
       "px_height          20.0     905.0    1263.0    1216.0    1208.0\n",
       "px_width            756      1988      1716      1786      1212\n",
       "ram            2,549.00  2,631.00  2,603.00  2,769.00  1,411.00\n",
       "sc_h                  9        17        11        16         8\n",
       "sc_w                  7         3         2         8         2\n",
       "talk_time            19         7         9        11        15\n",
       "three_g               0         1         1         1         1\n",
       "touch_screen          0         1         1         0         1\n",
       "wifi                  1         0         0         0         0\n",
       "price_range         1.0       2.0       2.0       2.0       1.0"
      ]
     },
     "execution_count": 2,
     "metadata": {},
     "output_type": "execute_result"
    }
   ],
   "source": [
    "# loading data set\n",
    "df = pd.read_csv(\"C:/Users/NOOMAN KHAN/Downloads/Mobile price New - Mobile price New.csv\")\n",
    "df.head().transpose()"
   ]
  },
  {
   "cell_type": "markdown",
   "id": "ae9f180e",
   "metadata": {},
   "source": [
    "battery_power - : Total energy a battery can store in one time measured in mAh\n",
    "\n",
    "blue -: Has bluetooth or not\n",
    "\n",
    "clock_speed - : speed at which microprocessor executes instructions\n",
    "\n",
    "dual_sim - : Has dual sim support or not\n",
    "\n",
    "fc - : Front Camera megapixels\n",
    "\n",
    "four_g - : Has 4G or not\n",
    "\n",
    "int_memory - : Internal Memory in Gigabytes\n",
    "\n",
    "m_dep - : Mobile Depth in cm\n",
    "\n",
    "mobile_wt - : Weight of mobile phone\n",
    "\n",
    "n_cores - : Number of cores of processor\n",
    "\n",
    "pc - : Primary Camera megapixels\n",
    "\n",
    "px_height - : Pixel Resolution Height\n",
    "\n",
    "px_width - : Pixel Resolution Width\n",
    "\n",
    "ram - : Random Access Memory in MegaBytes\n",
    "\n",
    "sc_h - : Screen Height of mobile in cm\n",
    "\n",
    "sc_w - : Screen Width of mobile in cm\n",
    "\n",
    "talk_time - : longest time that a single battery charge will last when you are\n",
    "\n",
    "three_g - : Has 3G or not\n",
    "\n",
    "touch_screen - : Has touch screen or not\n",
    "\n",
    "wifi - : Has wifi or not\n",
    "\n",
    "\n",
    "price_range - : This is the target variable with value of 0(low cost), 1(medium cost), 2(high\n",
    "\n",
    "cost) and 3(very high cost).\n"
   ]
  },
  {
   "cell_type": "markdown",
   "id": "008469cb",
   "metadata": {},
   "source": [
    "## 1. Explore the dataset -\n",
    "\n",
    "a. Find the percentage of null values in different columns\n",
    "\n",
    "b. Find the different unique values in each column"
   ]
  },
  {
   "cell_type": "code",
   "execution_count": 3,
   "id": "1376632e",
   "metadata": {},
   "outputs": [
    {
     "data": {
      "text/plain": [
       "(2001, 21)"
      ]
     },
     "execution_count": 3,
     "metadata": {},
     "output_type": "execute_result"
    }
   ],
   "source": [
    "df.shape"
   ]
  },
  {
   "cell_type": "code",
   "execution_count": 4,
   "id": "ef26c378",
   "metadata": {},
   "outputs": [
    {
     "data": {
      "text/plain": [
       "2001"
      ]
     },
     "execution_count": 4,
     "metadata": {},
     "output_type": "execute_result"
    }
   ],
   "source": [
    "len(df)"
   ]
  },
  {
   "cell_type": "code",
   "execution_count": 5,
   "id": "8b869519",
   "metadata": {},
   "outputs": [
    {
     "data": {
      "text/plain": [
       "battery_power    0.099950\n",
       "blue             0.049975\n",
       "clock_speed      0.149925\n",
       "dual_sim         0.049975\n",
       "fc               0.000000\n",
       "four_g           0.000000\n",
       "int_memory       0.049975\n",
       "m_dep            0.049975\n",
       "mobile_wt        0.049975\n",
       "n_cores          0.000000\n",
       "pc               0.049975\n",
       "px_height        0.049975\n",
       "px_width         0.099950\n",
       "ram              0.000000\n",
       "sc_h             0.000000\n",
       "sc_w             0.000000\n",
       "talk_time        0.000000\n",
       "three_g          0.000000\n",
       "touch_screen     0.000000\n",
       "wifi             0.000000\n",
       "price_range      0.099950\n",
       "dtype: float64"
      ]
     },
     "execution_count": 5,
     "metadata": {},
     "output_type": "execute_result"
    }
   ],
   "source": [
    "df.isnull().sum()/len(df)*100"
   ]
  },
  {
   "cell_type": "markdown",
   "id": "6fff040c",
   "metadata": {},
   "source": [
    "b. Find the different unique values in each column"
   ]
  },
  {
   "cell_type": "code",
   "execution_count": 6,
   "id": "3295d40e",
   "metadata": {},
   "outputs": [
    {
     "name": "stdout",
     "output_type": "stream",
     "text": [
      "['842' '1021' '563' ... '1139' '1467' '858']\n",
      "[ 0.  1. nan]\n",
      "[2.2 0.5 2.5 1.2 1.7 0.6 2.9 2.8 2.1 1.  nan 0.9 1.1 2.6 1.4 1.6 2.7 1.3\n",
      " 2.3 2.  1.8 3.  1.5 1.9 2.4 0.8 0.7]\n",
      "[ 0.  1. nan]\n",
      "[ 1  0  2 13  3  4  5  7 11 12 16  6 15  8  9 10 18 17 14 19]\n",
      "[0 1]\n",
      "[ 7. 53. 41. 10. 44. nan 24.  9. 33. 17. 52. 46. 13. 23. 49. 19. 39. 47.\n",
      " 38.  8. 57. 51. 21.  5. 22. 60. 61.  6. 11. 50. 34. 20. 27. 42. 40. 64.\n",
      " 14. 63. 43. 16. 48. 12. 55. 36. 30. 45. 29. 58. 25.  3. 54. 15. 37. 31.\n",
      " 32.  4. 18.  2. 56. 26. 35. 59. 28. 62.]\n",
      "[0.6 0.7 0.9 0.8 0.1 0.5 1.  0.3 0.4 0.2 nan]\n",
      "['188' '136' '145' '131' '141' '164' '139' '187' '174' '93' '182' '177'\n",
      " '159' '198' '185' '196' '121' '101' '81' '156' '199' '114' '111' '132'\n",
      " '143' '96' '200' '88' '150' '107' '100' '157' '160' '119' '87' '152'\n",
      " '166' '110' '118' '162' '127' '109' '102' '104' '148' '180' '128' '134'\n",
      " '144' '168' '155' '165' '80' '138' '142' '90' '197' '172' '116' '85'\n",
      " '163' '178' '171' '103' '83' '140' '194' '146' '192' '106' '135' '153'\n",
      " '89' '82' '130' '189' '181' '99' '184' '195' '108' '133' '179' '147'\n",
      " '137' '190' '176' '84' '97' '124' '183' '113' '92' '95' '151' '117' '94'\n",
      " '173' '105' '115' '91' '112' '123' '129' '154' '191' '175' '86' '98'\n",
      " '125' '126' '158' '170' '161' '193' '169' '120' '149' '186' 'Realme'\n",
      " '122' nan '167']\n",
      "[2 3 5 6 1 8 4 7]\n",
      "[ 2.  6.  9. 14.  7. 10.  0. 15.  1. 18. 17. 11. 16.  4. 20. 13.  3. 19.\n",
      "  8.  5. nan 12.]\n",
      "[  20.  905. 1263. ...  528.  915.  483.]\n",
      "['756' '1988' '1716' ... '743' '1890' '1632']\n",
      "['2,549.00' '2,631.00' '2,603.00' ... '2,032.00' '3,057.00' '3,919.00']\n",
      "[ 9 17 11 16  8 13 19  5 14 18  7 10 12  6 15]\n",
      "[ 7  3  2  8  1 10  9  0 15 13  5 11  4 12  6 17 14 16 18]\n",
      "[19  7  9 11 15 10 18  5 20 12 13  2  4  3 16  6 14 17  8]\n",
      "[0 1]\n",
      "[0 1]\n",
      "[1 0]\n",
      "[ 1.  2.  3.  0. nan]\n"
     ]
    }
   ],
   "source": [
    "for i in df.columns:\n",
    "    print(df[i].unique())"
   ]
  },
  {
   "cell_type": "code",
   "execution_count": 7,
   "id": "a35086c5",
   "metadata": {},
   "outputs": [
    {
     "name": "stdout",
     "output_type": "stream",
     "text": [
      "1872    6\n",
      "618     6\n",
      "1589    6\n",
      "1413    5\n",
      "1715    5\n",
      "       ..\n",
      "660     1\n",
      "1452    1\n",
      "1005    1\n",
      "1372    1\n",
      "858     1\n",
      "Name: battery_power, Length: 1093, dtype: int64\n",
      "0.0    1009\n",
      "1.0     991\n",
      "Name: blue, dtype: int64\n",
      "0.5    412\n",
      "2.8     86\n",
      "2.3     78\n",
      "1.6     76\n",
      "2.1     75\n",
      "2.5     74\n",
      "0.6     74\n",
      "1.4     69\n",
      "1.3     68\n",
      "1.5     67\n",
      "2.0     67\n",
      "1.9     65\n",
      "0.7     64\n",
      "2.9     62\n",
      "1.8     62\n",
      "1.0     61\n",
      "1.7     60\n",
      "2.2     59\n",
      "0.9     58\n",
      "2.4     58\n",
      "0.8     58\n",
      "1.2     56\n",
      "2.6     55\n",
      "2.7     55\n",
      "1.1     51\n",
      "3.0     28\n",
      "Name: clock_speed, dtype: int64\n",
      "1.0    1019\n",
      "0.0     981\n",
      "Name: dual_sim, dtype: int64\n",
      "0     474\n",
      "1     245\n",
      "2     189\n",
      "3     170\n",
      "5     139\n",
      "4     134\n",
      "6     112\n",
      "7     100\n",
      "9      78\n",
      "8      77\n",
      "10     62\n",
      "11     51\n",
      "12     45\n",
      "13     40\n",
      "16     24\n",
      "15     23\n",
      "14     20\n",
      "18     11\n",
      "17      6\n",
      "19      1\n",
      "Name: fc, dtype: int64\n",
      "1    1044\n",
      "0     957\n",
      "Name: four_g, dtype: int64\n",
      "27.0    47\n",
      "16.0    45\n",
      "14.0    45\n",
      "57.0    42\n",
      "2.0     42\n",
      "        ..\n",
      "43.0    24\n",
      "22.0    23\n",
      "62.0    21\n",
      "4.0     20\n",
      "59.0    18\n",
      "Name: int_memory, Length: 63, dtype: int64\n",
      "0.1    320\n",
      "0.2    213\n",
      "0.8    208\n",
      "0.5    205\n",
      "0.7    201\n",
      "0.3    199\n",
      "0.9    195\n",
      "0.6    186\n",
      "0.4    168\n",
      "1.0    105\n",
      "Name: m_dep, dtype: int64\n",
      "182       28\n",
      "185       27\n",
      "101       27\n",
      "199       26\n",
      "146       26\n",
      "          ..\n",
      "140        9\n",
      "120        9\n",
      "149        9\n",
      "96         9\n",
      "Realme     1\n",
      "Name: mobile_wt, Length: 122, dtype: int64\n",
      "4    274\n",
      "7    259\n",
      "8    256\n",
      "2    247\n",
      "3    247\n",
      "5    246\n",
      "1    242\n",
      "6    230\n",
      "Name: n_cores, dtype: int64\n",
      "10.0    122\n",
      "7.0     119\n",
      "9.0     112\n",
      "20.0    111\n",
      "1.0     104\n",
      "14.0    104\n",
      "0.0     100\n",
      "2.0      99\n",
      "17.0     99\n",
      "6.0      95\n",
      "4.0      95\n",
      "3.0      93\n",
      "15.0     92\n",
      "12.0     90\n",
      "8.0      89\n",
      "16.0     88\n",
      "13.0     85\n",
      "19.0     83\n",
      "18.0     82\n",
      "11.0     79\n",
      "5.0      59\n",
      "Name: pc, dtype: int64\n",
      "347.0    7\n",
      "371.0    6\n",
      "179.0    6\n",
      "275.0    6\n",
      "526.0    5\n",
      "        ..\n",
      "856.0    1\n",
      "562.0    1\n",
      "997.0    1\n",
      "445.0    1\n",
      "483.0    1\n",
      "Name: px_height, Length: 1136, dtype: int64\n",
      "874     7\n",
      "1247    7\n",
      "1463    6\n",
      "1383    6\n",
      "1469    6\n",
      "       ..\n",
      "1647    1\n",
      "1125    1\n",
      "1367    1\n",
      "1569    1\n",
      "1632    1\n",
      "Name: px_width, Length: 1108, dtype: int64\n",
      "1,464.00    4\n",
      "2,227.00    4\n",
      "3,142.00    4\n",
      "2,610.00    4\n",
      "1,229.00    4\n",
      "           ..\n",
      "2,312.00    1\n",
      "2,167.00    1\n",
      "3,508.00    1\n",
      "297.00      1\n",
      "3,919.00    1\n",
      "Name: ram, Length: 1562, dtype: int64\n",
      "17    193\n",
      "12    157\n",
      "7     151\n",
      "16    143\n",
      "14    143\n",
      "15    135\n",
      "13    131\n",
      "11    126\n",
      "10    125\n",
      "9     124\n",
      "19    124\n",
      "18    120\n",
      "8     118\n",
      "6     114\n",
      "5      97\n",
      "Name: sc_h, dtype: int64\n",
      "1     210\n",
      "3     199\n",
      "4     182\n",
      "0     180\n",
      "5     161\n",
      "2     156\n",
      "7     133\n",
      "6     130\n",
      "8     125\n",
      "10    107\n",
      "9      97\n",
      "11     84\n",
      "12     68\n",
      "13     49\n",
      "14     33\n",
      "15     31\n",
      "16     29\n",
      "17     19\n",
      "18      8\n",
      "Name: sc_w, dtype: int64\n",
      "7     124\n",
      "4     123\n",
      "16    116\n",
      "15    115\n",
      "19    113\n",
      "6     111\n",
      "10    105\n",
      "8     104\n",
      "20    103\n",
      "11    103\n",
      "14    101\n",
      "13    100\n",
      "18    100\n",
      "9     100\n",
      "2      99\n",
      "12     99\n",
      "17     98\n",
      "3      94\n",
      "5      93\n",
      "Name: talk_time, dtype: int64\n",
      "1    1524\n",
      "0     477\n",
      "Name: three_g, dtype: int64\n",
      "1    1006\n",
      "0     995\n",
      "Name: touch_screen, dtype: int64\n",
      "1    1014\n",
      "0     987\n",
      "Name: wifi, dtype: int64\n",
      "0.0    501\n",
      "3.0    500\n",
      "1.0    499\n",
      "2.0    499\n",
      "Name: price_range, dtype: int64\n"
     ]
    }
   ],
   "source": [
    "for i in df.columns:\n",
    "    print(df[i].value_counts())"
   ]
  },
  {
   "cell_type": "markdown",
   "id": "ede65ac2",
   "metadata": {},
   "source": [
    "#### Data preprocessing - data cleaning\n",
    "a. Handle the missing values and noise values\n",
    "\n",
    "b. Treat the outlier\n",
    "\n",
    "c. Apply the encoding on categorical columns\n",
    "\n",
    "d. Apply the scaling on numerical columns"
   ]
  },
  {
   "cell_type": "markdown",
   "id": "c373c722",
   "metadata": {},
   "source": [
    "a. Handle the missing values and noise values"
   ]
  },
  {
   "cell_type": "code",
   "execution_count": 8,
   "id": "a5f0e598",
   "metadata": {},
   "outputs": [
    {
     "data": {
      "text/plain": [
       "battery_power    2\n",
       "blue             1\n",
       "clock_speed      3\n",
       "dual_sim         1\n",
       "fc               0\n",
       "four_g           0\n",
       "int_memory       1\n",
       "m_dep            1\n",
       "mobile_wt        1\n",
       "n_cores          0\n",
       "pc               1\n",
       "px_height        1\n",
       "px_width         2\n",
       "ram              0\n",
       "sc_h             0\n",
       "sc_w             0\n",
       "talk_time        0\n",
       "three_g          0\n",
       "touch_screen     0\n",
       "wifi             0\n",
       "price_range      2\n",
       "dtype: int64"
      ]
     },
     "execution_count": 8,
     "metadata": {},
     "output_type": "execute_result"
    }
   ],
   "source": [
    "df.isnull().sum()"
   ]
  },
  {
   "cell_type": "code",
   "execution_count": 9,
   "id": "9e191095",
   "metadata": {},
   "outputs": [
    {
     "data": {
      "text/plain": [
       "battery_power     object\n",
       "blue             float64\n",
       "clock_speed      float64\n",
       "dual_sim         float64\n",
       "fc                 int64\n",
       "four_g             int64\n",
       "int_memory       float64\n",
       "m_dep            float64\n",
       "mobile_wt         object\n",
       "n_cores            int64\n",
       "pc               float64\n",
       "px_height        float64\n",
       "px_width          object\n",
       "ram               object\n",
       "sc_h               int64\n",
       "sc_w               int64\n",
       "talk_time          int64\n",
       "three_g            int64\n",
       "touch_screen       int64\n",
       "wifi               int64\n",
       "price_range      float64\n",
       "dtype: object"
      ]
     },
     "execution_count": 9,
     "metadata": {},
     "output_type": "execute_result"
    }
   ],
   "source": [
    "df.dtypes"
   ]
  },
  {
   "cell_type": "markdown",
   "id": "413a5cec",
   "metadata": {},
   "source": [
    "Some feature are object but in actual they are numeric there may be some noise"
   ]
  },
  {
   "cell_type": "code",
   "execution_count": 11,
   "id": "8735b4d0",
   "metadata": {},
   "outputs": [],
   "source": [
    "df[\"battery_power\"] = pd.to_numeric(df[\"battery_power\"] , errors = \"coerce\")"
   ]
  },
  {
   "cell_type": "code",
   "execution_count": 12,
   "id": "ef06506b",
   "metadata": {},
   "outputs": [
    {
     "data": {
      "text/plain": [
       "array(['188', '136', '145', '131', '141', '164', '139', '187', '174',\n",
       "       '93', '182', '177', '159', '198', '185', '196', '121', '101', '81',\n",
       "       '156', '199', '114', '111', '132', '143', '96', '200', '88', '150',\n",
       "       '107', '100', '157', '160', '119', '87', '152', '166', '110',\n",
       "       '118', '162', '127', '109', '102', '104', '148', '180', '128',\n",
       "       '134', '144', '168', '155', '165', '80', '138', '142', '90', '197',\n",
       "       '172', '116', '85', '163', '178', '171', '103', '83', '140', '194',\n",
       "       '146', '192', '106', '135', '153', '89', '82', '130', '189', '181',\n",
       "       '99', '184', '195', '108', '133', '179', '147', '137', '190',\n",
       "       '176', '84', '97', '124', '183', '113', '92', '95', '151', '117',\n",
       "       '94', '173', '105', '115', '91', '112', '123', '129', '154', '191',\n",
       "       '175', '86', '98', '125', '126', '158', '170', '161', '193', '169',\n",
       "       '120', '149', '186', 'Realme', '122', nan, '167'], dtype=object)"
      ]
     },
     "execution_count": 12,
     "metadata": {},
     "output_type": "execute_result"
    }
   ],
   "source": [
    "df[\"mobile_wt\"].unique()"
   ]
  },
  {
   "cell_type": "code",
   "execution_count": 13,
   "id": "f33f263e",
   "metadata": {},
   "outputs": [
    {
     "data": {
      "text/html": [
       "<div>\n",
       "<style scoped>\n",
       "    .dataframe tbody tr th:only-of-type {\n",
       "        vertical-align: middle;\n",
       "    }\n",
       "\n",
       "    .dataframe tbody tr th {\n",
       "        vertical-align: top;\n",
       "    }\n",
       "\n",
       "    .dataframe thead th {\n",
       "        text-align: right;\n",
       "    }\n",
       "</style>\n",
       "<table border=\"1\" class=\"dataframe\">\n",
       "  <thead>\n",
       "    <tr style=\"text-align: right;\">\n",
       "      <th></th>\n",
       "      <th>battery_power</th>\n",
       "      <th>blue</th>\n",
       "      <th>clock_speed</th>\n",
       "      <th>dual_sim</th>\n",
       "      <th>fc</th>\n",
       "      <th>four_g</th>\n",
       "      <th>int_memory</th>\n",
       "      <th>m_dep</th>\n",
       "      <th>mobile_wt</th>\n",
       "      <th>n_cores</th>\n",
       "      <th>...</th>\n",
       "      <th>px_height</th>\n",
       "      <th>px_width</th>\n",
       "      <th>ram</th>\n",
       "      <th>sc_h</th>\n",
       "      <th>sc_w</th>\n",
       "      <th>talk_time</th>\n",
       "      <th>three_g</th>\n",
       "      <th>touch_screen</th>\n",
       "      <th>wifi</th>\n",
       "      <th>price_range</th>\n",
       "    </tr>\n",
       "  </thead>\n",
       "  <tbody>\n",
       "    <tr>\n",
       "      <th>440</th>\n",
       "      <td>1469.0</td>\n",
       "      <td>0.0</td>\n",
       "      <td>2.1</td>\n",
       "      <td>0.0</td>\n",
       "      <td>0</td>\n",
       "      <td>0</td>\n",
       "      <td>8.0</td>\n",
       "      <td>0.7</td>\n",
       "      <td>Realme</td>\n",
       "      <td>7</td>\n",
       "      <td>...</td>\n",
       "      <td>398.0</td>\n",
       "      <td>1133</td>\n",
       "      <td>1,052.00</td>\n",
       "      <td>8</td>\n",
       "      <td>1</td>\n",
       "      <td>3</td>\n",
       "      <td>0</td>\n",
       "      <td>1</td>\n",
       "      <td>0</td>\n",
       "      <td>0.0</td>\n",
       "    </tr>\n",
       "  </tbody>\n",
       "</table>\n",
       "<p>1 rows × 21 columns</p>\n",
       "</div>"
      ],
      "text/plain": [
       "     battery_power  blue  clock_speed  dual_sim  fc  four_g  int_memory  \\\n",
       "440         1469.0   0.0          2.1       0.0   0       0         8.0   \n",
       "\n",
       "     m_dep mobile_wt  n_cores  ...  px_height  px_width       ram sc_h  sc_w  \\\n",
       "440    0.7    Realme        7  ...      398.0      1133  1,052.00    8     1   \n",
       "\n",
       "     talk_time  three_g  touch_screen  wifi  price_range  \n",
       "440          3        0             1     0          0.0  \n",
       "\n",
       "[1 rows x 21 columns]"
      ]
     },
     "execution_count": 13,
     "metadata": {},
     "output_type": "execute_result"
    }
   ],
   "source": [
    "# noise\n",
    "df[df[\"mobile_wt\"]==\"Realme\"]"
   ]
  },
  {
   "cell_type": "code",
   "execution_count": 14,
   "id": "e4e93197",
   "metadata": {},
   "outputs": [],
   "source": [
    "# convert noise into null\n",
    "df[\"mobile_wt\"] = pd.to_numeric( df[\"mobile_wt\"] , errors = \"coerce\")"
   ]
  },
  {
   "cell_type": "code",
   "execution_count": 15,
   "id": "a94c7321",
   "metadata": {},
   "outputs": [
    {
     "data": {
      "text/plain": [
       "battery_power    float64\n",
       "blue             float64\n",
       "clock_speed      float64\n",
       "dual_sim         float64\n",
       "fc                 int64\n",
       "four_g             int64\n",
       "int_memory       float64\n",
       "m_dep            float64\n",
       "mobile_wt        float64\n",
       "n_cores            int64\n",
       "pc               float64\n",
       "px_height        float64\n",
       "px_width          object\n",
       "ram               object\n",
       "sc_h               int64\n",
       "sc_w               int64\n",
       "talk_time          int64\n",
       "three_g            int64\n",
       "touch_screen       int64\n",
       "wifi               int64\n",
       "price_range      float64\n",
       "dtype: object"
      ]
     },
     "execution_count": 15,
     "metadata": {},
     "output_type": "execute_result"
    }
   ],
   "source": [
    "df.dtypes"
   ]
  },
  {
   "cell_type": "code",
   "execution_count": 16,
   "id": "353dfd38",
   "metadata": {},
   "outputs": [
    {
     "data": {
      "text/html": [
       "<div>\n",
       "<style scoped>\n",
       "    .dataframe tbody tr th:only-of-type {\n",
       "        vertical-align: middle;\n",
       "    }\n",
       "\n",
       "    .dataframe tbody tr th {\n",
       "        vertical-align: top;\n",
       "    }\n",
       "\n",
       "    .dataframe thead th {\n",
       "        text-align: right;\n",
       "    }\n",
       "</style>\n",
       "<table border=\"1\" class=\"dataframe\">\n",
       "  <thead>\n",
       "    <tr style=\"text-align: right;\">\n",
       "      <th></th>\n",
       "      <th>battery_power</th>\n",
       "      <th>blue</th>\n",
       "      <th>clock_speed</th>\n",
       "      <th>dual_sim</th>\n",
       "      <th>fc</th>\n",
       "      <th>four_g</th>\n",
       "      <th>int_memory</th>\n",
       "      <th>m_dep</th>\n",
       "      <th>mobile_wt</th>\n",
       "      <th>n_cores</th>\n",
       "      <th>...</th>\n",
       "      <th>px_height</th>\n",
       "      <th>px_width</th>\n",
       "      <th>ram</th>\n",
       "      <th>sc_h</th>\n",
       "      <th>sc_w</th>\n",
       "      <th>talk_time</th>\n",
       "      <th>three_g</th>\n",
       "      <th>touch_screen</th>\n",
       "      <th>wifi</th>\n",
       "      <th>price_range</th>\n",
       "    </tr>\n",
       "  </thead>\n",
       "  <tbody>\n",
       "    <tr>\n",
       "      <th>1098</th>\n",
       "      <td>1375.0</td>\n",
       "      <td>0.0</td>\n",
       "      <td>0.5</td>\n",
       "      <td>1.0</td>\n",
       "      <td>2</td>\n",
       "      <td>1</td>\n",
       "      <td>35.0</td>\n",
       "      <td>0.1</td>\n",
       "      <td>194.0</td>\n",
       "      <td>2</td>\n",
       "      <td>...</td>\n",
       "      <td>227.0</td>\n",
       "      <td>Wephone</td>\n",
       "      <td>1,947.00</td>\n",
       "      <td>15</td>\n",
       "      <td>13</td>\n",
       "      <td>15</td>\n",
       "      <td>1</td>\n",
       "      <td>1</td>\n",
       "      <td>1</td>\n",
       "      <td>1.0</td>\n",
       "    </tr>\n",
       "  </tbody>\n",
       "</table>\n",
       "<p>1 rows × 21 columns</p>\n",
       "</div>"
      ],
      "text/plain": [
       "      battery_power  blue  clock_speed  dual_sim  fc  four_g  int_memory  \\\n",
       "1098         1375.0   0.0          0.5       1.0   2       1        35.0   \n",
       "\n",
       "      m_dep  mobile_wt  n_cores  ...  px_height  px_width       ram sc_h  \\\n",
       "1098    0.1      194.0        2  ...      227.0   Wephone  1,947.00   15   \n",
       "\n",
       "      sc_w  talk_time  three_g  touch_screen  wifi  price_range  \n",
       "1098    13         15        1             1     1          1.0  \n",
       "\n",
       "[1 rows x 21 columns]"
      ]
     },
     "execution_count": 16,
     "metadata": {},
     "output_type": "execute_result"
    }
   ],
   "source": [
    "# noise\n",
    "df[df[\"px_width\"]=='Wephone']"
   ]
  },
  {
   "cell_type": "code",
   "execution_count": 17,
   "id": "b9666f61",
   "metadata": {},
   "outputs": [],
   "source": [
    "# convert noise into null\n",
    "df[\"px_width\"] = pd.to_numeric( df[\"px_width\"] , errors = \"coerce\")"
   ]
  },
  {
   "cell_type": "code",
   "execution_count": 18,
   "id": "ac286cbf",
   "metadata": {},
   "outputs": [
    {
     "data": {
      "text/plain": [
       "battery_power    float64\n",
       "blue             float64\n",
       "clock_speed      float64\n",
       "dual_sim         float64\n",
       "fc                 int64\n",
       "four_g             int64\n",
       "int_memory       float64\n",
       "m_dep            float64\n",
       "mobile_wt        float64\n",
       "n_cores            int64\n",
       "pc               float64\n",
       "px_height        float64\n",
       "px_width         float64\n",
       "ram               object\n",
       "sc_h               int64\n",
       "sc_w               int64\n",
       "talk_time          int64\n",
       "three_g            int64\n",
       "touch_screen       int64\n",
       "wifi               int64\n",
       "price_range      float64\n",
       "dtype: object"
      ]
     },
     "execution_count": 18,
     "metadata": {},
     "output_type": "execute_result"
    }
   ],
   "source": [
    "df.dtypes"
   ]
  },
  {
   "cell_type": "code",
   "execution_count": 19,
   "id": "621e4394",
   "metadata": {},
   "outputs": [
    {
     "data": {
      "text/plain": [
       "array(['2,549.00', '2,631.00', '2,603.00', ..., '2,032.00', '3,057.00',\n",
       "       '3,919.00'], dtype=object)"
      ]
     },
     "execution_count": 19,
     "metadata": {},
     "output_type": "execute_result"
    }
   ],
   "source": [
    "# there is comma we have to replace it   \n",
    "df[\"ram\"].unique()"
   ]
  },
  {
   "cell_type": "code",
   "execution_count": 20,
   "id": "d779b7d3",
   "metadata": {},
   "outputs": [],
   "source": [
    "df[\"ram\"] = df[\"ram\"].str.replace(\",\",\"\")"
   ]
  },
  {
   "cell_type": "code",
   "execution_count": 21,
   "id": "0a5b3b2c",
   "metadata": {},
   "outputs": [
    {
     "data": {
      "text/plain": [
       "array(['2549.00', '2631.00', '2603.00', ..., '2032.00', '3057.00',\n",
       "       '3919.00'], dtype=object)"
      ]
     },
     "execution_count": 21,
     "metadata": {},
     "output_type": "execute_result"
    }
   ],
   "source": [
    "df[\"ram\"].unique()"
   ]
  },
  {
   "cell_type": "code",
   "execution_count": 22,
   "id": "1ad76648",
   "metadata": {},
   "outputs": [
    {
     "data": {
      "text/html": [
       "<div>\n",
       "<style scoped>\n",
       "    .dataframe tbody tr th:only-of-type {\n",
       "        vertical-align: middle;\n",
       "    }\n",
       "\n",
       "    .dataframe tbody tr th {\n",
       "        vertical-align: top;\n",
       "    }\n",
       "\n",
       "    .dataframe thead th {\n",
       "        text-align: right;\n",
       "    }\n",
       "</style>\n",
       "<table border=\"1\" class=\"dataframe\">\n",
       "  <thead>\n",
       "    <tr style=\"text-align: right;\">\n",
       "      <th></th>\n",
       "      <th>battery_power</th>\n",
       "      <th>blue</th>\n",
       "      <th>clock_speed</th>\n",
       "      <th>dual_sim</th>\n",
       "      <th>fc</th>\n",
       "      <th>four_g</th>\n",
       "      <th>int_memory</th>\n",
       "      <th>m_dep</th>\n",
       "      <th>mobile_wt</th>\n",
       "      <th>n_cores</th>\n",
       "      <th>...</th>\n",
       "      <th>px_height</th>\n",
       "      <th>px_width</th>\n",
       "      <th>ram</th>\n",
       "      <th>sc_h</th>\n",
       "      <th>sc_w</th>\n",
       "      <th>talk_time</th>\n",
       "      <th>three_g</th>\n",
       "      <th>touch_screen</th>\n",
       "      <th>wifi</th>\n",
       "      <th>price_range</th>\n",
       "    </tr>\n",
       "  </thead>\n",
       "  <tbody>\n",
       "    <tr>\n",
       "      <th>422</th>\n",
       "      <td>1178.0</td>\n",
       "      <td>0.0</td>\n",
       "      <td>2.2</td>\n",
       "      <td>1.0</td>\n",
       "      <td>6</td>\n",
       "      <td>0</td>\n",
       "      <td>57.0</td>\n",
       "      <td>0.3</td>\n",
       "      <td>84.0</td>\n",
       "      <td>3</td>\n",
       "      <td>...</td>\n",
       "      <td>96.0</td>\n",
       "      <td>1352.0</td>\n",
       "      <td>-</td>\n",
       "      <td>16</td>\n",
       "      <td>14</td>\n",
       "      <td>10</td>\n",
       "      <td>1</td>\n",
       "      <td>1</td>\n",
       "      <td>0</td>\n",
       "      <td>2.0</td>\n",
       "    </tr>\n",
       "  </tbody>\n",
       "</table>\n",
       "<p>1 rows × 21 columns</p>\n",
       "</div>"
      ],
      "text/plain": [
       "     battery_power  blue  clock_speed  dual_sim  fc  four_g  int_memory  \\\n",
       "422         1178.0   0.0          2.2       1.0   6       0        57.0   \n",
       "\n",
       "     m_dep  mobile_wt  n_cores  ...  px_height  px_width  ram sc_h  sc_w  \\\n",
       "422    0.3       84.0        3  ...       96.0    1352.0    -   16    14   \n",
       "\n",
       "     talk_time  three_g  touch_screen  wifi  price_range  \n",
       "422         10        1             1     0          2.0  \n",
       "\n",
       "[1 rows x 21 columns]"
      ]
     },
     "execution_count": 22,
     "metadata": {},
     "output_type": "execute_result"
    }
   ],
   "source": [
    "# noise\n",
    "df[df[\"ram\"]==\"-\"]"
   ]
  },
  {
   "cell_type": "code",
   "execution_count": 23,
   "id": "cc0f2817",
   "metadata": {},
   "outputs": [],
   "source": [
    "df[\"ram\"] = pd.to_numeric( df[\"ram\"] , errors = \"coerce\")"
   ]
  },
  {
   "cell_type": "code",
   "execution_count": 24,
   "id": "706af28b",
   "metadata": {},
   "outputs": [
    {
     "data": {
      "text/plain": [
       "battery_power    float64\n",
       "blue             float64\n",
       "clock_speed      float64\n",
       "dual_sim         float64\n",
       "fc                 int64\n",
       "four_g             int64\n",
       "int_memory       float64\n",
       "m_dep            float64\n",
       "mobile_wt        float64\n",
       "n_cores            int64\n",
       "pc               float64\n",
       "px_height        float64\n",
       "px_width         float64\n",
       "ram              float64\n",
       "sc_h               int64\n",
       "sc_w               int64\n",
       "talk_time          int64\n",
       "three_g            int64\n",
       "touch_screen       int64\n",
       "wifi               int64\n",
       "price_range      float64\n",
       "dtype: object"
      ]
     },
     "execution_count": 24,
     "metadata": {},
     "output_type": "execute_result"
    }
   ],
   "source": [
    "df.dtypes\n",
    "\n",
    "\n",
    "\n",
    "\n",
    "\n",
    "\n",
    "\n",
    "\n",
    "\n",
    "\n",
    "\n",
    "\n",
    "\n",
    "\n",
    "\n",
    "\n",
    "\n",
    "\n",
    "\n",
    "\n",
    "\n",
    "\n"
   ]
  },
  {
   "cell_type": "markdown",
   "id": "311d395f",
   "metadata": {},
   "source": [
    "All column in respective units now we can go thorugh missing value analysis"
   ]
  },
  {
   "cell_type": "code",
   "execution_count": 25,
   "id": "55cce6c8",
   "metadata": {},
   "outputs": [
    {
     "data": {
      "text/plain": [
       "22"
      ]
     },
     "execution_count": 25,
     "metadata": {},
     "output_type": "execute_result"
    }
   ],
   "source": [
    "df.isnull().sum().sum()"
   ]
  },
  {
   "cell_type": "markdown",
   "id": "e010e2f9",
   "metadata": {},
   "source": [
    "Maximum percentage of null is 0.19% in \"battery power\"\n",
    "the total null is 22 out of 2001 1% of entire data if delete not much affect our distribution of  feature "
   ]
  },
  {
   "cell_type": "code",
   "execution_count": 68,
   "id": "f99a23a9",
   "metadata": {},
   "outputs": [],
   "source": [
    "# 5 number summary before removing null"
   ]
  },
  {
   "cell_type": "code",
   "execution_count": 26,
   "id": "a7e482d9",
   "metadata": {},
   "outputs": [
    {
     "data": {
      "text/html": [
       "<div>\n",
       "<style scoped>\n",
       "    .dataframe tbody tr th:only-of-type {\n",
       "        vertical-align: middle;\n",
       "    }\n",
       "\n",
       "    .dataframe tbody tr th {\n",
       "        vertical-align: top;\n",
       "    }\n",
       "\n",
       "    .dataframe thead th {\n",
       "        text-align: right;\n",
       "    }\n",
       "</style>\n",
       "<table border=\"1\" class=\"dataframe\">\n",
       "  <thead>\n",
       "    <tr style=\"text-align: right;\">\n",
       "      <th></th>\n",
       "      <th>battery_power</th>\n",
       "      <th>blue</th>\n",
       "      <th>clock_speed</th>\n",
       "      <th>dual_sim</th>\n",
       "      <th>fc</th>\n",
       "      <th>four_g</th>\n",
       "      <th>int_memory</th>\n",
       "      <th>m_dep</th>\n",
       "      <th>mobile_wt</th>\n",
       "      <th>n_cores</th>\n",
       "      <th>...</th>\n",
       "      <th>px_height</th>\n",
       "      <th>px_width</th>\n",
       "      <th>ram</th>\n",
       "      <th>sc_h</th>\n",
       "      <th>sc_w</th>\n",
       "      <th>talk_time</th>\n",
       "      <th>three_g</th>\n",
       "      <th>touch_screen</th>\n",
       "      <th>wifi</th>\n",
       "      <th>price_range</th>\n",
       "    </tr>\n",
       "  </thead>\n",
       "  <tbody>\n",
       "    <tr>\n",
       "      <th>count</th>\n",
       "      <td>1997.000000</td>\n",
       "      <td>2000.000000</td>\n",
       "      <td>1998.000000</td>\n",
       "      <td>2000.000000</td>\n",
       "      <td>2001.000000</td>\n",
       "      <td>2001.000000</td>\n",
       "      <td>2000.00000</td>\n",
       "      <td>2000.000000</td>\n",
       "      <td>1999.000000</td>\n",
       "      <td>2001.000000</td>\n",
       "      <td>...</td>\n",
       "      <td>2000.000000</td>\n",
       "      <td>1998.000000</td>\n",
       "      <td>1999.000000</td>\n",
       "      <td>2001.000000</td>\n",
       "      <td>2001.000000</td>\n",
       "      <td>2001.000000</td>\n",
       "      <td>2001.000000</td>\n",
       "      <td>2001.000000</td>\n",
       "      <td>2001.000000</td>\n",
       "      <td>1999.000000</td>\n",
       "    </tr>\n",
       "    <tr>\n",
       "      <th>mean</th>\n",
       "      <td>1238.443665</td>\n",
       "      <td>0.495500</td>\n",
       "      <td>1.523173</td>\n",
       "      <td>0.509500</td>\n",
       "      <td>4.309345</td>\n",
       "      <td>0.521739</td>\n",
       "      <td>32.05450</td>\n",
       "      <td>0.501600</td>\n",
       "      <td>140.262631</td>\n",
       "      <td>4.519740</td>\n",
       "      <td>...</td>\n",
       "      <td>644.772500</td>\n",
       "      <td>1251.184184</td>\n",
       "      <td>2123.515258</td>\n",
       "      <td>12.304348</td>\n",
       "      <td>5.767616</td>\n",
       "      <td>11.015492</td>\n",
       "      <td>0.761619</td>\n",
       "      <td>0.502749</td>\n",
       "      <td>0.506747</td>\n",
       "      <td>1.499250</td>\n",
       "    </tr>\n",
       "    <tr>\n",
       "      <th>std</th>\n",
       "      <td>439.256096</td>\n",
       "      <td>0.500105</td>\n",
       "      <td>0.816485</td>\n",
       "      <td>0.500035</td>\n",
       "      <td>4.340364</td>\n",
       "      <td>0.499652</td>\n",
       "      <td>18.14481</td>\n",
       "      <td>0.288234</td>\n",
       "      <td>35.401989</td>\n",
       "      <td>2.287517</td>\n",
       "      <td>...</td>\n",
       "      <td>443.662376</td>\n",
       "      <td>432.267431</td>\n",
       "      <td>1085.243808</td>\n",
       "      <td>4.213292</td>\n",
       "      <td>4.355396</td>\n",
       "      <td>5.466284</td>\n",
       "      <td>0.426200</td>\n",
       "      <td>0.500117</td>\n",
       "      <td>0.500079</td>\n",
       "      <td>1.118985</td>\n",
       "    </tr>\n",
       "    <tr>\n",
       "      <th>min</th>\n",
       "      <td>501.000000</td>\n",
       "      <td>0.000000</td>\n",
       "      <td>0.500000</td>\n",
       "      <td>0.000000</td>\n",
       "      <td>0.000000</td>\n",
       "      <td>0.000000</td>\n",
       "      <td>2.00000</td>\n",
       "      <td>0.100000</td>\n",
       "      <td>80.000000</td>\n",
       "      <td>1.000000</td>\n",
       "      <td>...</td>\n",
       "      <td>0.000000</td>\n",
       "      <td>500.000000</td>\n",
       "      <td>256.000000</td>\n",
       "      <td>5.000000</td>\n",
       "      <td>0.000000</td>\n",
       "      <td>2.000000</td>\n",
       "      <td>0.000000</td>\n",
       "      <td>0.000000</td>\n",
       "      <td>0.000000</td>\n",
       "      <td>0.000000</td>\n",
       "    </tr>\n",
       "    <tr>\n",
       "      <th>25%</th>\n",
       "      <td>852.000000</td>\n",
       "      <td>0.000000</td>\n",
       "      <td>0.700000</td>\n",
       "      <td>0.000000</td>\n",
       "      <td>1.000000</td>\n",
       "      <td>0.000000</td>\n",
       "      <td>16.00000</td>\n",
       "      <td>0.200000</td>\n",
       "      <td>109.000000</td>\n",
       "      <td>3.000000</td>\n",
       "      <td>...</td>\n",
       "      <td>282.750000</td>\n",
       "      <td>874.250000</td>\n",
       "      <td>1205.500000</td>\n",
       "      <td>9.000000</td>\n",
       "      <td>2.000000</td>\n",
       "      <td>6.000000</td>\n",
       "      <td>1.000000</td>\n",
       "      <td>0.000000</td>\n",
       "      <td>0.000000</td>\n",
       "      <td>0.000000</td>\n",
       "    </tr>\n",
       "    <tr>\n",
       "      <th>50%</th>\n",
       "      <td>1227.000000</td>\n",
       "      <td>0.000000</td>\n",
       "      <td>1.500000</td>\n",
       "      <td>1.000000</td>\n",
       "      <td>3.000000</td>\n",
       "      <td>1.000000</td>\n",
       "      <td>32.00000</td>\n",
       "      <td>0.500000</td>\n",
       "      <td>141.000000</td>\n",
       "      <td>4.000000</td>\n",
       "      <td>...</td>\n",
       "      <td>564.000000</td>\n",
       "      <td>1247.000000</td>\n",
       "      <td>2146.000000</td>\n",
       "      <td>12.000000</td>\n",
       "      <td>5.000000</td>\n",
       "      <td>11.000000</td>\n",
       "      <td>1.000000</td>\n",
       "      <td>1.000000</td>\n",
       "      <td>1.000000</td>\n",
       "      <td>1.000000</td>\n",
       "    </tr>\n",
       "    <tr>\n",
       "      <th>75%</th>\n",
       "      <td>1615.000000</td>\n",
       "      <td>1.000000</td>\n",
       "      <td>2.200000</td>\n",
       "      <td>1.000000</td>\n",
       "      <td>7.000000</td>\n",
       "      <td>1.000000</td>\n",
       "      <td>48.00000</td>\n",
       "      <td>0.800000</td>\n",
       "      <td>170.000000</td>\n",
       "      <td>7.000000</td>\n",
       "      <td>...</td>\n",
       "      <td>946.250000</td>\n",
       "      <td>1632.750000</td>\n",
       "      <td>3065.000000</td>\n",
       "      <td>16.000000</td>\n",
       "      <td>9.000000</td>\n",
       "      <td>16.000000</td>\n",
       "      <td>1.000000</td>\n",
       "      <td>1.000000</td>\n",
       "      <td>1.000000</td>\n",
       "      <td>2.500000</td>\n",
       "    </tr>\n",
       "    <tr>\n",
       "      <th>max</th>\n",
       "      <td>1998.000000</td>\n",
       "      <td>1.000000</td>\n",
       "      <td>3.000000</td>\n",
       "      <td>1.000000</td>\n",
       "      <td>19.000000</td>\n",
       "      <td>1.000000</td>\n",
       "      <td>64.00000</td>\n",
       "      <td>1.000000</td>\n",
       "      <td>200.000000</td>\n",
       "      <td>8.000000</td>\n",
       "      <td>...</td>\n",
       "      <td>1960.000000</td>\n",
       "      <td>1998.000000</td>\n",
       "      <td>3998.000000</td>\n",
       "      <td>19.000000</td>\n",
       "      <td>18.000000</td>\n",
       "      <td>20.000000</td>\n",
       "      <td>1.000000</td>\n",
       "      <td>1.000000</td>\n",
       "      <td>1.000000</td>\n",
       "      <td>3.000000</td>\n",
       "    </tr>\n",
       "  </tbody>\n",
       "</table>\n",
       "<p>8 rows × 21 columns</p>\n",
       "</div>"
      ],
      "text/plain": [
       "       battery_power         blue  clock_speed     dual_sim           fc  \\\n",
       "count    1997.000000  2000.000000  1998.000000  2000.000000  2001.000000   \n",
       "mean     1238.443665     0.495500     1.523173     0.509500     4.309345   \n",
       "std       439.256096     0.500105     0.816485     0.500035     4.340364   \n",
       "min       501.000000     0.000000     0.500000     0.000000     0.000000   \n",
       "25%       852.000000     0.000000     0.700000     0.000000     1.000000   \n",
       "50%      1227.000000     0.000000     1.500000     1.000000     3.000000   \n",
       "75%      1615.000000     1.000000     2.200000     1.000000     7.000000   \n",
       "max      1998.000000     1.000000     3.000000     1.000000    19.000000   \n",
       "\n",
       "            four_g  int_memory        m_dep    mobile_wt      n_cores  ...  \\\n",
       "count  2001.000000  2000.00000  2000.000000  1999.000000  2001.000000  ...   \n",
       "mean      0.521739    32.05450     0.501600   140.262631     4.519740  ...   \n",
       "std       0.499652    18.14481     0.288234    35.401989     2.287517  ...   \n",
       "min       0.000000     2.00000     0.100000    80.000000     1.000000  ...   \n",
       "25%       0.000000    16.00000     0.200000   109.000000     3.000000  ...   \n",
       "50%       1.000000    32.00000     0.500000   141.000000     4.000000  ...   \n",
       "75%       1.000000    48.00000     0.800000   170.000000     7.000000  ...   \n",
       "max       1.000000    64.00000     1.000000   200.000000     8.000000  ...   \n",
       "\n",
       "         px_height     px_width          ram         sc_h         sc_w  \\\n",
       "count  2000.000000  1998.000000  1999.000000  2001.000000  2001.000000   \n",
       "mean    644.772500  1251.184184  2123.515258    12.304348     5.767616   \n",
       "std     443.662376   432.267431  1085.243808     4.213292     4.355396   \n",
       "min       0.000000   500.000000   256.000000     5.000000     0.000000   \n",
       "25%     282.750000   874.250000  1205.500000     9.000000     2.000000   \n",
       "50%     564.000000  1247.000000  2146.000000    12.000000     5.000000   \n",
       "75%     946.250000  1632.750000  3065.000000    16.000000     9.000000   \n",
       "max    1960.000000  1998.000000  3998.000000    19.000000    18.000000   \n",
       "\n",
       "         talk_time      three_g  touch_screen         wifi  price_range  \n",
       "count  2001.000000  2001.000000   2001.000000  2001.000000  1999.000000  \n",
       "mean     11.015492     0.761619      0.502749     0.506747     1.499250  \n",
       "std       5.466284     0.426200      0.500117     0.500079     1.118985  \n",
       "min       2.000000     0.000000      0.000000     0.000000     0.000000  \n",
       "25%       6.000000     1.000000      0.000000     0.000000     0.000000  \n",
       "50%      11.000000     1.000000      1.000000     1.000000     1.000000  \n",
       "75%      16.000000     1.000000      1.000000     1.000000     2.500000  \n",
       "max      20.000000     1.000000      1.000000     1.000000     3.000000  \n",
       "\n",
       "[8 rows x 21 columns]"
      ]
     },
     "execution_count": 26,
     "metadata": {},
     "output_type": "execute_result"
    }
   ],
   "source": [
    "df.describe()"
   ]
  },
  {
   "cell_type": "code",
   "execution_count": 27,
   "id": "5802711e",
   "metadata": {},
   "outputs": [
    {
     "data": {
      "text/html": [
       "<div>\n",
       "<style scoped>\n",
       "    .dataframe tbody tr th:only-of-type {\n",
       "        vertical-align: middle;\n",
       "    }\n",
       "\n",
       "    .dataframe tbody tr th {\n",
       "        vertical-align: top;\n",
       "    }\n",
       "\n",
       "    .dataframe thead th {\n",
       "        text-align: right;\n",
       "    }\n",
       "</style>\n",
       "<table border=\"1\" class=\"dataframe\">\n",
       "  <thead>\n",
       "    <tr style=\"text-align: right;\">\n",
       "      <th></th>\n",
       "      <th>battery_power</th>\n",
       "      <th>blue</th>\n",
       "      <th>clock_speed</th>\n",
       "      <th>dual_sim</th>\n",
       "      <th>fc</th>\n",
       "      <th>four_g</th>\n",
       "      <th>int_memory</th>\n",
       "      <th>m_dep</th>\n",
       "      <th>mobile_wt</th>\n",
       "      <th>n_cores</th>\n",
       "      <th>...</th>\n",
       "      <th>px_height</th>\n",
       "      <th>px_width</th>\n",
       "      <th>ram</th>\n",
       "      <th>sc_h</th>\n",
       "      <th>sc_w</th>\n",
       "      <th>talk_time</th>\n",
       "      <th>three_g</th>\n",
       "      <th>touch_screen</th>\n",
       "      <th>wifi</th>\n",
       "      <th>price_range</th>\n",
       "    </tr>\n",
       "  </thead>\n",
       "  <tbody>\n",
       "    <tr>\n",
       "      <th>count</th>\n",
       "      <td>1980.000000</td>\n",
       "      <td>1980.000000</td>\n",
       "      <td>1980.000000</td>\n",
       "      <td>1980.000000</td>\n",
       "      <td>1980.000000</td>\n",
       "      <td>1980.000000</td>\n",
       "      <td>1980.000000</td>\n",
       "      <td>1980.000000</td>\n",
       "      <td>1980.000000</td>\n",
       "      <td>1980.000000</td>\n",
       "      <td>...</td>\n",
       "      <td>1980.00000</td>\n",
       "      <td>1980.000000</td>\n",
       "      <td>1980.000000</td>\n",
       "      <td>1980.000000</td>\n",
       "      <td>1980.000000</td>\n",
       "      <td>1980.000000</td>\n",
       "      <td>1980.000000</td>\n",
       "      <td>1980.00000</td>\n",
       "      <td>1980.000000</td>\n",
       "      <td>1980.000000</td>\n",
       "    </tr>\n",
       "    <tr>\n",
       "      <th>mean</th>\n",
       "      <td>1239.139394</td>\n",
       "      <td>0.495455</td>\n",
       "      <td>1.524596</td>\n",
       "      <td>0.509596</td>\n",
       "      <td>4.315657</td>\n",
       "      <td>0.522222</td>\n",
       "      <td>32.047475</td>\n",
       "      <td>0.502020</td>\n",
       "      <td>140.209596</td>\n",
       "      <td>4.520707</td>\n",
       "      <td>...</td>\n",
       "      <td>645.15000</td>\n",
       "      <td>1252.389394</td>\n",
       "      <td>2121.885354</td>\n",
       "      <td>12.288889</td>\n",
       "      <td>5.769697</td>\n",
       "      <td>11.025253</td>\n",
       "      <td>0.760101</td>\n",
       "      <td>0.50404</td>\n",
       "      <td>0.507071</td>\n",
       "      <td>1.497980</td>\n",
       "    </tr>\n",
       "    <tr>\n",
       "      <th>std</th>\n",
       "      <td>438.794577</td>\n",
       "      <td>0.500106</td>\n",
       "      <td>0.817288</td>\n",
       "      <td>0.500034</td>\n",
       "      <td>4.336859</td>\n",
       "      <td>0.499632</td>\n",
       "      <td>18.149254</td>\n",
       "      <td>0.288023</td>\n",
       "      <td>35.328989</td>\n",
       "      <td>2.285591</td>\n",
       "      <td>...</td>\n",
       "      <td>444.74369</td>\n",
       "      <td>432.037315</td>\n",
       "      <td>1083.676163</td>\n",
       "      <td>4.213045</td>\n",
       "      <td>4.346360</td>\n",
       "      <td>5.466917</td>\n",
       "      <td>0.427129</td>\n",
       "      <td>0.50011</td>\n",
       "      <td>0.500076</td>\n",
       "      <td>1.118315</td>\n",
       "    </tr>\n",
       "    <tr>\n",
       "      <th>min</th>\n",
       "      <td>501.000000</td>\n",
       "      <td>0.000000</td>\n",
       "      <td>0.500000</td>\n",
       "      <td>0.000000</td>\n",
       "      <td>0.000000</td>\n",
       "      <td>0.000000</td>\n",
       "      <td>2.000000</td>\n",
       "      <td>0.100000</td>\n",
       "      <td>80.000000</td>\n",
       "      <td>1.000000</td>\n",
       "      <td>...</td>\n",
       "      <td>0.00000</td>\n",
       "      <td>500.000000</td>\n",
       "      <td>256.000000</td>\n",
       "      <td>5.000000</td>\n",
       "      <td>0.000000</td>\n",
       "      <td>2.000000</td>\n",
       "      <td>0.000000</td>\n",
       "      <td>0.00000</td>\n",
       "      <td>0.000000</td>\n",
       "      <td>0.000000</td>\n",
       "    </tr>\n",
       "    <tr>\n",
       "      <th>25%</th>\n",
       "      <td>852.750000</td>\n",
       "      <td>0.000000</td>\n",
       "      <td>0.700000</td>\n",
       "      <td>0.000000</td>\n",
       "      <td>1.000000</td>\n",
       "      <td>0.000000</td>\n",
       "      <td>16.000000</td>\n",
       "      <td>0.200000</td>\n",
       "      <td>109.000000</td>\n",
       "      <td>3.000000</td>\n",
       "      <td>...</td>\n",
       "      <td>281.75000</td>\n",
       "      <td>875.750000</td>\n",
       "      <td>1207.500000</td>\n",
       "      <td>9.000000</td>\n",
       "      <td>2.000000</td>\n",
       "      <td>6.000000</td>\n",
       "      <td>1.000000</td>\n",
       "      <td>0.00000</td>\n",
       "      <td>0.000000</td>\n",
       "      <td>0.000000</td>\n",
       "    </tr>\n",
       "    <tr>\n",
       "      <th>50%</th>\n",
       "      <td>1229.500000</td>\n",
       "      <td>0.000000</td>\n",
       "      <td>1.500000</td>\n",
       "      <td>1.000000</td>\n",
       "      <td>3.000000</td>\n",
       "      <td>1.000000</td>\n",
       "      <td>32.000000</td>\n",
       "      <td>0.500000</td>\n",
       "      <td>141.000000</td>\n",
       "      <td>4.000000</td>\n",
       "      <td>...</td>\n",
       "      <td>564.00000</td>\n",
       "      <td>1247.500000</td>\n",
       "      <td>2134.500000</td>\n",
       "      <td>12.000000</td>\n",
       "      <td>5.000000</td>\n",
       "      <td>11.000000</td>\n",
       "      <td>1.000000</td>\n",
       "      <td>1.00000</td>\n",
       "      <td>1.000000</td>\n",
       "      <td>1.000000</td>\n",
       "    </tr>\n",
       "    <tr>\n",
       "      <th>75%</th>\n",
       "      <td>1615.000000</td>\n",
       "      <td>1.000000</td>\n",
       "      <td>2.225000</td>\n",
       "      <td>1.000000</td>\n",
       "      <td>7.000000</td>\n",
       "      <td>1.000000</td>\n",
       "      <td>48.000000</td>\n",
       "      <td>0.800000</td>\n",
       "      <td>170.000000</td>\n",
       "      <td>7.000000</td>\n",
       "      <td>...</td>\n",
       "      <td>946.25000</td>\n",
       "      <td>1633.000000</td>\n",
       "      <td>3060.000000</td>\n",
       "      <td>16.000000</td>\n",
       "      <td>9.000000</td>\n",
       "      <td>16.000000</td>\n",
       "      <td>1.000000</td>\n",
       "      <td>1.00000</td>\n",
       "      <td>1.000000</td>\n",
       "      <td>2.000000</td>\n",
       "    </tr>\n",
       "    <tr>\n",
       "      <th>max</th>\n",
       "      <td>1998.000000</td>\n",
       "      <td>1.000000</td>\n",
       "      <td>3.000000</td>\n",
       "      <td>1.000000</td>\n",
       "      <td>19.000000</td>\n",
       "      <td>1.000000</td>\n",
       "      <td>64.000000</td>\n",
       "      <td>1.000000</td>\n",
       "      <td>200.000000</td>\n",
       "      <td>8.000000</td>\n",
       "      <td>...</td>\n",
       "      <td>1960.00000</td>\n",
       "      <td>1998.000000</td>\n",
       "      <td>3998.000000</td>\n",
       "      <td>19.000000</td>\n",
       "      <td>18.000000</td>\n",
       "      <td>20.000000</td>\n",
       "      <td>1.000000</td>\n",
       "      <td>1.00000</td>\n",
       "      <td>1.000000</td>\n",
       "      <td>3.000000</td>\n",
       "    </tr>\n",
       "  </tbody>\n",
       "</table>\n",
       "<p>8 rows × 21 columns</p>\n",
       "</div>"
      ],
      "text/plain": [
       "       battery_power         blue  clock_speed     dual_sim           fc  \\\n",
       "count    1980.000000  1980.000000  1980.000000  1980.000000  1980.000000   \n",
       "mean     1239.139394     0.495455     1.524596     0.509596     4.315657   \n",
       "std       438.794577     0.500106     0.817288     0.500034     4.336859   \n",
       "min       501.000000     0.000000     0.500000     0.000000     0.000000   \n",
       "25%       852.750000     0.000000     0.700000     0.000000     1.000000   \n",
       "50%      1229.500000     0.000000     1.500000     1.000000     3.000000   \n",
       "75%      1615.000000     1.000000     2.225000     1.000000     7.000000   \n",
       "max      1998.000000     1.000000     3.000000     1.000000    19.000000   \n",
       "\n",
       "            four_g   int_memory        m_dep    mobile_wt      n_cores  ...  \\\n",
       "count  1980.000000  1980.000000  1980.000000  1980.000000  1980.000000  ...   \n",
       "mean      0.522222    32.047475     0.502020   140.209596     4.520707  ...   \n",
       "std       0.499632    18.149254     0.288023    35.328989     2.285591  ...   \n",
       "min       0.000000     2.000000     0.100000    80.000000     1.000000  ...   \n",
       "25%       0.000000    16.000000     0.200000   109.000000     3.000000  ...   \n",
       "50%       1.000000    32.000000     0.500000   141.000000     4.000000  ...   \n",
       "75%       1.000000    48.000000     0.800000   170.000000     7.000000  ...   \n",
       "max       1.000000    64.000000     1.000000   200.000000     8.000000  ...   \n",
       "\n",
       "        px_height     px_width          ram         sc_h         sc_w  \\\n",
       "count  1980.00000  1980.000000  1980.000000  1980.000000  1980.000000   \n",
       "mean    645.15000  1252.389394  2121.885354    12.288889     5.769697   \n",
       "std     444.74369   432.037315  1083.676163     4.213045     4.346360   \n",
       "min       0.00000   500.000000   256.000000     5.000000     0.000000   \n",
       "25%     281.75000   875.750000  1207.500000     9.000000     2.000000   \n",
       "50%     564.00000  1247.500000  2134.500000    12.000000     5.000000   \n",
       "75%     946.25000  1633.000000  3060.000000    16.000000     9.000000   \n",
       "max    1960.00000  1998.000000  3998.000000    19.000000    18.000000   \n",
       "\n",
       "         talk_time      three_g  touch_screen         wifi  price_range  \n",
       "count  1980.000000  1980.000000    1980.00000  1980.000000  1980.000000  \n",
       "mean     11.025253     0.760101       0.50404     0.507071     1.497980  \n",
       "std       5.466917     0.427129       0.50011     0.500076     1.118315  \n",
       "min       2.000000     0.000000       0.00000     0.000000     0.000000  \n",
       "25%       6.000000     1.000000       0.00000     0.000000     0.000000  \n",
       "50%      11.000000     1.000000       1.00000     1.000000     1.000000  \n",
       "75%      16.000000     1.000000       1.00000     1.000000     2.000000  \n",
       "max      20.000000     1.000000       1.00000     1.000000     3.000000  \n",
       "\n",
       "[8 rows x 21 columns]"
      ]
     },
     "execution_count": 27,
     "metadata": {},
     "output_type": "execute_result"
    }
   ],
   "source": [
    "# after removing null which is exacly same thats i am going any filling procedure\n",
    "df = df.dropna()\n",
    "df.describe()"
   ]
  },
  {
   "cell_type": "code",
   "execution_count": 28,
   "id": "d5dab4b5",
   "metadata": {},
   "outputs": [
    {
     "name": "stdout",
     "output_type": "stream",
     "text": [
      "<class 'pandas.core.frame.DataFrame'>\n",
      "Int64Index: 1980 entries, 0 to 2000\n",
      "Data columns (total 21 columns):\n",
      " #   Column         Non-Null Count  Dtype  \n",
      "---  ------         --------------  -----  \n",
      " 0   battery_power  1980 non-null   float64\n",
      " 1   blue           1980 non-null   float64\n",
      " 2   clock_speed    1980 non-null   float64\n",
      " 3   dual_sim       1980 non-null   float64\n",
      " 4   fc             1980 non-null   int64  \n",
      " 5   four_g         1980 non-null   int64  \n",
      " 6   int_memory     1980 non-null   float64\n",
      " 7   m_dep          1980 non-null   float64\n",
      " 8   mobile_wt      1980 non-null   float64\n",
      " 9   n_cores        1980 non-null   int64  \n",
      " 10  pc             1980 non-null   float64\n",
      " 11  px_height      1980 non-null   float64\n",
      " 12  px_width       1980 non-null   float64\n",
      " 13  ram            1980 non-null   float64\n",
      " 14  sc_h           1980 non-null   int64  \n",
      " 15  sc_w           1980 non-null   int64  \n",
      " 16  talk_time      1980 non-null   int64  \n",
      " 17  three_g        1980 non-null   int64  \n",
      " 18  touch_screen   1980 non-null   int64  \n",
      " 19  wifi           1980 non-null   int64  \n",
      " 20  price_range    1980 non-null   float64\n",
      "dtypes: float64(12), int64(9)\n",
      "memory usage: 340.3 KB\n"
     ]
    }
   ],
   "source": [
    "df.info()"
   ]
  },
  {
   "cell_type": "markdown",
   "id": "697b981b",
   "metadata": {},
   "source": [
    "## zero null and all column in proper datatype now we can drill down in data"
   ]
  },
  {
   "cell_type": "code",
   "execution_count": 29,
   "id": "9bcbc190",
   "metadata": {},
   "outputs": [
    {
     "data": {
      "text/html": [
       "<div>\n",
       "<style scoped>\n",
       "    .dataframe tbody tr th:only-of-type {\n",
       "        vertical-align: middle;\n",
       "    }\n",
       "\n",
       "    .dataframe tbody tr th {\n",
       "        vertical-align: top;\n",
       "    }\n",
       "\n",
       "    .dataframe thead th {\n",
       "        text-align: right;\n",
       "    }\n",
       "</style>\n",
       "<table border=\"1\" class=\"dataframe\">\n",
       "  <thead>\n",
       "    <tr style=\"text-align: right;\">\n",
       "      <th></th>\n",
       "      <th>battery_power</th>\n",
       "      <th>blue</th>\n",
       "      <th>clock_speed</th>\n",
       "      <th>dual_sim</th>\n",
       "      <th>fc</th>\n",
       "      <th>four_g</th>\n",
       "      <th>int_memory</th>\n",
       "      <th>m_dep</th>\n",
       "      <th>mobile_wt</th>\n",
       "      <th>n_cores</th>\n",
       "      <th>...</th>\n",
       "      <th>px_height</th>\n",
       "      <th>px_width</th>\n",
       "      <th>ram</th>\n",
       "      <th>sc_h</th>\n",
       "      <th>sc_w</th>\n",
       "      <th>talk_time</th>\n",
       "      <th>three_g</th>\n",
       "      <th>touch_screen</th>\n",
       "      <th>wifi</th>\n",
       "      <th>price_range</th>\n",
       "    </tr>\n",
       "  </thead>\n",
       "  <tbody>\n",
       "    <tr>\n",
       "      <th>0</th>\n",
       "      <td>842.0</td>\n",
       "      <td>0.0</td>\n",
       "      <td>2.2</td>\n",
       "      <td>0.0</td>\n",
       "      <td>1</td>\n",
       "      <td>0</td>\n",
       "      <td>7.0</td>\n",
       "      <td>0.6</td>\n",
       "      <td>188.0</td>\n",
       "      <td>2</td>\n",
       "      <td>...</td>\n",
       "      <td>20.0</td>\n",
       "      <td>756.0</td>\n",
       "      <td>2549.0</td>\n",
       "      <td>9</td>\n",
       "      <td>7</td>\n",
       "      <td>19</td>\n",
       "      <td>0</td>\n",
       "      <td>0</td>\n",
       "      <td>1</td>\n",
       "      <td>1.0</td>\n",
       "    </tr>\n",
       "    <tr>\n",
       "      <th>1</th>\n",
       "      <td>1021.0</td>\n",
       "      <td>1.0</td>\n",
       "      <td>0.5</td>\n",
       "      <td>1.0</td>\n",
       "      <td>0</td>\n",
       "      <td>1</td>\n",
       "      <td>53.0</td>\n",
       "      <td>0.7</td>\n",
       "      <td>136.0</td>\n",
       "      <td>3</td>\n",
       "      <td>...</td>\n",
       "      <td>905.0</td>\n",
       "      <td>1988.0</td>\n",
       "      <td>2631.0</td>\n",
       "      <td>17</td>\n",
       "      <td>3</td>\n",
       "      <td>7</td>\n",
       "      <td>1</td>\n",
       "      <td>1</td>\n",
       "      <td>0</td>\n",
       "      <td>2.0</td>\n",
       "    </tr>\n",
       "    <tr>\n",
       "      <th>2</th>\n",
       "      <td>563.0</td>\n",
       "      <td>1.0</td>\n",
       "      <td>0.5</td>\n",
       "      <td>1.0</td>\n",
       "      <td>2</td>\n",
       "      <td>1</td>\n",
       "      <td>41.0</td>\n",
       "      <td>0.9</td>\n",
       "      <td>145.0</td>\n",
       "      <td>5</td>\n",
       "      <td>...</td>\n",
       "      <td>1263.0</td>\n",
       "      <td>1716.0</td>\n",
       "      <td>2603.0</td>\n",
       "      <td>11</td>\n",
       "      <td>2</td>\n",
       "      <td>9</td>\n",
       "      <td>1</td>\n",
       "      <td>1</td>\n",
       "      <td>0</td>\n",
       "      <td>2.0</td>\n",
       "    </tr>\n",
       "    <tr>\n",
       "      <th>3</th>\n",
       "      <td>615.0</td>\n",
       "      <td>1.0</td>\n",
       "      <td>2.5</td>\n",
       "      <td>0.0</td>\n",
       "      <td>0</td>\n",
       "      <td>0</td>\n",
       "      <td>10.0</td>\n",
       "      <td>0.8</td>\n",
       "      <td>131.0</td>\n",
       "      <td>6</td>\n",
       "      <td>...</td>\n",
       "      <td>1216.0</td>\n",
       "      <td>1786.0</td>\n",
       "      <td>2769.0</td>\n",
       "      <td>16</td>\n",
       "      <td>8</td>\n",
       "      <td>11</td>\n",
       "      <td>1</td>\n",
       "      <td>0</td>\n",
       "      <td>0</td>\n",
       "      <td>2.0</td>\n",
       "    </tr>\n",
       "    <tr>\n",
       "      <th>4</th>\n",
       "      <td>1821.0</td>\n",
       "      <td>1.0</td>\n",
       "      <td>1.2</td>\n",
       "      <td>0.0</td>\n",
       "      <td>13</td>\n",
       "      <td>1</td>\n",
       "      <td>44.0</td>\n",
       "      <td>0.6</td>\n",
       "      <td>141.0</td>\n",
       "      <td>2</td>\n",
       "      <td>...</td>\n",
       "      <td>1208.0</td>\n",
       "      <td>1212.0</td>\n",
       "      <td>1411.0</td>\n",
       "      <td>8</td>\n",
       "      <td>2</td>\n",
       "      <td>15</td>\n",
       "      <td>1</td>\n",
       "      <td>1</td>\n",
       "      <td>0</td>\n",
       "      <td>1.0</td>\n",
       "    </tr>\n",
       "  </tbody>\n",
       "</table>\n",
       "<p>5 rows × 21 columns</p>\n",
       "</div>"
      ],
      "text/plain": [
       "   battery_power  blue  clock_speed  dual_sim  fc  four_g  int_memory  m_dep  \\\n",
       "0          842.0   0.0          2.2       0.0   1       0         7.0    0.6   \n",
       "1         1021.0   1.0          0.5       1.0   0       1        53.0    0.7   \n",
       "2          563.0   1.0          0.5       1.0   2       1        41.0    0.9   \n",
       "3          615.0   1.0          2.5       0.0   0       0        10.0    0.8   \n",
       "4         1821.0   1.0          1.2       0.0  13       1        44.0    0.6   \n",
       "\n",
       "   mobile_wt  n_cores  ...  px_height  px_width     ram  sc_h  sc_w  \\\n",
       "0      188.0        2  ...       20.0     756.0  2549.0     9     7   \n",
       "1      136.0        3  ...      905.0    1988.0  2631.0    17     3   \n",
       "2      145.0        5  ...     1263.0    1716.0  2603.0    11     2   \n",
       "3      131.0        6  ...     1216.0    1786.0  2769.0    16     8   \n",
       "4      141.0        2  ...     1208.0    1212.0  1411.0     8     2   \n",
       "\n",
       "   talk_time  three_g  touch_screen  wifi  price_range  \n",
       "0         19        0             0     1          1.0  \n",
       "1          7        1             1     0          2.0  \n",
       "2          9        1             1     0          2.0  \n",
       "3         11        1             0     0          2.0  \n",
       "4         15        1             1     0          1.0  \n",
       "\n",
       "[5 rows x 21 columns]"
      ]
     },
     "execution_count": 29,
     "metadata": {},
     "output_type": "execute_result"
    }
   ],
   "source": [
    "df.head()"
   ]
  },
  {
   "cell_type": "markdown",
   "id": "9cd94ce7",
   "metadata": {},
   "source": [
    "b. Treat the outlier"
   ]
  },
  {
   "cell_type": "code",
   "execution_count": 30,
   "id": "7f2ea259",
   "metadata": {},
   "outputs": [
    {
     "name": "stderr",
     "output_type": "stream",
     "text": [
      "C:\\Users\\NOOMAN KHAN\\AppData\\Local\\Temp\\ipykernel_18564\\1868862352.py:2: RuntimeWarning: More than 20 figures have been opened. Figures created through the pyplot interface (`matplotlib.pyplot.figure`) are retained until explicitly closed and may consume too much memory. (To control this warning, see the rcParam `figure.max_open_warning`).\n",
      "  plt.figure()\n"
     ]
    },
    {
     "data": {
      "image/png": "[encoded data removed]",
      "text/plain": [
       "<Figure size 432x288 with 1 Axes>"
      ]
     },
     "metadata": {
      "needs_background": "light"
     },
     "output_type": "display_data"
    },
    {
     "data": {
      "image/png": "[encoded data removed]",
      "text/plain": [
       "<Figure size 432x288 with 1 Axes>"
      ]
     },
     "metadata": {
      "needs_background": "light"
     },
     "output_type": "display_data"
    },
    {
     "data": {
      "image/png": "[encoded data removed]",
      "text/plain": [
       "<Figure size 432x288 with 1 Axes>"
      ]
     },
     "metadata": {
      "needs_background": "light"
     },
     "output_type": "display_data"
    },
    {
     "data": {
      "image/png": "[encoded data removed]",
      "text/plain": [
       "<Figure size 432x288 with 1 Axes>"
      ]
     },
     "metadata": {
      "needs_background": "light"
     },
     "output_type": "display_data"
    },
    {
     "data": {
      "image/png": "[encoded data removed]",
      "text/plain": [
       "<Figure size 432x288 with 1 Axes>"
      ]
     },
     "metadata": {
      "needs_background": "light"
     },
     "output_type": "display_data"
    },
    {
     "data": {
      "image/png": "[encoded data removed]",
      "text/plain": [
       "<Figure size 432x288 with 1 Axes>"
      ]
     },
     "metadata": {
      "needs_background": "light"
     },
     "output_type": "display_data"
    },
    {
     "data": {
      "image/png": "[encoded data removed]",
      "text/plain": [
       "<Figure size 432x288 with 1 Axes>"
      ]
     },
     "metadata": {
      "needs_background": "light"
     },
     "output_type": "display_data"
    },
    {
     "data": {
      "image/png": "[encoded data removed]",
      "text/plain": [
       "<Figure size 432x288 with 1 Axes>"
      ]
     },
     "metadata": {
      "needs_background": "light"
     },
     "output_type": "display_data"
    },
    {
     "data": {
      "image/png": "[encoded data removed]",
      "text/plain": [
       "<Figure size 432x288 with 1 Axes>"
      ]
     },
     "metadata": {
      "needs_background": "light"
     },
     "output_type": "display_data"
    },
    {
     "data": {
      "image/png": "[encoded data removed]",
      "text/plain": [
       "<Figure size 432x288 with 1 Axes>"
      ]
     },
     "metadata": {
      "needs_background": "light"
     },
     "output_type": "display_data"
    },
    {
     "data": {
      "image/png": "[encoded data removed]",
      "text/plain": [
       "<Figure size 432x288 with 1 Axes>"
      ]
     },
     "metadata": {
      "needs_background": "light"
     },
     "output_type": "display_data"
    },
    {
     "data": {
      "image/png": "[encoded data removed]",
      "text/plain": [
       "<Figure size 432x288 with 1 Axes>"
      ]
     },
     "metadata": {
      "needs_background": "light"
     },
     "output_type": "display_data"
    },
    {
     "data": {
      "image/png": "[encoded data removed]",
      "text/plain": [
       "<Figure size 432x288 with 1 Axes>"
      ]
     },
     "metadata": {
      "needs_background": "light"
     },
     "output_type": "display_data"
    },
    {
     "data": {
      "image/png": "[encoded data removed]",
      "text/plain": [
       "<Figure size 432x288 with 1 Axes>"
      ]
     },
     "metadata": {
      "needs_background": "light"
     },
     "output_type": "display_data"
    },
    {
     "data": {
      "image/png": "[encoded data removed]",
      "text/plain": [
       "<Figure size 432x288 with 1 Axes>"
      ]
     },
     "metadata": {
      "needs_background": "light"
     },
     "output_type": "display_data"
    },
    {
     "data": {
      "image/png": "[encoded data removed]",
      "text/plain": [
       "<Figure size 432x288 with 1 Axes>"
      ]
     },
     "metadata": {
      "needs_background": "light"
     },
     "output_type": "display_data"
    },
    {
     "data": {
      "image/png": "[encoded data removed]",
      "text/plain": [
       "<Figure size 432x288 with 1 Axes>"
      ]
     },
     "metadata": {
      "needs_background": "light"
     },
     "output_type": "display_data"
    },
    {
     "data": {
      "image/png": "[encoded data removed]",
      "text/plain": [
       "<Figure size 432x288 with 1 Axes>"
      ]
     },
     "metadata": {
      "needs_background": "light"
     },
     "output_type": "display_data"
    },
    {
     "data": {
      "image/png": "[encoded data removed]",
      "text/plain": [
       "<Figure size 432x288 with 1 Axes>"
      ]
     },
     "metadata": {
      "needs_background": "light"
     },
     "output_type": "display_data"
    },
    {
     "data": {
      "image/png": "[encoded data removed]",
      "text/plain": [
       "<Figure size 432x288 with 1 Axes>"
      ]
     },
     "metadata": {
      "needs_background": "light"
     },
     "output_type": "display_data"
    },
    {
     "data": {
      "image/png": "[encoded data removed]",
      "text/plain": [
       "<Figure size 432x288 with 1 Axes>"
      ]
     },
     "metadata": {
      "needs_background": "light"
     },
     "output_type": "display_data"
    }
   ],
   "source": [
    "for i in df.columns:\n",
    "    plt.figure()\n",
    "    sns.boxplot(x = df[i])"
   ]
  },
  {
   "cell_type": "markdown",
   "id": "a83e1b60",
   "metadata": {},
   "source": [
    "There is some outliers in \"fc\" , \"px_hieght\""
   ]
  },
  {
   "cell_type": "code",
   "execution_count": 31,
   "id": "8faeb3db",
   "metadata": {},
   "outputs": [],
   "source": [
    "# using IQR methd rempove outlier\n",
    "for i in df.drop(\"three_g\" , axis = 1).columns:\n",
    "    q1 = df[i].quantile(0.25)\n",
    "    q3 = df[i].quantile(0.75)\n",
    "    IQR = q3-q1\n",
    "    df = df[(df[i]>=(q1-1.5*IQR)) & (df[i]<=(q3+1.5*IQR))]\n",
    "    \n",
    "    "
   ]
  },
  {
   "cell_type": "code",
   "execution_count": 32,
   "id": "4686e299",
   "metadata": {},
   "outputs": [
    {
     "data": {
      "text/html": [
       "<div>\n",
       "<style scoped>\n",
       "    .dataframe tbody tr th:only-of-type {\n",
       "        vertical-align: middle;\n",
       "    }\n",
       "\n",
       "    .dataframe tbody tr th {\n",
       "        vertical-align: top;\n",
       "    }\n",
       "\n",
       "    .dataframe thead th {\n",
       "        text-align: right;\n",
       "    }\n",
       "</style>\n",
       "<table border=\"1\" class=\"dataframe\">\n",
       "  <thead>\n",
       "    <tr style=\"text-align: right;\">\n",
       "      <th></th>\n",
       "      <th>battery_power</th>\n",
       "      <th>blue</th>\n",
       "      <th>clock_speed</th>\n",
       "      <th>dual_sim</th>\n",
       "      <th>fc</th>\n",
       "      <th>four_g</th>\n",
       "      <th>int_memory</th>\n",
       "      <th>m_dep</th>\n",
       "      <th>mobile_wt</th>\n",
       "      <th>n_cores</th>\n",
       "      <th>...</th>\n",
       "      <th>px_height</th>\n",
       "      <th>px_width</th>\n",
       "      <th>ram</th>\n",
       "      <th>sc_h</th>\n",
       "      <th>sc_w</th>\n",
       "      <th>talk_time</th>\n",
       "      <th>three_g</th>\n",
       "      <th>touch_screen</th>\n",
       "      <th>wifi</th>\n",
       "      <th>price_range</th>\n",
       "    </tr>\n",
       "  </thead>\n",
       "  <tbody>\n",
       "    <tr>\n",
       "      <th>0</th>\n",
       "      <td>842.0</td>\n",
       "      <td>0.0</td>\n",
       "      <td>2.2</td>\n",
       "      <td>0.0</td>\n",
       "      <td>1</td>\n",
       "      <td>0</td>\n",
       "      <td>7.0</td>\n",
       "      <td>0.6</td>\n",
       "      <td>188.0</td>\n",
       "      <td>2</td>\n",
       "      <td>...</td>\n",
       "      <td>20.0</td>\n",
       "      <td>756.0</td>\n",
       "      <td>2549.0</td>\n",
       "      <td>9</td>\n",
       "      <td>7</td>\n",
       "      <td>19</td>\n",
       "      <td>0</td>\n",
       "      <td>0</td>\n",
       "      <td>1</td>\n",
       "      <td>1.0</td>\n",
       "    </tr>\n",
       "    <tr>\n",
       "      <th>1</th>\n",
       "      <td>1021.0</td>\n",
       "      <td>1.0</td>\n",
       "      <td>0.5</td>\n",
       "      <td>1.0</td>\n",
       "      <td>0</td>\n",
       "      <td>1</td>\n",
       "      <td>53.0</td>\n",
       "      <td>0.7</td>\n",
       "      <td>136.0</td>\n",
       "      <td>3</td>\n",
       "      <td>...</td>\n",
       "      <td>905.0</td>\n",
       "      <td>1988.0</td>\n",
       "      <td>2631.0</td>\n",
       "      <td>17</td>\n",
       "      <td>3</td>\n",
       "      <td>7</td>\n",
       "      <td>1</td>\n",
       "      <td>1</td>\n",
       "      <td>0</td>\n",
       "      <td>2.0</td>\n",
       "    </tr>\n",
       "    <tr>\n",
       "      <th>2</th>\n",
       "      <td>563.0</td>\n",
       "      <td>1.0</td>\n",
       "      <td>0.5</td>\n",
       "      <td>1.0</td>\n",
       "      <td>2</td>\n",
       "      <td>1</td>\n",
       "      <td>41.0</td>\n",
       "      <td>0.9</td>\n",
       "      <td>145.0</td>\n",
       "      <td>5</td>\n",
       "      <td>...</td>\n",
       "      <td>1263.0</td>\n",
       "      <td>1716.0</td>\n",
       "      <td>2603.0</td>\n",
       "      <td>11</td>\n",
       "      <td>2</td>\n",
       "      <td>9</td>\n",
       "      <td>1</td>\n",
       "      <td>1</td>\n",
       "      <td>0</td>\n",
       "      <td>2.0</td>\n",
       "    </tr>\n",
       "    <tr>\n",
       "      <th>3</th>\n",
       "      <td>615.0</td>\n",
       "      <td>1.0</td>\n",
       "      <td>2.5</td>\n",
       "      <td>0.0</td>\n",
       "      <td>0</td>\n",
       "      <td>0</td>\n",
       "      <td>10.0</td>\n",
       "      <td>0.8</td>\n",
       "      <td>131.0</td>\n",
       "      <td>6</td>\n",
       "      <td>...</td>\n",
       "      <td>1216.0</td>\n",
       "      <td>1786.0</td>\n",
       "      <td>2769.0</td>\n",
       "      <td>16</td>\n",
       "      <td>8</td>\n",
       "      <td>11</td>\n",
       "      <td>1</td>\n",
       "      <td>0</td>\n",
       "      <td>0</td>\n",
       "      <td>2.0</td>\n",
       "    </tr>\n",
       "    <tr>\n",
       "      <th>4</th>\n",
       "      <td>1821.0</td>\n",
       "      <td>1.0</td>\n",
       "      <td>1.2</td>\n",
       "      <td>0.0</td>\n",
       "      <td>13</td>\n",
       "      <td>1</td>\n",
       "      <td>44.0</td>\n",
       "      <td>0.6</td>\n",
       "      <td>141.0</td>\n",
       "      <td>2</td>\n",
       "      <td>...</td>\n",
       "      <td>1208.0</td>\n",
       "      <td>1212.0</td>\n",
       "      <td>1411.0</td>\n",
       "      <td>8</td>\n",
       "      <td>2</td>\n",
       "      <td>15</td>\n",
       "      <td>1</td>\n",
       "      <td>1</td>\n",
       "      <td>0</td>\n",
       "      <td>1.0</td>\n",
       "    </tr>\n",
       "    <tr>\n",
       "      <th>...</th>\n",
       "      <td>...</td>\n",
       "      <td>...</td>\n",
       "      <td>...</td>\n",
       "      <td>...</td>\n",
       "      <td>...</td>\n",
       "      <td>...</td>\n",
       "      <td>...</td>\n",
       "      <td>...</td>\n",
       "      <td>...</td>\n",
       "      <td>...</td>\n",
       "      <td>...</td>\n",
       "      <td>...</td>\n",
       "      <td>...</td>\n",
       "      <td>...</td>\n",
       "      <td>...</td>\n",
       "      <td>...</td>\n",
       "      <td>...</td>\n",
       "      <td>...</td>\n",
       "      <td>...</td>\n",
       "      <td>...</td>\n",
       "      <td>...</td>\n",
       "    </tr>\n",
       "    <tr>\n",
       "      <th>1996</th>\n",
       "      <td>794.0</td>\n",
       "      <td>1.0</td>\n",
       "      <td>0.5</td>\n",
       "      <td>1.0</td>\n",
       "      <td>0</td>\n",
       "      <td>1</td>\n",
       "      <td>2.0</td>\n",
       "      <td>0.8</td>\n",
       "      <td>106.0</td>\n",
       "      <td>6</td>\n",
       "      <td>...</td>\n",
       "      <td>1222.0</td>\n",
       "      <td>1890.0</td>\n",
       "      <td>668.0</td>\n",
       "      <td>13</td>\n",
       "      <td>4</td>\n",
       "      <td>19</td>\n",
       "      <td>1</td>\n",
       "      <td>1</td>\n",
       "      <td>0</td>\n",
       "      <td>0.0</td>\n",
       "    </tr>\n",
       "    <tr>\n",
       "      <th>1997</th>\n",
       "      <td>1965.0</td>\n",
       "      <td>1.0</td>\n",
       "      <td>2.6</td>\n",
       "      <td>1.0</td>\n",
       "      <td>0</td>\n",
       "      <td>0</td>\n",
       "      <td>39.0</td>\n",
       "      <td>0.2</td>\n",
       "      <td>187.0</td>\n",
       "      <td>4</td>\n",
       "      <td>...</td>\n",
       "      <td>915.0</td>\n",
       "      <td>1965.0</td>\n",
       "      <td>2032.0</td>\n",
       "      <td>11</td>\n",
       "      <td>10</td>\n",
       "      <td>16</td>\n",
       "      <td>1</td>\n",
       "      <td>1</td>\n",
       "      <td>1</td>\n",
       "      <td>2.0</td>\n",
       "    </tr>\n",
       "    <tr>\n",
       "      <th>1998</th>\n",
       "      <td>1911.0</td>\n",
       "      <td>0.0</td>\n",
       "      <td>0.9</td>\n",
       "      <td>1.0</td>\n",
       "      <td>1</td>\n",
       "      <td>1</td>\n",
       "      <td>36.0</td>\n",
       "      <td>0.7</td>\n",
       "      <td>108.0</td>\n",
       "      <td>8</td>\n",
       "      <td>...</td>\n",
       "      <td>868.0</td>\n",
       "      <td>1632.0</td>\n",
       "      <td>3057.0</td>\n",
       "      <td>9</td>\n",
       "      <td>1</td>\n",
       "      <td>5</td>\n",
       "      <td>1</td>\n",
       "      <td>1</td>\n",
       "      <td>0</td>\n",
       "      <td>3.0</td>\n",
       "    </tr>\n",
       "    <tr>\n",
       "      <th>1999</th>\n",
       "      <td>1512.0</td>\n",
       "      <td>0.0</td>\n",
       "      <td>0.9</td>\n",
       "      <td>0.0</td>\n",
       "      <td>4</td>\n",
       "      <td>1</td>\n",
       "      <td>46.0</td>\n",
       "      <td>0.1</td>\n",
       "      <td>145.0</td>\n",
       "      <td>5</td>\n",
       "      <td>...</td>\n",
       "      <td>336.0</td>\n",
       "      <td>670.0</td>\n",
       "      <td>869.0</td>\n",
       "      <td>18</td>\n",
       "      <td>10</td>\n",
       "      <td>19</td>\n",
       "      <td>1</td>\n",
       "      <td>1</td>\n",
       "      <td>1</td>\n",
       "      <td>0.0</td>\n",
       "    </tr>\n",
       "    <tr>\n",
       "      <th>2000</th>\n",
       "      <td>510.0</td>\n",
       "      <td>1.0</td>\n",
       "      <td>2.0</td>\n",
       "      <td>1.0</td>\n",
       "      <td>5</td>\n",
       "      <td>1</td>\n",
       "      <td>45.0</td>\n",
       "      <td>0.9</td>\n",
       "      <td>168.0</td>\n",
       "      <td>6</td>\n",
       "      <td>...</td>\n",
       "      <td>483.0</td>\n",
       "      <td>754.0</td>\n",
       "      <td>3919.0</td>\n",
       "      <td>19</td>\n",
       "      <td>4</td>\n",
       "      <td>2</td>\n",
       "      <td>1</td>\n",
       "      <td>1</td>\n",
       "      <td>1</td>\n",
       "      <td>3.0</td>\n",
       "    </tr>\n",
       "  </tbody>\n",
       "</table>\n",
       "<p>1960 rows × 21 columns</p>\n",
       "</div>"
      ],
      "text/plain": [
       "      battery_power  blue  clock_speed  dual_sim  fc  four_g  int_memory  \\\n",
       "0             842.0   0.0          2.2       0.0   1       0         7.0   \n",
       "1            1021.0   1.0          0.5       1.0   0       1        53.0   \n",
       "2             563.0   1.0          0.5       1.0   2       1        41.0   \n",
       "3             615.0   1.0          2.5       0.0   0       0        10.0   \n",
       "4            1821.0   1.0          1.2       0.0  13       1        44.0   \n",
       "...             ...   ...          ...       ...  ..     ...         ...   \n",
       "1996          794.0   1.0          0.5       1.0   0       1         2.0   \n",
       "1997         1965.0   1.0          2.6       1.0   0       0        39.0   \n",
       "1998         1911.0   0.0          0.9       1.0   1       1        36.0   \n",
       "1999         1512.0   0.0          0.9       0.0   4       1        46.0   \n",
       "2000          510.0   1.0          2.0       1.0   5       1        45.0   \n",
       "\n",
       "      m_dep  mobile_wt  n_cores  ...  px_height  px_width     ram  sc_h  sc_w  \\\n",
       "0       0.6      188.0        2  ...       20.0     756.0  2549.0     9     7   \n",
       "1       0.7      136.0        3  ...      905.0    1988.0  2631.0    17     3   \n",
       "2       0.9      145.0        5  ...     1263.0    1716.0  2603.0    11     2   \n",
       "3       0.8      131.0        6  ...     1216.0    1786.0  2769.0    16     8   \n",
       "4       0.6      141.0        2  ...     1208.0    1212.0  1411.0     8     2   \n",
       "...     ...        ...      ...  ...        ...       ...     ...   ...   ...   \n",
       "1996    0.8      106.0        6  ...     1222.0    1890.0   668.0    13     4   \n",
       "1997    0.2      187.0        4  ...      915.0    1965.0  2032.0    11    10   \n",
       "1998    0.7      108.0        8  ...      868.0    1632.0  3057.0     9     1   \n",
       "1999    0.1      145.0        5  ...      336.0     670.0   869.0    18    10   \n",
       "2000    0.9      168.0        6  ...      483.0     754.0  3919.0    19     4   \n",
       "\n",
       "      talk_time  three_g  touch_screen  wifi  price_range  \n",
       "0            19        0             0     1          1.0  \n",
       "1             7        1             1     0          2.0  \n",
       "2             9        1             1     0          2.0  \n",
       "3            11        1             0     0          2.0  \n",
       "4            15        1             1     0          1.0  \n",
       "...         ...      ...           ...   ...          ...  \n",
       "1996         19        1             1     0          0.0  \n",
       "1997         16        1             1     1          2.0  \n",
       "1998          5        1             1     0          3.0  \n",
       "1999         19        1             1     1          0.0  \n",
       "2000          2        1             1     1          3.0  \n",
       "\n",
       "[1960 rows x 21 columns]"
      ]
     },
     "execution_count": 32,
     "metadata": {},
     "output_type": "execute_result"
    }
   ],
   "source": [
    "df\n"
   ]
  },
  {
   "cell_type": "code",
   "execution_count": 33,
   "id": "2a38c0f0",
   "metadata": {},
   "outputs": [
    {
     "name": "stdout",
     "output_type": "stream",
     "text": [
      "battery_power [ 842. 1021.  563. ... 1139. 1467.  858.]\n",
      "blue [0. 1.]\n",
      "clock_speed [2.2 0.5 2.5 1.2 1.7 2.9 2.8 1.  0.9 1.1 2.1 2.6 1.4 1.6 2.7 1.3 2.3 1.8\n",
      " 3.  1.5 1.9 2.  2.4 0.6 0.8 0.7]\n",
      "dual_sim [0. 1.]\n",
      "fc [ 1  0  2 13  4  5  3  7 11 12 16  6 15  8  9 10 14]\n",
      "four_g [0 1]\n",
      "int_memory [ 7. 53. 41. 10. 44. 24.  9. 33. 52. 46. 23. 49. 19. 39. 13. 47. 38.  8.\n",
      " 57. 51. 21.  5. 22. 60. 61.  6. 50. 34. 20. 27. 42. 40. 64. 14. 63. 43.\n",
      " 16. 48. 12. 55. 36. 30. 45. 29. 58. 25.  3. 54. 15. 37. 31.  4. 18.  2.\n",
      " 56. 32. 26. 35. 17. 11. 59. 28. 62.]\n",
      "m_dep [0.6 0.7 0.9 0.8 0.1 0.5 1.  0.3 0.4 0.2]\n",
      "mobile_wt [188. 136. 145. 131. 141. 139. 187. 174. 182. 177. 159. 185. 121. 101.\n",
      "  81. 156. 199. 114. 111. 132. 143.  96. 200.  88. 150. 107. 100. 157.\n",
      " 160. 119. 152. 166. 110. 118. 164. 196. 162. 198. 127. 109. 102. 104.\n",
      " 148. 180. 128. 134. 144. 168. 155. 165.  80. 138. 142.  90. 197. 172.\n",
      " 116.  85. 163. 178. 171. 103.  83. 140. 194. 146. 192. 106. 135. 153.\n",
      "  89.  82. 130. 189. 181.  99. 184. 195. 108. 133. 179. 147. 137. 190.\n",
      " 176.  84.  97. 124. 183.  93. 113.  92.  95. 151. 117.  94. 173. 105.\n",
      " 115.  91. 112. 123. 129. 154. 191. 175.  86.  98. 125. 126. 158. 170.\n",
      "  87. 161. 193. 169. 120. 149. 186. 122. 167.]\n",
      "n_cores [2 3 5 6 8 4 7 1]\n",
      "pc [ 2.  6.  9. 14. 10.  0.  1. 18. 17. 16. 11.  7. 20. 13.  3. 19.  8. 15.\n",
      "  4.  5. 12.]\n",
      "px_height [  20.  905. 1263. ...  528.  915.  483.]\n",
      "px_width [ 756. 1988. 1716. ...  743. 1890. 1632.]\n",
      "ram [2549. 2631. 2603. ... 2032. 3057. 3919.]\n",
      "sc_h [ 9 17 11 16  8 13  5 14 18 10 19 12  7  6 15]\n",
      "sc_w [ 7  3  2  8  1  9  0 15 13  5 11  4 12 10  6 17 14 16 18]\n",
      "talk_time [19  7  9 11 15 18  5 20 13  2  3 16 12  4 10  6 14 17  8]\n",
      "three_g [0 1]\n",
      "touch_screen [0 1]\n",
      "wifi [1 0]\n",
      "price_range [1. 2. 3. 0.]\n"
     ]
    }
   ],
   "source": [
    "for i in df.columns:\n",
    "    print(i , df[i].unique())"
   ]
  },
  {
   "cell_type": "markdown",
   "id": "9f52bfff",
   "metadata": {},
   "source": [
    "c. Apply the encoding on categorical columns"
   ]
  },
  {
   "cell_type": "code",
   "execution_count": 85,
   "id": "ddc3e0c2",
   "metadata": {},
   "outputs": [],
   "source": [
    "# categorical_column\n",
    "#three_g [0 1]\n",
    "#wifi [1 0]\n",
    "#touch_screen [0 1]\n",
    "#blue [0. 1.]\n",
    "#dual_sim [0. 1.]\n",
    "#four_g [0 1]\n",
    "\n",
    "\n"
   ]
  },
  {
   "cell_type": "code",
   "execution_count": 86,
   "id": "d622663b",
   "metadata": {},
   "outputs": [],
   "source": [
    "# for i in [\"three_g\",\"wifi\",\"touch_screen\",\"blue\",\"dual_sim\",\"four_g\"]:\n",
    "#     df = pd.get_dummies(data = df , columns = [i] , drop_first = True)"
   ]
  },
  {
   "cell_type": "code",
   "execution_count": 87,
   "id": "fe2c5863",
   "metadata": {},
   "outputs": [
    {
     "data": {
      "text/html": [
       "<div>\n",
       "<style scoped>\n",
       "    .dataframe tbody tr th:only-of-type {\n",
       "        vertical-align: middle;\n",
       "    }\n",
       "\n",
       "    .dataframe tbody tr th {\n",
       "        vertical-align: top;\n",
       "    }\n",
       "\n",
       "    .dataframe thead th {\n",
       "        text-align: right;\n",
       "    }\n",
       "</style>\n",
       "<table border=\"1\" class=\"dataframe\">\n",
       "  <thead>\n",
       "    <tr style=\"text-align: right;\">\n",
       "      <th></th>\n",
       "      <th>battery_power</th>\n",
       "      <th>clock_speed</th>\n",
       "      <th>fc</th>\n",
       "      <th>int_memory</th>\n",
       "      <th>m_dep</th>\n",
       "      <th>mobile_wt</th>\n",
       "      <th>n_cores</th>\n",
       "      <th>pc</th>\n",
       "      <th>px_height</th>\n",
       "      <th>px_width</th>\n",
       "      <th>ram</th>\n",
       "      <th>sc_h</th>\n",
       "      <th>sc_w</th>\n",
       "      <th>talk_time</th>\n",
       "      <th>price_range</th>\n",
       "      <th>wifi_1</th>\n",
       "      <th>touch_screen_1</th>\n",
       "      <th>blue_1.0</th>\n",
       "      <th>dual_sim_1.0</th>\n",
       "      <th>four_g_1</th>\n",
       "    </tr>\n",
       "  </thead>\n",
       "  <tbody>\n",
       "    <tr>\n",
       "      <th>1</th>\n",
       "      <td>1021.0</td>\n",
       "      <td>0.5</td>\n",
       "      <td>0</td>\n",
       "      <td>53.0</td>\n",
       "      <td>0.7</td>\n",
       "      <td>136.0</td>\n",
       "      <td>3</td>\n",
       "      <td>6.0</td>\n",
       "      <td>905.0</td>\n",
       "      <td>1988.0</td>\n",
       "      <td>2631.0</td>\n",
       "      <td>17</td>\n",
       "      <td>3</td>\n",
       "      <td>7</td>\n",
       "      <td>2.0</td>\n",
       "      <td>0</td>\n",
       "      <td>1</td>\n",
       "      <td>1</td>\n",
       "      <td>1</td>\n",
       "      <td>1</td>\n",
       "    </tr>\n",
       "    <tr>\n",
       "      <th>2</th>\n",
       "      <td>563.0</td>\n",
       "      <td>0.5</td>\n",
       "      <td>2</td>\n",
       "      <td>41.0</td>\n",
       "      <td>0.9</td>\n",
       "      <td>145.0</td>\n",
       "      <td>5</td>\n",
       "      <td>6.0</td>\n",
       "      <td>1263.0</td>\n",
       "      <td>1716.0</td>\n",
       "      <td>2603.0</td>\n",
       "      <td>11</td>\n",
       "      <td>2</td>\n",
       "      <td>9</td>\n",
       "      <td>2.0</td>\n",
       "      <td>0</td>\n",
       "      <td>1</td>\n",
       "      <td>1</td>\n",
       "      <td>1</td>\n",
       "      <td>1</td>\n",
       "    </tr>\n",
       "    <tr>\n",
       "      <th>3</th>\n",
       "      <td>615.0</td>\n",
       "      <td>2.5</td>\n",
       "      <td>0</td>\n",
       "      <td>10.0</td>\n",
       "      <td>0.8</td>\n",
       "      <td>131.0</td>\n",
       "      <td>6</td>\n",
       "      <td>9.0</td>\n",
       "      <td>1216.0</td>\n",
       "      <td>1786.0</td>\n",
       "      <td>2769.0</td>\n",
       "      <td>16</td>\n",
       "      <td>8</td>\n",
       "      <td>11</td>\n",
       "      <td>2.0</td>\n",
       "      <td>0</td>\n",
       "      <td>0</td>\n",
       "      <td>1</td>\n",
       "      <td>0</td>\n",
       "      <td>0</td>\n",
       "    </tr>\n",
       "    <tr>\n",
       "      <th>4</th>\n",
       "      <td>1821.0</td>\n",
       "      <td>1.2</td>\n",
       "      <td>13</td>\n",
       "      <td>44.0</td>\n",
       "      <td>0.6</td>\n",
       "      <td>141.0</td>\n",
       "      <td>2</td>\n",
       "      <td>14.0</td>\n",
       "      <td>1208.0</td>\n",
       "      <td>1212.0</td>\n",
       "      <td>1411.0</td>\n",
       "      <td>8</td>\n",
       "      <td>2</td>\n",
       "      <td>15</td>\n",
       "      <td>1.0</td>\n",
       "      <td>0</td>\n",
       "      <td>1</td>\n",
       "      <td>1</td>\n",
       "      <td>0</td>\n",
       "      <td>1</td>\n",
       "    </tr>\n",
       "    <tr>\n",
       "      <th>6</th>\n",
       "      <td>1821.0</td>\n",
       "      <td>1.7</td>\n",
       "      <td>4</td>\n",
       "      <td>10.0</td>\n",
       "      <td>0.8</td>\n",
       "      <td>139.0</td>\n",
       "      <td>8</td>\n",
       "      <td>10.0</td>\n",
       "      <td>381.0</td>\n",
       "      <td>1018.0</td>\n",
       "      <td>3220.0</td>\n",
       "      <td>13</td>\n",
       "      <td>8</td>\n",
       "      <td>18</td>\n",
       "      <td>3.0</td>\n",
       "      <td>1</td>\n",
       "      <td>0</td>\n",
       "      <td>0</td>\n",
       "      <td>0</td>\n",
       "      <td>1</td>\n",
       "    </tr>\n",
       "    <tr>\n",
       "      <th>...</th>\n",
       "      <td>...</td>\n",
       "      <td>...</td>\n",
       "      <td>...</td>\n",
       "      <td>...</td>\n",
       "      <td>...</td>\n",
       "      <td>...</td>\n",
       "      <td>...</td>\n",
       "      <td>...</td>\n",
       "      <td>...</td>\n",
       "      <td>...</td>\n",
       "      <td>...</td>\n",
       "      <td>...</td>\n",
       "      <td>...</td>\n",
       "      <td>...</td>\n",
       "      <td>...</td>\n",
       "      <td>...</td>\n",
       "      <td>...</td>\n",
       "      <td>...</td>\n",
       "      <td>...</td>\n",
       "      <td>...</td>\n",
       "    </tr>\n",
       "    <tr>\n",
       "      <th>1996</th>\n",
       "      <td>794.0</td>\n",
       "      <td>0.5</td>\n",
       "      <td>0</td>\n",
       "      <td>2.0</td>\n",
       "      <td>0.8</td>\n",
       "      <td>106.0</td>\n",
       "      <td>6</td>\n",
       "      <td>14.0</td>\n",
       "      <td>1222.0</td>\n",
       "      <td>1890.0</td>\n",
       "      <td>668.0</td>\n",
       "      <td>13</td>\n",
       "      <td>4</td>\n",
       "      <td>19</td>\n",
       "      <td>0.0</td>\n",
       "      <td>0</td>\n",
       "      <td>1</td>\n",
       "      <td>1</td>\n",
       "      <td>1</td>\n",
       "      <td>1</td>\n",
       "    </tr>\n",
       "    <tr>\n",
       "      <th>1997</th>\n",
       "      <td>1965.0</td>\n",
       "      <td>2.6</td>\n",
       "      <td>0</td>\n",
       "      <td>39.0</td>\n",
       "      <td>0.2</td>\n",
       "      <td>187.0</td>\n",
       "      <td>4</td>\n",
       "      <td>3.0</td>\n",
       "      <td>915.0</td>\n",
       "      <td>1965.0</td>\n",
       "      <td>2032.0</td>\n",
       "      <td>11</td>\n",
       "      <td>10</td>\n",
       "      <td>16</td>\n",
       "      <td>2.0</td>\n",
       "      <td>1</td>\n",
       "      <td>1</td>\n",
       "      <td>1</td>\n",
       "      <td>1</td>\n",
       "      <td>0</td>\n",
       "    </tr>\n",
       "    <tr>\n",
       "      <th>1998</th>\n",
       "      <td>1911.0</td>\n",
       "      <td>0.9</td>\n",
       "      <td>1</td>\n",
       "      <td>36.0</td>\n",
       "      <td>0.7</td>\n",
       "      <td>108.0</td>\n",
       "      <td>8</td>\n",
       "      <td>3.0</td>\n",
       "      <td>868.0</td>\n",
       "      <td>1632.0</td>\n",
       "      <td>3057.0</td>\n",
       "      <td>9</td>\n",
       "      <td>1</td>\n",
       "      <td>5</td>\n",
       "      <td>3.0</td>\n",
       "      <td>0</td>\n",
       "      <td>1</td>\n",
       "      <td>0</td>\n",
       "      <td>1</td>\n",
       "      <td>1</td>\n",
       "    </tr>\n",
       "    <tr>\n",
       "      <th>1999</th>\n",
       "      <td>1512.0</td>\n",
       "      <td>0.9</td>\n",
       "      <td>4</td>\n",
       "      <td>46.0</td>\n",
       "      <td>0.1</td>\n",
       "      <td>145.0</td>\n",
       "      <td>5</td>\n",
       "      <td>5.0</td>\n",
       "      <td>336.0</td>\n",
       "      <td>670.0</td>\n",
       "      <td>869.0</td>\n",
       "      <td>18</td>\n",
       "      <td>10</td>\n",
       "      <td>19</td>\n",
       "      <td>0.0</td>\n",
       "      <td>1</td>\n",
       "      <td>1</td>\n",
       "      <td>0</td>\n",
       "      <td>0</td>\n",
       "      <td>1</td>\n",
       "    </tr>\n",
       "    <tr>\n",
       "      <th>2000</th>\n",
       "      <td>510.0</td>\n",
       "      <td>2.0</td>\n",
       "      <td>5</td>\n",
       "      <td>45.0</td>\n",
       "      <td>0.9</td>\n",
       "      <td>168.0</td>\n",
       "      <td>6</td>\n",
       "      <td>16.0</td>\n",
       "      <td>483.0</td>\n",
       "      <td>754.0</td>\n",
       "      <td>3919.0</td>\n",
       "      <td>19</td>\n",
       "      <td>4</td>\n",
       "      <td>2</td>\n",
       "      <td>3.0</td>\n",
       "      <td>1</td>\n",
       "      <td>1</td>\n",
       "      <td>1</td>\n",
       "      <td>1</td>\n",
       "      <td>1</td>\n",
       "    </tr>\n",
       "  </tbody>\n",
       "</table>\n",
       "<p>1488 rows × 20 columns</p>\n",
       "</div>"
      ],
      "text/plain": [
       "      battery_power  clock_speed  fc  int_memory  m_dep  mobile_wt  n_cores  \\\n",
       "1            1021.0          0.5   0        53.0    0.7      136.0        3   \n",
       "2             563.0          0.5   2        41.0    0.9      145.0        5   \n",
       "3             615.0          2.5   0        10.0    0.8      131.0        6   \n",
       "4            1821.0          1.2  13        44.0    0.6      141.0        2   \n",
       "6            1821.0          1.7   4        10.0    0.8      139.0        8   \n",
       "...             ...          ...  ..         ...    ...        ...      ...   \n",
       "1996          794.0          0.5   0         2.0    0.8      106.0        6   \n",
       "1997         1965.0          2.6   0        39.0    0.2      187.0        4   \n",
       "1998         1911.0          0.9   1        36.0    0.7      108.0        8   \n",
       "1999         1512.0          0.9   4        46.0    0.1      145.0        5   \n",
       "2000          510.0          2.0   5        45.0    0.9      168.0        6   \n",
       "\n",
       "        pc  px_height  px_width     ram  sc_h  sc_w  talk_time  price_range  \\\n",
       "1      6.0      905.0    1988.0  2631.0    17     3          7          2.0   \n",
       "2      6.0     1263.0    1716.0  2603.0    11     2          9          2.0   \n",
       "3      9.0     1216.0    1786.0  2769.0    16     8         11          2.0   \n",
       "4     14.0     1208.0    1212.0  1411.0     8     2         15          1.0   \n",
       "6     10.0      381.0    1018.0  3220.0    13     8         18          3.0   \n",
       "...    ...        ...       ...     ...   ...   ...        ...          ...   \n",
       "1996  14.0     1222.0    1890.0   668.0    13     4         19          0.0   \n",
       "1997   3.0      915.0    1965.0  2032.0    11    10         16          2.0   \n",
       "1998   3.0      868.0    1632.0  3057.0     9     1          5          3.0   \n",
       "1999   5.0      336.0     670.0   869.0    18    10         19          0.0   \n",
       "2000  16.0      483.0     754.0  3919.0    19     4          2          3.0   \n",
       "\n",
       "      wifi_1  touch_screen_1  blue_1.0  dual_sim_1.0  four_g_1  \n",
       "1          0               1         1             1         1  \n",
       "2          0               1         1             1         1  \n",
       "3          0               0         1             0         0  \n",
       "4          0               1         1             0         1  \n",
       "6          1               0         0             0         1  \n",
       "...      ...             ...       ...           ...       ...  \n",
       "1996       0               1         1             1         1  \n",
       "1997       1               1         1             1         0  \n",
       "1998       0               1         0             1         1  \n",
       "1999       1               1         0             0         1  \n",
       "2000       1               1         1             1         1  \n",
       "\n",
       "[1488 rows x 20 columns]"
      ]
     },
     "execution_count": 87,
     "metadata": {},
     "output_type": "execute_result"
    }
   ],
   "source": [
    "# df"
   ]
  },
  {
   "cell_type": "code",
   "execution_count": null,
   "id": "957fd15d",
   "metadata": {},
   "outputs": [],
   "source": []
  },
  {
   "cell_type": "code",
   "execution_count": 91,
   "id": "ab76991b",
   "metadata": {},
   "outputs": [],
   "source": []
  },
  {
   "cell_type": "markdown",
   "id": "36dcc2c5",
   "metadata": {},
   "source": [
    "3. Training the model -\n",
    "\n",
    "a. Split the data for training and testing\n",
    "\n",
    "b. Train the logistic regression model with the help of all given columns\n",
    "\n",
    "c. Determine the training accuracy\n",
    "\n",
    "d. Determine the testing accuracy"
   ]
  },
  {
   "cell_type": "code",
   "execution_count": 34,
   "id": "1cd7a2d6",
   "metadata": {},
   "outputs": [
    {
     "data": {
      "text/plain": [
       "<AxesSubplot:>"
      ]
     },
     "execution_count": 34,
     "metadata": {},
     "output_type": "execute_result"
    },
    {
     "data": {
      "image/png": "[encoded data removed]",
      "text/plain": [
       "<Figure size 1296x936 with 2 Axes>"
      ]
     },
     "metadata": {
      "needs_background": "light"
     },
     "output_type": "display_data"
    }
   ],
   "source": [
    "# corelation matrix\n",
    "plt.figure(figsize = (18,13))\n",
    "sns.heatmap(df.corr() , annot = True , cmap = \"viridis\")"
   ]
  },
  {
   "cell_type": "code",
   "execution_count": 35,
   "id": "dce4e0be",
   "metadata": {},
   "outputs": [],
   "source": [
    "X = df.drop(\"price_range\" , axis = 1)\n",
    "Y = df[[\"price_range\"]]"
   ]
  },
  {
   "cell_type": "markdown",
   "id": "d82c3af7",
   "metadata": {},
   "source": [
    "a. Split the data for training and testing"
   ]
  },
  {
   "cell_type": "code",
   "execution_count": 36,
   "id": "4ad94bb3",
   "metadata": {},
   "outputs": [],
   "source": [
    "# splt data\n",
    "from sklearn.model_selection import train_test_split\n",
    "X_train , X_test , Y_train , Y_test = train_test_split(X , Y , test_size = 0.2 , \n",
    "                                                      random_state = 42)"
   ]
  },
  {
   "cell_type": "code",
   "execution_count": 37,
   "id": "7affd7ad",
   "metadata": {},
   "outputs": [
    {
     "data": {
      "text/plain": [
       "0.0    492\n",
       "1.0    491\n",
       "2.0    490\n",
       "3.0    487\n",
       "Name: price_range, dtype: int64"
      ]
     },
     "execution_count": 37,
     "metadata": {},
     "output_type": "execute_result"
    }
   ],
   "source": [
    "# value_couts of target data is balance \n",
    "df[\"price_range\"].value_counts()"
   ]
  },
  {
   "cell_type": "markdown",
   "id": "1b34d792",
   "metadata": {},
   "source": [
    "d. Apply the scaling on numerical columns"
   ]
  },
  {
   "cell_type": "code",
   "execution_count": 38,
   "id": "1a862c03",
   "metadata": {},
   "outputs": [],
   "source": [
    "from sklearn.preprocessing import StandardScaler\n",
    "sc = StandardScaler()\n",
    "X_train = sc.fit_transform(X_train)\n",
    "X_test = sc.transform(X_test)"
   ]
  },
  {
   "cell_type": "markdown",
   "id": "608987aa",
   "metadata": {},
   "source": [
    "b. Train the logistic regression model with the help of all given columns"
   ]
  },
  {
   "cell_type": "code",
   "execution_count": 39,
   "id": "9c565cff",
   "metadata": {},
   "outputs": [
    {
     "name": "stderr",
     "output_type": "stream",
     "text": [
      "C:\\Users\\NOOMAN KHAN\\anaconda3\\lib\\site-packages\\sklearn\\utils\\validation.py:1111: DataConversionWarning: A column-vector y was passed when a 1d array was expected. Please change the shape of y to (n_samples, ), for example using ravel().\n",
      "  y = column_or_1d(y, warn=True)\n"
     ]
    },
    {
     "data": {
      "text/html": [
       "<style>#sk-container-id-1 {color: black;background-color: white;}#sk-container-id-1 pre{padding: 0;}#sk-container-id-1 div.sk-toggleable {background-color: white;}#sk-container-id-1 label.sk-toggleable__label {cursor: pointer;display: block;width: 100%;margin-bottom: 0;padding: 0.3em;box-sizing: border-box;text-align: center;}#sk-container-id-1 label.sk-toggleable__label-arrow:before {content: \"▸\";float: left;margin-right: 0.25em;color: #696969;}#sk-container-id-1 label.sk-toggleable__label-arrow:hover:before {color: black;}#sk-container-id-1 div.sk-estimator:hover label.sk-toggleable__label-arrow:before {color: black;}#sk-container-id-1 div.sk-toggleable__content {max-height: 0;max-width: 0;overflow: hidden;text-align: left;background-color: #f0f8ff;}#sk-container-id-1 div.sk-toggleable__content pre {margin: 0.2em;color: black;border-radius: 0.25em;background-color: #f0f8ff;}#sk-container-id-1 input.sk-toggleable__control:checked~div.sk-toggleable__content {max-height: 200px;max-width: 100%;overflow: auto;}#sk-container-id-1 input.sk-toggleable__control:checked~label.sk-toggleable__label-arrow:before {content: \"▾\";}#sk-container-id-1 div.sk-estimator input.sk-toggleable__control:checked~label.sk-toggleable__label {background-color: #d4ebff;}#sk-container-id-1 div.sk-label input.sk-toggleable__control:checked~label.sk-toggleable__label {background-color: #d4ebff;}#sk-container-id-1 input.sk-hidden--visually {border: 0;clip: rect(1px 1px 1px 1px);clip: rect(1px, 1px, 1px, 1px);height: 1px;margin: -1px;overflow: hidden;padding: 0;position: absolute;width: 1px;}#sk-container-id-1 div.sk-estimator {font-family: monospace;background-color: #f0f8ff;border: 1px dotted black;border-radius: 0.25em;box-sizing: border-box;margin-bottom: 0.5em;}#sk-container-id-1 div.sk-estimator:hover {background-color: #d4ebff;}#sk-container-id-1 div.sk-parallel-item::after {content: \"\";width: 100%;border-bottom: 1px solid gray;flex-grow: 1;}#sk-container-id-1 div.sk-label:hover label.sk-toggleable__label {background-color: #d4ebff;}#sk-container-id-1 div.sk-serial::before {content: \"\";position: absolute;border-left: 1px solid gray;box-sizing: border-box;top: 0;bottom: 0;left: 50%;z-index: 0;}#sk-container-id-1 div.sk-serial {display: flex;flex-direction: column;align-items: center;background-color: white;padding-right: 0.2em;padding-left: 0.2em;position: relative;}#sk-container-id-1 div.sk-item {position: relative;z-index: 1;}#sk-container-id-1 div.sk-parallel {display: flex;align-items: stretch;justify-content: center;background-color: white;position: relative;}#sk-container-id-1 div.sk-item::before, #sk-container-id-1 div.sk-parallel-item::before {content: \"\";position: absolute;border-left: 1px solid gray;box-sizing: border-box;top: 0;bottom: 0;left: 50%;z-index: -1;}#sk-container-id-1 div.sk-parallel-item {display: flex;flex-direction: column;z-index: 1;position: relative;background-color: white;}#sk-container-id-1 div.sk-parallel-item:first-child::after {align-self: flex-end;width: 50%;}#sk-container-id-1 div.sk-parallel-item:last-child::after {align-self: flex-start;width: 50%;}#sk-container-id-1 div.sk-parallel-item:only-child::after {width: 0;}#sk-container-id-1 div.sk-dashed-wrapped {border: 1px dashed gray;margin: 0 0.4em 0.5em 0.4em;box-sizing: border-box;padding-bottom: 0.4em;background-color: white;}#sk-container-id-1 div.sk-label label {font-family: monospace;font-weight: bold;display: inline-block;line-height: 1.2em;}#sk-container-id-1 div.sk-label-container {text-align: center;}#sk-container-id-1 div.sk-container {/* jupyter's `normalize.less` sets `[hidden] { display: none; }` but bootstrap.min.css set `[hidden] { display: none !important; }` so we also need the `!important` here to be able to override the default hidden behavior on the sphinx rendered scikit-learn.org. See: https://github.com/scikit-learn/scikit-learn/issues/21755 */display: inline-block !important;position: relative;}#sk-container-id-1 div.sk-text-repr-fallback {display: none;}</style><div id=\"sk-container-id-1\" class=\"sk-top-container\"><div class=\"sk-text-repr-fallback\"><pre>LogisticRegression()</pre><b>In a Jupyter environment, please rerun this cell to show the HTML representation or trust the notebook. <br />On GitHub, the HTML representation is unable to render, please try loading this page with nbviewer.org.</b></div><div class=\"sk-container\" hidden><div class=\"sk-item\"><div class=\"sk-estimator sk-toggleable\"><input class=\"sk-toggleable__control sk-hidden--visually\" id=\"sk-estimator-id-1\" type=\"checkbox\" checked><label for=\"sk-estimator-id-1\" class=\"sk-toggleable__label sk-toggleable__label-arrow\">LogisticRegression</label><div class=\"sk-toggleable__content\"><pre>LogisticRegression()</pre></div></div></div></div></div>"
      ],
      "text/plain": [
       "LogisticRegression()"
      ]
     },
     "execution_count": 39,
     "metadata": {},
     "output_type": "execute_result"
    }
   ],
   "source": [
    "from sklearn.linear_model import LogisticRegression\n",
    "lg = LogisticRegression()\n",
    "lg.fit(X_train , Y_train)\n"
   ]
  },
  {
   "cell_type": "markdown",
   "id": "86c5ba5b",
   "metadata": {},
   "source": [
    "c. Determine the training accuracy"
   ]
  },
  {
   "cell_type": "code",
   "execution_count": 40,
   "id": "892176a5",
   "metadata": {},
   "outputs": [],
   "source": [
    "Y_pred = lg.predict(X_test)\n"
   ]
  },
  {
   "cell_type": "code",
   "execution_count": 41,
   "id": "22982983",
   "metadata": {},
   "outputs": [
    {
     "data": {
      "text/plain": [
       "0.9668367346938775"
      ]
     },
     "execution_count": 41,
     "metadata": {},
     "output_type": "execute_result"
    }
   ],
   "source": [
    "# testing accuracy\n",
    "from sklearn import metrics\n",
    "metrics.accuracy_score(Y_test , Y_pred)"
   ]
  },
  {
   "cell_type": "code",
   "execution_count": 42,
   "id": "b3f36b83",
   "metadata": {},
   "outputs": [
    {
     "data": {
      "text/plain": [
       "array([[106,   1,   0,   0],\n",
       "       [  3, 100,   2,   0],\n",
       "       [  0,   4,  86,   2],\n",
       "       [  0,   0,   1,  87]], dtype=int64)"
      ]
     },
     "execution_count": 42,
     "metadata": {},
     "output_type": "execute_result"
    }
   ],
   "source": [
    "C_f = metrics.confusion_matrix(Y_test , Y_pred)\n",
    "C_f"
   ]
  },
  {
   "cell_type": "code",
   "execution_count": 43,
   "id": "75bbfa93",
   "metadata": {},
   "outputs": [
    {
     "data": {
      "text/plain": [
       "Text(33.0, 0.5, 'Actual')"
      ]
     },
     "execution_count": 43,
     "metadata": {},
     "output_type": "execute_result"
    },
    {
     "data": {
      "image/png": "[encoded data removed]",
      "text/plain": [
       "<Figure size 432x288 with 2 Axes>"
      ]
     },
     "metadata": {
      "needs_background": "light"
     },
     "output_type": "display_data"
    }
   ],
   "source": [
    "sns.heatmap(C_f , annot = True)\n",
    "plt.xlabel(\"Predict\")\n",
    "plt.ylabel(\"Actual\")"
   ]
  },
  {
   "cell_type": "markdown",
   "id": "7a3ddd89",
   "metadata": {},
   "source": [
    "Print the classification report of your model"
   ]
  },
  {
   "cell_type": "code",
   "execution_count": 44,
   "id": "213eabed",
   "metadata": {},
   "outputs": [
    {
     "name": "stdout",
     "output_type": "stream",
     "text": [
      "              precision    recall  f1-score   support\n",
      "\n",
      "         0.0       0.97      0.99      0.98       107\n",
      "         1.0       0.95      0.95      0.95       105\n",
      "         2.0       0.97      0.93      0.95        92\n",
      "         3.0       0.98      0.99      0.98        88\n",
      "\n",
      "    accuracy                           0.97       392\n",
      "   macro avg       0.97      0.97      0.97       392\n",
      "weighted avg       0.97      0.97      0.97       392\n",
      "\n"
     ]
    }
   ],
   "source": [
    "print(metrics.classification_report(Y_test , Y_pred))"
   ]
  },
  {
   "cell_type": "code",
   "execution_count": 45,
   "id": "60dfdce3",
   "metadata": {},
   "outputs": [
    {
     "data": {
      "text/plain": [
       "0.9770408163265306"
      ]
     },
     "execution_count": 45,
     "metadata": {},
     "output_type": "execute_result"
    }
   ],
   "source": [
    "# training accuracy\n",
    "Y_pred = lg.predict(X_train)\n",
    "\n",
    "\n",
    "from sklearn import metrics\n",
    "metrics.accuracy_score(Y_train , Y_pred)\n"
   ]
  },
  {
   "cell_type": "code",
   "execution_count": null,
   "id": "0183956c",
   "metadata": {},
   "outputs": [],
   "source": []
  },
  {
   "cell_type": "code",
   "execution_count": 46,
   "id": "910d1788",
   "metadata": {},
   "outputs": [
    {
     "data": {
      "text/plain": [
       "Text(33.0, 0.5, 'Actual')"
      ]
     },
     "execution_count": 46,
     "metadata": {},
     "output_type": "execute_result"
    },
    {
     "data": {
      "image/png": "[encoded data removed]",
      "text/plain": [
       "<Figure size 432x288 with 2 Axes>"
      ]
     },
     "metadata": {
      "needs_background": "light"
     },
     "output_type": "display_data"
    }
   ],
   "source": [
    "sns.heatmap(C_f , annot = True)\n",
    "plt.xlabel(\"Predict\")\n",
    "plt.ylabel(\"Actual\")"
   ]
  },
  {
   "cell_type": "code",
   "execution_count": 47,
   "id": "256ef259",
   "metadata": {},
   "outputs": [
    {
     "name": "stdout",
     "output_type": "stream",
     "text": [
      "              precision    recall  f1-score   support\n",
      "\n",
      "         0.0       0.97      0.99      0.98       385\n",
      "         1.0       0.98      0.96      0.97       386\n",
      "         2.0       0.98      0.96      0.97       398\n",
      "         3.0       0.98      0.99      0.99       399\n",
      "\n",
      "    accuracy                           0.98      1568\n",
      "   macro avg       0.98      0.98      0.98      1568\n",
      "weighted avg       0.98      0.98      0.98      1568\n",
      "\n"
     ]
    }
   ],
   "source": [
    "print(metrics.classification_report(Y_train , Y_pred))"
   ]
  },
  {
   "cell_type": "code",
   "execution_count": 48,
   "id": "8d7b9b4f",
   "metadata": {},
   "outputs": [
    {
     "data": {
      "text/plain": [
       "array([[382,   3,   0,   0],\n",
       "       [ 10, 371,   5,   0],\n",
       "       [  0,   6, 384,   8],\n",
       "       [  0,   0,   4, 395]], dtype=int64)"
      ]
     },
     "execution_count": 48,
     "metadata": {},
     "output_type": "execute_result"
    }
   ],
   "source": [
    "C_f = metrics.confusion_matrix(Y_train , Y_pred)\n",
    "C_f"
   ]
  },
  {
   "cell_type": "markdown",
   "id": "35948cfa",
   "metadata": {},
   "source": [
    "Q5. if someone uses the below-given values to predict the price range for this.\n",
    "\n",
    "Battery_power = 543, blue=1,clock_speed=2.8, dual_sim=0, fc=1, four_g = 0,\n",
    "\n",
    "int_memory=7 , m_dep=0.6, mobile_wt=199 , n_cores=2, pc= 20,\n",
    "\n",
    "px_height=756, px_width= 2549, ram = 2549, sc_h = 7 sc_w = 19,\n",
    "\n",
    "talk_time = 19, three_g = 1, touch_screen = 0 wifi = 1"
   ]
  },
  {
   "cell_type": "code",
   "execution_count": 49,
   "id": "4ac34a61",
   "metadata": {},
   "outputs": [],
   "source": [
    "df1 = pd.DataFrame({ \"Battery_power\" : 543, \"blue\":1,\"clock_speed\":2.8, \"dual_sim\":0, \"fc\":1, \"four_g\" : 0,\n",
    "\n",
    "\"int_memory\":7 , \"m_dep\":0.6, \"mobile_wt\":199 , \"n_cores\":2, \"pc\": 20,\n",
    "\n",
    "\"px_height\":756, \"px_width\":2549, \"ram\" : 2549, \"sc_h\" : 7, \"sc_w\" : 19,\n",
    "\n",
    "\"talk_time\" : 19, \"three_g\" : 1,\" touch_screen\" : 0 ,\"wifi\" : 1} , index = [1])\n",
    "\n",
    "\n",
    " "
   ]
  },
  {
   "cell_type": "code",
   "execution_count": 50,
   "id": "fcfd1889",
   "metadata": {},
   "outputs": [
    {
     "data": {
      "text/html": [
       "<div>\n",
       "<style scoped>\n",
       "    .dataframe tbody tr th:only-of-type {\n",
       "        vertical-align: middle;\n",
       "    }\n",
       "\n",
       "    .dataframe tbody tr th {\n",
       "        vertical-align: top;\n",
       "    }\n",
       "\n",
       "    .dataframe thead th {\n",
       "        text-align: right;\n",
       "    }\n",
       "</style>\n",
       "<table border=\"1\" class=\"dataframe\">\n",
       "  <thead>\n",
       "    <tr style=\"text-align: right;\">\n",
       "      <th></th>\n",
       "      <th>Battery_power</th>\n",
       "      <th>blue</th>\n",
       "      <th>clock_speed</th>\n",
       "      <th>dual_sim</th>\n",
       "      <th>fc</th>\n",
       "      <th>four_g</th>\n",
       "      <th>int_memory</th>\n",
       "      <th>m_dep</th>\n",
       "      <th>mobile_wt</th>\n",
       "      <th>n_cores</th>\n",
       "      <th>pc</th>\n",
       "      <th>px_height</th>\n",
       "      <th>px_width</th>\n",
       "      <th>ram</th>\n",
       "      <th>sc_h</th>\n",
       "      <th>sc_w</th>\n",
       "      <th>talk_time</th>\n",
       "      <th>three_g</th>\n",
       "      <th>touch_screen</th>\n",
       "      <th>wifi</th>\n",
       "    </tr>\n",
       "  </thead>\n",
       "  <tbody>\n",
       "    <tr>\n",
       "      <th>1</th>\n",
       "      <td>543</td>\n",
       "      <td>1</td>\n",
       "      <td>2.8</td>\n",
       "      <td>0</td>\n",
       "      <td>1</td>\n",
       "      <td>0</td>\n",
       "      <td>7</td>\n",
       "      <td>0.6</td>\n",
       "      <td>199</td>\n",
       "      <td>2</td>\n",
       "      <td>20</td>\n",
       "      <td>756</td>\n",
       "      <td>2549</td>\n",
       "      <td>2549</td>\n",
       "      <td>7</td>\n",
       "      <td>19</td>\n",
       "      <td>19</td>\n",
       "      <td>1</td>\n",
       "      <td>0</td>\n",
       "      <td>1</td>\n",
       "    </tr>\n",
       "  </tbody>\n",
       "</table>\n",
       "</div>"
      ],
      "text/plain": [
       "   Battery_power  blue  clock_speed  dual_sim  fc  four_g  int_memory  m_dep  \\\n",
       "1            543     1          2.8         0   1       0           7    0.6   \n",
       "\n",
       "   mobile_wt  n_cores  pc  px_height  px_width   ram  sc_h  sc_w  talk_time  \\\n",
       "1        199        2  20        756      2549  2549     7    19         19   \n",
       "\n",
       "   three_g   touch_screen  wifi  \n",
       "1        1              0     1  "
      ]
     },
     "execution_count": 50,
     "metadata": {},
     "output_type": "execute_result"
    }
   ],
   "source": [
    "df1"
   ]
  },
  {
   "cell_type": "code",
   "execution_count": 51,
   "id": "b53efbe7",
   "metadata": {},
   "outputs": [],
   "source": [
    "X_ex = sc.fit_transform(df1)"
   ]
  },
  {
   "cell_type": "code",
   "execution_count": 52,
   "id": "eadeb7a9",
   "metadata": {},
   "outputs": [],
   "source": [
    "# for i in [\"three_g\",\"wifi\",\"touch_screen\",\"blue\",\"dual_sim\",\"four_g\"]:\n",
    "#     df1 = pd.get_dummies(data = df1 , columns = [i] , drop_first = True)"
   ]
  },
  {
   "cell_type": "code",
   "execution_count": 53,
   "id": "94a37fca",
   "metadata": {},
   "outputs": [
    {
     "data": {
      "text/plain": [
       "array([2.])"
      ]
     },
     "execution_count": 53,
     "metadata": {},
     "output_type": "execute_result"
    }
   ],
   "source": [
    "Y_pred = lg.predict(X_ex)\n",
    "Y_pred"
   ]
  },
  {
   "cell_type": "markdown",
   "id": "df7f87f7",
   "metadata": {},
   "source": [
    "Q6. Dr. Hanis wants to test your model he took random numbers between 400 to 800 for\n",
    "\n",
    "columns Battery_power, px_width, and px_height columns. And other columns values are\n",
    "\n",
    "blue=1,clock_speed=2.8, dual_sim=0, fc=1, four_g = 0, int_memory=7 ,\n",
    "\n",
    "m_dep=0.6, mobile_wt=199 , n_cores=2, pc= 20 , ram = 2549, sc_h = 7,\n",
    "\n",
    "sc_w = 19, talk_time = 19, three_g = 1, touch_screen = 0, wifi = 1\n",
    "\n",
    "Predict the price range for Dr. Hanis Data."
   ]
  },
  {
   "cell_type": "code",
   "execution_count": 55,
   "id": "e467bea1",
   "metadata": {},
   "outputs": [],
   "source": [
    "df2 = pd.DataFrame({ \"Battery_power\" : 500, \"blue\":1,\"clock_speed\":2.8, \"dual_sim\":0, \"fc\":1, \"four_g\" : 0,\n",
    "\n",
    "\"int_memory\":7 , \"m_dep\":0.6, \"mobile_wt\":199 , \"n_cores\":2, \"pc\": 20,\n",
    "\n",
    "\"px_height\":756, \"px_width\":800, \"ram\" : 2549, \"sc_h\" : 7, \"sc_w\" : 19,\n",
    "\n",
    "\"talk_time\" : 19, \"three_g\" : 1,\" touch_screen\" : 0 ,\"wifi\" : 1} , index = [1])"
   ]
  },
  {
   "cell_type": "code",
   "execution_count": 56,
   "id": "9116d0ae",
   "metadata": {},
   "outputs": [
    {
     "data": {
      "text/html": [
       "<div>\n",
       "<style scoped>\n",
       "    .dataframe tbody tr th:only-of-type {\n",
       "        vertical-align: middle;\n",
       "    }\n",
       "\n",
       "    .dataframe tbody tr th {\n",
       "        vertical-align: top;\n",
       "    }\n",
       "\n",
       "    .dataframe thead th {\n",
       "        text-align: right;\n",
       "    }\n",
       "</style>\n",
       "<table border=\"1\" class=\"dataframe\">\n",
       "  <thead>\n",
       "    <tr style=\"text-align: right;\">\n",
       "      <th></th>\n",
       "      <th>Battery_power</th>\n",
       "      <th>blue</th>\n",
       "      <th>clock_speed</th>\n",
       "      <th>dual_sim</th>\n",
       "      <th>fc</th>\n",
       "      <th>four_g</th>\n",
       "      <th>int_memory</th>\n",
       "      <th>m_dep</th>\n",
       "      <th>mobile_wt</th>\n",
       "      <th>n_cores</th>\n",
       "      <th>pc</th>\n",
       "      <th>px_height</th>\n",
       "      <th>px_width</th>\n",
       "      <th>ram</th>\n",
       "      <th>sc_h</th>\n",
       "      <th>sc_w</th>\n",
       "      <th>talk_time</th>\n",
       "      <th>three_g</th>\n",
       "      <th>touch_screen</th>\n",
       "      <th>wifi</th>\n",
       "    </tr>\n",
       "  </thead>\n",
       "  <tbody>\n",
       "    <tr>\n",
       "      <th>1</th>\n",
       "      <td>500</td>\n",
       "      <td>1</td>\n",
       "      <td>2.8</td>\n",
       "      <td>0</td>\n",
       "      <td>1</td>\n",
       "      <td>0</td>\n",
       "      <td>7</td>\n",
       "      <td>0.6</td>\n",
       "      <td>199</td>\n",
       "      <td>2</td>\n",
       "      <td>20</td>\n",
       "      <td>756</td>\n",
       "      <td>800</td>\n",
       "      <td>2549</td>\n",
       "      <td>7</td>\n",
       "      <td>19</td>\n",
       "      <td>19</td>\n",
       "      <td>1</td>\n",
       "      <td>0</td>\n",
       "      <td>1</td>\n",
       "    </tr>\n",
       "  </tbody>\n",
       "</table>\n",
       "</div>"
      ],
      "text/plain": [
       "   Battery_power  blue  clock_speed  dual_sim  fc  four_g  int_memory  m_dep  \\\n",
       "1            500     1          2.8         0   1       0           7    0.6   \n",
       "\n",
       "   mobile_wt  n_cores  pc  px_height  px_width   ram  sc_h  sc_w  talk_time  \\\n",
       "1        199        2  20        756       800  2549     7    19         19   \n",
       "\n",
       "   three_g   touch_screen  wifi  \n",
       "1        1              0     1  "
      ]
     },
     "execution_count": 56,
     "metadata": {},
     "output_type": "execute_result"
    }
   ],
   "source": [
    "df2"
   ]
  },
  {
   "cell_type": "code",
   "execution_count": 57,
   "id": "c943eed8",
   "metadata": {},
   "outputs": [],
   "source": [
    "X_ex_2 = sc.fit_transform(df2)"
   ]
  },
  {
   "cell_type": "code",
   "execution_count": 58,
   "id": "56697716",
   "metadata": {},
   "outputs": [
    {
     "data": {
      "text/plain": [
       "array([2.])"
      ]
     },
     "execution_count": 58,
     "metadata": {},
     "output_type": "execute_result"
    }
   ],
   "source": [
    "Y_pred = lg.predict(X_ex_2)\n",
    "Y_pred"
   ]
  }
 ],
 "metadata": {
  "kernelspec": {
   "display_name": "Python 3 (ipykernel)",
   "language": "python",
   "name": "python3"
  },
  "language_info": {
   "codemirror_mode": {
    "name": "ipython",
    "version": 3
   },
   "file_extension": ".py",
   "mimetype": "text/x-python",
   "name": "python",
   "nbconvert_exporter": "python",
   "pygments_lexer": "ipython3",
   "version": "3.9.12"
  }
 },
 "nbformat": 4,
 "nbformat_minor": 5
}
