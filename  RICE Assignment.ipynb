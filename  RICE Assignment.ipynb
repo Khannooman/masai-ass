{
 "cells": [
  {
   "cell_type": "code",
   "execution_count": 1,
   "id": "7886c85b",
   "metadata": {},
   "outputs": [],
   "source": [
    "import pandas as pd\n",
    "import numpy as np\n",
    "import seaborn as sns\n",
    "import matplotlib.pyplot as plt\n",
    "%matplotlib inline\n",
    "from datetime import datetime"
   ]
  },
  {
   "cell_type": "code",
   "execution_count": 2,
   "id": "314b5141",
   "metadata": {},
   "outputs": [],
   "source": [
    "df_2019 = pd.read_excel(\"C:/Users/NOOMAN KHAN/Desktop/Rice Data/drive-download-20230209T113119Z-001/Rice Exporters 2019.xlsx\",\n",
    "            sheet_name = \"Trade Atlas Records - Jan\")\n",
    "for i in [\"Feb\",\"Mar\",\"Apr\",\"May\",\"Jun\",\"Jul\",\"Aug\",\"Sep\",\"Oct\",\"Nov\",\"Dec\"]:\n",
    "          df = pd.read_excel(\"C:/Users/NOOMAN KHAN/Desktop/Rice Data/drive-download-20230209T113119Z-001/Rice Exporters 2019.xlsx\",\n",
    "            sheet_name = f\"Trade Atlas Records - {i}\")\n",
    "          df_2019 = pd.concat([df_2019,df],axis = 0)\n",
    "          "
   ]
  },
  {
   "cell_type": "code",
   "execution_count": 3,
   "id": "75af070e",
   "metadata": {},
   "outputs": [],
   "source": [
    "df_2021 = pd.read_excel(\"C:/Users/NOOMAN KHAN/Desktop/Rice Data/drive-download-20230209T113119Z-001/Rice Exporters 2021.xlsx\",\n",
    "            sheet_name = \"January\")\n",
    "for i in ['February', 'March', 'April', 'May data', 'June','July', 'August', 'Sept', 'October', 'November', 'Dec 1' , 'Dec 2']:\n",
    "          df = pd.read_excel(\"C:/Users/NOOMAN KHAN/Desktop/Rice Data/drive-download-20230209T113119Z-001/Rice Exporters 2021.xlsx\",\n",
    "            sheet_name = f\"{i}\")\n",
    "          df_2021 = pd.concat([df_2021,df],axis = 0)"
   ]
  },
  {
   "cell_type": "code",
   "execution_count": 4,
   "id": "e72e282c",
   "metadata": {},
   "outputs": [],
   "source": [
    " df_2018 = pd.read_excel(\"C:/Users/NOOMAN KHAN/Desktop/Rice Data/drive-download-20230209T113119Z-001/Rice Exporters 2018.xlsx\",\n",
    "            sheet_name = \"Trade Atlas Records - Jan\")\n",
    "for i in [\"Feb\",\"Mar\",\"Apr\",\"May\",\"Jun\",\"Jul\",\"Aug\",\"Sep\",\"Oct\",\"Nov\",\"Dec\"]:\n",
    "          df = pd.read_excel(\"C:/Users/NOOMAN KHAN/Desktop/Rice Data/drive-download-20230209T113119Z-001/Rice Exporters 2018.xlsx\",\n",
    "            sheet_name = f\"Trade Atlas Records - {i}\")\n",
    "          df_2018 = pd.concat([df_2018,df],axis = 0)"
   ]
  },
  {
   "cell_type": "code",
   "execution_count": 5,
   "id": "617a4b82",
   "metadata": {},
   "outputs": [],
   "source": [
    " df_2020 = pd.read_excel(\"C:/Users/NOOMAN KHAN/Desktop/Rice Data/drive-download-20230209T113119Z-001/Rice Exporters 2020.xlsx\",\n",
    "            sheet_name = \"Jan\")\n",
    "for i in [\"Feb\",\"March\",\"April\",\"May\",\"June\",\"July\",\"August\",\"Sept\",\"October\",\"Nov\",\"Dec\"]:\n",
    "          df = pd.read_excel(\"C:/Users/NOOMAN KHAN/Desktop/Rice Data/drive-download-20230209T113119Z-001/Rice Exporters 2020.xlsx\",\n",
    "            sheet_name = f\"{i}\")\n",
    "          df_2020 = pd.concat([df_2020,df],axis = 0)"
   ]
  },
  {
   "cell_type": "code",
   "execution_count": 6,
   "id": "7f53f1e9",
   "metadata": {},
   "outputs": [],
   "source": [
    " df_2022 = pd.read_excel(\"C:/Users/NOOMAN KHAN/Desktop/Rice Data/drive-download-20230209T113119Z-001/Rice Exporters 2022.xlsx\",\n",
    "            sheet_name = \"Jan\")\n",
    "for i in [\"Feb\",\"March\",\"April\",\"May\",\"June\",\"July 1\",\"July-2\",\"Aug - 1\",\"Aug - 2\",\"Sept - 1\",\"Sept - 1\",\n",
    "          \"Octo - 1\",\"Oct - 2\",\"Nov - 1\",\"Nov - 1\"]:\n",
    "          df = pd.read_excel(\"C:/Users/NOOMAN KHAN/Desktop/Rice Data/drive-download-20230209T113119Z-001/Rice Exporters 2022.xlsx\",\n",
    "            sheet_name = f\"{i}\")\n",
    "          df_2022 = pd.concat([df_2022,df],axis = 0)"
   ]
  },
  {
   "cell_type": "code",
   "execution_count": 7,
   "id": "62765bed",
   "metadata": {},
   "outputs": [],
   "source": [
    "pd.options.display.max_columns = None"
   ]
  },
  {
   "cell_type": "code",
   "execution_count": 8,
   "id": "d235b82b",
   "metadata": {},
   "outputs": [],
   "source": [
    "df = pd.concat([df_2018,df_2019,df_2020,df_2021,df_2022] , axis = 0)\n",
    "df = df[[\"ARRIVAL DATE\",\"HS CODE DESCRIPTION\",\"IMPORTER NAME\",\"IMPORTER COUNTRY\",\"CITY STATE\"\n",
    "         ,\"EXPORTER NAME\",\"COUNTRY OF ORIGIN\",\"EXPORTER ADDRESS\",\"IMPORT VALUE FOB\",\"QUANTITY\",\n",
    "        \"QUANTITY UNIT\"]]"
   ]
  },
  {
   "cell_type": "code",
   "execution_count": null,
   "id": "f337478d",
   "metadata": {},
   "outputs": [],
   "source": []
  },
  {
   "cell_type": "code",
   "execution_count": 9,
   "id": "0595ac0c",
   "metadata": {},
   "outputs": [
    {
     "data": {
      "text/plain": [
       "array(['MTS', 'KGS', 'NOS', 'PCS', 'kg', 'KGM', 'CTN', 'кг', 'BAG', nan,\n",
       "       'BOX', 'PAC', 'KG', 'Kg', 'PKG', 'TON', 'KILOGRAMOS NETOS', 'MTR',\n",
       "       'Kgm', 'KILOGRAMMES', 'QTL', 'BG', 'kilos', 'QUILOGRAMA LIQUIDO',\n",
       "       'Net kg', 'LOT', 'SQM', 'Kilogram', 'CRT', 'SET', 'Kilogramos',\n",
       "       'Tonelada', 'BGS', 'TONS', 'LBS', 'GMS', 'VPK', 'BUN', 'Kilo',\n",
       "       'TBN', 'BX', 'PCK', 'PK', 'CT', 'NET KG', 'PD', 'PX', 'TONELADA',\n",
       "       'ZB', 'Toneladas', 'SA', 'PIECE', 'Box (Caja)', 'TNE', 'CS',\n",
       "       'BAGS', 'PACKAGES', 'LTR', 'KILOGRAMO BRUTO', 'INC', 'TBS', 'DRM',\n",
       "       'KLR', 'UNK', 'KILOS', 'KILOGRAM', 'CAS', 'КГ', 'KGA', 'CARTONS',\n",
       "       'PACKAGE(S)', 'CTM', 'Kg.', 'MDW', 'BOXES', 'ШТ', 'Tons', 'PCE',\n",
       "       'SAC', 'BAGS  PLASTIC', 'PACKAGE / PARCEL', 'UNIT (UNIDAD)',\n",
       "       'KILO', 'PIECE(S)', 'KILOGRAMO', 'CONTAINER(S)  N.O.S.',\n",
       "       'PACKAGE  DISPLAY  WOODEN', 'PALLETS', 'PACKAGE', 'Unidades',\n",
       "       'BOPP BAGS', 'PP BAGS', 'JUTE BAG', 'WPPB BAGS', 'POLY PACK',\n",
       "       'BIG BAG', 'BULK LINER BAG', 'BAG POLYBAG'], dtype=object)"
      ]
     },
     "execution_count": 9,
     "metadata": {},
     "output_type": "execute_result"
    }
   ],
   "source": [
    "df[\"QUANTITY UNIT\"].unique()"
   ]
  },
  {
   "cell_type": "code",
   "execution_count": 11,
   "id": "c9b14513",
   "metadata": {},
   "outputs": [
    {
     "data": {
      "text/plain": [
       "array(['MTS', 'KGS', 'NOS', 'PCS', 'kg', 'KGM', 'CTN', 'кг', 'BAG', nan,\n",
       "       'BOX', 'PAC', 'KG', 'Kg', 'PKG', 'TON', 'KILOGRAMOS NETOS', 'MTR',\n",
       "       'Kgm', 'KILOGRAMMES', 'QTL', 'BG', 'kilos', 'QUILOGRAMA LIQUIDO',\n",
       "       'Net kg', 'LOT', 'SQM', 'Kilogram', 'CRT', 'SET', 'Kilogramos',\n",
       "       'Tonelada', 'BGS', 'TONS', 'LBS', 'GMS', 'VPK', 'BUN', 'Kilo',\n",
       "       'TBN', 'BX', 'PCK', 'PK', 'CT', 'NET KG', 'PD', 'PX', 'TONELADA',\n",
       "       'ZB', 'Toneladas', 'SA', 'PIECE', 'Box (Caja)', 'TNE', 'CS',\n",
       "       'BAGS', 'PACKAGES', 'LTR', 'KILOGRAMO BRUTO', 'INC', 'TBS', 'DRM',\n",
       "       'KLR', 'UNK', 'KILOS', 'KILOGRAM', 'CAS', 'КГ', 'KGA', 'CARTONS',\n",
       "       'PACKAGE(S)', 'CTM', 'Kg.', 'MDW', 'BOXES', 'ШТ', 'Tons', 'PCE',\n",
       "       'SAC', 'BAGS  PLASTIC', 'PACKAGE / PARCEL', 'UNIT (UNIDAD)',\n",
       "       'KILO', 'PIECE(S)', 'KILOGRAMO', 'CONTAINER(S)  N.O.S.',\n",
       "       'PACKAGE  DISPLAY  WOODEN', 'PALLETS', 'PACKAGE', 'Unidades',\n",
       "       'BOPP BAGS', 'PP BAGS', 'JUTE BAG', 'WPPB BAGS', 'POLY PACK',\n",
       "       'BIG BAG', 'BULK LINER BAG', 'BAG POLYBAG'], dtype=object)"
      ]
     },
     "execution_count": 11,
     "metadata": {},
     "output_type": "execute_result"
    }
   ],
   "source": [
    "df[\"QUANTITY UNIT\"].unique()"
   ]
  },
  {
   "cell_type": "code",
   "execution_count": 17,
   "id": "22cb45e5",
   "metadata": {},
   "outputs": [
    {
     "data": {
      "text/plain": [
       "ARRIVAL DATE               0\n",
       "HS CODE DESCRIPTION     2318\n",
       "IMPORTER NAME           2613\n",
       "IMPORTER COUNTRY           0\n",
       "CITY STATE               186\n",
       "EXPORTER NAME           2021\n",
       "COUNTRY OF ORIGIN          0\n",
       "EXPORTER ADDRESS       31335\n",
       "IMPORT VALUE FOB           0\n",
       "QUANTITY                   0\n",
       "QUANTITY UNIT          20880\n",
       "dtype: int64"
      ]
     },
     "execution_count": 17,
     "metadata": {},
     "output_type": "execute_result"
    }
   ],
   "source": [
    "df.isnull().sum()"
   ]
  },
  {
   "cell_type": "code",
   "execution_count": 18,
   "id": "c7b83e0c",
   "metadata": {},
   "outputs": [],
   "source": [
    "df[\"QUANTITY UNIT\"] = df[\"QUANTITY UNIT\"].fillna(\"Kg\")"
   ]
  },
  {
   "cell_type": "code",
   "execution_count": 19,
   "id": "c31c499a",
   "metadata": {},
   "outputs": [
    {
     "data": {
      "text/plain": [
       "ARRIVAL DATE               0\n",
       "HS CODE DESCRIPTION     2318\n",
       "IMPORTER NAME           2613\n",
       "IMPORTER COUNTRY           0\n",
       "CITY STATE               186\n",
       "EXPORTER NAME           2021\n",
       "COUNTRY OF ORIGIN          0\n",
       "EXPORTER ADDRESS       31335\n",
       "IMPORT VALUE FOB           0\n",
       "QUANTITY                   0\n",
       "QUANTITY UNIT              0\n",
       "dtype: int64"
      ]
     },
     "execution_count": 19,
     "metadata": {},
     "output_type": "execute_result"
    }
   ],
   "source": [
    "df.isnull().sum()"
   ]
  },
  {
   "cell_type": "code",
   "execution_count": 31,
   "id": "c851ef10",
   "metadata": {},
   "outputs": [],
   "source": [
    "df1 = df.copy()"
   ]
  },
  {
   "cell_type": "code",
   "execution_count": 36,
   "id": "6410fa45",
   "metadata": {},
   "outputs": [
    {
     "data": {
      "text/html": [
       "<div>\n",
       "<style scoped>\n",
       "    .dataframe tbody tr th:only-of-type {\n",
       "        vertical-align: middle;\n",
       "    }\n",
       "\n",
       "    .dataframe tbody tr th {\n",
       "        vertical-align: top;\n",
       "    }\n",
       "\n",
       "    .dataframe thead th {\n",
       "        text-align: right;\n",
       "    }\n",
       "</style>\n",
       "<table border=\"1\" class=\"dataframe\">\n",
       "  <thead>\n",
       "    <tr style=\"text-align: right;\">\n",
       "      <th></th>\n",
       "      <th>ARRIVAL DATE</th>\n",
       "      <th>HS CODE DESCRIPTION</th>\n",
       "      <th>IMPORTER NAME</th>\n",
       "      <th>IMPORTER COUNTRY</th>\n",
       "      <th>CITY STATE</th>\n",
       "      <th>EXPORTER NAME</th>\n",
       "      <th>COUNTRY OF ORIGIN</th>\n",
       "      <th>EXPORTER ADDRESS</th>\n",
       "      <th>IMPORT VALUE FOB</th>\n",
       "      <th>QUANTITY</th>\n",
       "      <th>QUANTITY UNIT</th>\n",
       "    </tr>\n",
       "  </thead>\n",
       "  <tbody>\n",
       "    <tr>\n",
       "      <th>0</th>\n",
       "      <td>2018-01-30 03:00:00</td>\n",
       "      <td>Rice Excptg Parboiled (Excl Basmati Rice)</td>\n",
       "      <td>WALQ GENERAL TRADING</td>\n",
       "      <td>United Arab Emirates</td>\n",
       "      <td>United Arab Emirates</td>\n",
       "      <td>SCM AGROTECH ENTERPRISES PRIVATE LIMITED</td>\n",
       "      <td>India</td>\n",
       "      <td>165&amp;166A,ZONE1-M.P NAGAR,   ,BHOPAL,MADHYA PRA...</td>\n",
       "      <td>25970.76</td>\n",
       "      <td>50.04</td>\n",
       "      <td>MTS</td>\n",
       "    </tr>\n",
       "    <tr>\n",
       "      <th>1</th>\n",
       "      <td>2018-01-30 03:00:00</td>\n",
       "      <td>Rice Excptg Parboiled (Excl Basmati Rice)</td>\n",
       "      <td>FINE WAY INTERNATIONAL TRADING LLC.</td>\n",
       "      <td>United Arab Emirates</td>\n",
       "      <td>United Arab Emirates</td>\n",
       "      <td>SRI RAMA MODERN &amp; PARA BOILED RICE MILL</td>\n",
       "      <td>India</td>\n",
       "      <td>SARANGAPUR VILLAGENIZAMABAD.   ,ANDHRA PRADESH...</td>\n",
       "      <td>25945.92</td>\n",
       "      <td>48.05</td>\n",
       "      <td>MTS</td>\n",
       "    </tr>\n",
       "    <tr>\n",
       "      <th>2</th>\n",
       "      <td>2018-01-30 03:00:00</td>\n",
       "      <td>Rice Excptg Parboiled (Excl Basmati Rice)</td>\n",
       "      <td>SEMMALAI TRADING LLC.</td>\n",
       "      <td>United Arab Emirates</td>\n",
       "      <td>United Arab Emirates</td>\n",
       "      <td>LANDED FRESH INTERNATIONALS</td>\n",
       "      <td>India</td>\n",
       "      <td>12/177, THAILAMPALAYAM,OLALAKOVI PO GOBICHETTI...</td>\n",
       "      <td>7480.05</td>\n",
       "      <td>25650.00</td>\n",
       "      <td>Kg</td>\n",
       "    </tr>\n",
       "    <tr>\n",
       "      <th>3</th>\n",
       "      <td>2018-01-30 03:00:00</td>\n",
       "      <td>Rice, parboiled</td>\n",
       "      <td>INTEGRATED GREEN RESOURCES LLC.</td>\n",
       "      <td>United Arab Emirates</td>\n",
       "      <td>United Arab Emirates</td>\n",
       "      <td>REAL TIME GROCERY SOLUTIONS</td>\n",
       "      <td>India</td>\n",
       "      <td>NO.55/3 YESHWANTHPUR INDUSTRIAL SUBURB YESHWAN...</td>\n",
       "      <td>6069.33</td>\n",
       "      <td>9.56</td>\n",
       "      <td>MTS</td>\n",
       "    </tr>\n",
       "    <tr>\n",
       "      <th>4</th>\n",
       "      <td>2018-01-30 03:00:00</td>\n",
       "      <td>Rice Excptg Parboiled (Excl Basmati Rice)</td>\n",
       "      <td>GBR GENERAL TRADING FZC.</td>\n",
       "      <td>United Arab Emirates</td>\n",
       "      <td>United Arab Emirates</td>\n",
       "      <td>SAMSKRUTHI EXPORTERS</td>\n",
       "      <td>India</td>\n",
       "      <td>MUNICIPAL NO.3-6-224-225, F.NO.501, SRIDEVI ES...</td>\n",
       "      <td>13678.20</td>\n",
       "      <td>26.82</td>\n",
       "      <td>MTS</td>\n",
       "    </tr>\n",
       "  </tbody>\n",
       "</table>\n",
       "</div>"
      ],
      "text/plain": [
       "         ARRIVAL DATE                        HS CODE DESCRIPTION  \\\n",
       "0 2018-01-30 03:00:00  Rice Excptg Parboiled (Excl Basmati Rice)   \n",
       "1 2018-01-30 03:00:00  Rice Excptg Parboiled (Excl Basmati Rice)   \n",
       "2 2018-01-30 03:00:00  Rice Excptg Parboiled (Excl Basmati Rice)   \n",
       "3 2018-01-30 03:00:00                            Rice, parboiled   \n",
       "4 2018-01-30 03:00:00  Rice Excptg Parboiled (Excl Basmati Rice)   \n",
       "\n",
       "                         IMPORTER NAME      IMPORTER COUNTRY  \\\n",
       "0                 WALQ GENERAL TRADING  United Arab Emirates   \n",
       "1  FINE WAY INTERNATIONAL TRADING LLC.  United Arab Emirates   \n",
       "2                SEMMALAI TRADING LLC.  United Arab Emirates   \n",
       "3      INTEGRATED GREEN RESOURCES LLC.  United Arab Emirates   \n",
       "4             GBR GENERAL TRADING FZC.  United Arab Emirates   \n",
       "\n",
       "             CITY STATE                             EXPORTER NAME  \\\n",
       "0  United Arab Emirates  SCM AGROTECH ENTERPRISES PRIVATE LIMITED   \n",
       "1  United Arab Emirates   SRI RAMA MODERN & PARA BOILED RICE MILL   \n",
       "2  United Arab Emirates               LANDED FRESH INTERNATIONALS   \n",
       "3  United Arab Emirates               REAL TIME GROCERY SOLUTIONS   \n",
       "4  United Arab Emirates                      SAMSKRUTHI EXPORTERS   \n",
       "\n",
       "  COUNTRY OF ORIGIN                                   EXPORTER ADDRESS  \\\n",
       "0             India  165&166A,ZONE1-M.P NAGAR,   ,BHOPAL,MADHYA PRA...   \n",
       "1             India  SARANGAPUR VILLAGENIZAMABAD.   ,ANDHRA PRADESH...   \n",
       "2             India  12/177, THAILAMPALAYAM,OLALAKOVI PO GOBICHETTI...   \n",
       "3             India  NO.55/3 YESHWANTHPUR INDUSTRIAL SUBURB YESHWAN...   \n",
       "4             India  MUNICIPAL NO.3-6-224-225, F.NO.501, SRIDEVI ES...   \n",
       "\n",
       "   IMPORT VALUE FOB  QUANTITY QUANTITY UNIT  \n",
       "0          25970.76     50.04           MTS  \n",
       "1          25945.92     48.05           MTS  \n",
       "2           7480.05  25650.00            Kg  \n",
       "3           6069.33      9.56           MTS  \n",
       "4          13678.20     26.82           MTS  "
      ]
     },
     "execution_count": 36,
     "metadata": {},
     "output_type": "execute_result"
    }
   ],
   "source": [
    "df[\"QUANTITY UNIT\"] = df[\"QUANTITY UNIT\"].apply(lambda x:\"Kg\" if \"K\" in x else x)\n",
    "df.head()"
   ]
  },
  {
   "cell_type": "code",
   "execution_count": 81,
   "id": "dce9ac8c",
   "metadata": {},
   "outputs": [],
   "source": [
    "change = df[df[\"QUANTITY UNIT\"].str.contains(\"BAG\")][\"QUANTITY\"]*50\n",
    "change.index = df[df[\"QUANTITY UNIT\"].str.contains(\"BAG\")].index\n",
    "df.loc[df[\"QUANTITY UNIT\"].str.contains(\"BAG\") , \"QUANTITY\"] = change\n",
    " \n",
    " "
   ]
  },
  {
   "cell_type": "code",
   "execution_count": 82,
   "id": "97b543dd",
   "metadata": {},
   "outputs": [
    {
     "data": {
      "text/html": [
       "<div>\n",
       "<style scoped>\n",
       "    .dataframe tbody tr th:only-of-type {\n",
       "        vertical-align: middle;\n",
       "    }\n",
       "\n",
       "    .dataframe tbody tr th {\n",
       "        vertical-align: top;\n",
       "    }\n",
       "\n",
       "    .dataframe thead th {\n",
       "        text-align: right;\n",
       "    }\n",
       "</style>\n",
       "<table border=\"1\" class=\"dataframe\">\n",
       "  <thead>\n",
       "    <tr style=\"text-align: right;\">\n",
       "      <th></th>\n",
       "      <th>ARRIVAL DATE</th>\n",
       "      <th>HS CODE DESCRIPTION</th>\n",
       "      <th>IMPORTER NAME</th>\n",
       "      <th>IMPORTER COUNTRY</th>\n",
       "      <th>CITY STATE</th>\n",
       "      <th>EXPORTER NAME</th>\n",
       "      <th>COUNTRY OF ORIGIN</th>\n",
       "      <th>EXPORTER ADDRESS</th>\n",
       "      <th>IMPORT VALUE FOB</th>\n",
       "      <th>QUANTITY</th>\n",
       "      <th>QUANTITY UNIT</th>\n",
       "    </tr>\n",
       "  </thead>\n",
       "  <tbody>\n",
       "    <tr>\n",
       "      <th>0</th>\n",
       "      <td>2018-01-30 03:00:00</td>\n",
       "      <td>Rice Excptg Parboiled (Excl Basmati Rice)</td>\n",
       "      <td>WALQ GENERAL TRADING</td>\n",
       "      <td>United Arab Emirates</td>\n",
       "      <td>United Arab Emirates</td>\n",
       "      <td>SCM AGROTECH ENTERPRISES PRIVATE LIMITED</td>\n",
       "      <td>India</td>\n",
       "      <td>165&amp;166A,ZONE1-M.P NAGAR,   ,BHOPAL,MADHYA PRA...</td>\n",
       "      <td>25970.76</td>\n",
       "      <td>50.04</td>\n",
       "      <td>MTS</td>\n",
       "    </tr>\n",
       "    <tr>\n",
       "      <th>1</th>\n",
       "      <td>2018-01-30 03:00:00</td>\n",
       "      <td>Rice Excptg Parboiled (Excl Basmati Rice)</td>\n",
       "      <td>FINE WAY INTERNATIONAL TRADING LLC.</td>\n",
       "      <td>United Arab Emirates</td>\n",
       "      <td>United Arab Emirates</td>\n",
       "      <td>SRI RAMA MODERN &amp; PARA BOILED RICE MILL</td>\n",
       "      <td>India</td>\n",
       "      <td>SARANGAPUR VILLAGENIZAMABAD.   ,ANDHRA PRADESH...</td>\n",
       "      <td>25945.92</td>\n",
       "      <td>48.05</td>\n",
       "      <td>MTS</td>\n",
       "    </tr>\n",
       "    <tr>\n",
       "      <th>2</th>\n",
       "      <td>2018-01-30 03:00:00</td>\n",
       "      <td>Rice Excptg Parboiled (Excl Basmati Rice)</td>\n",
       "      <td>SEMMALAI TRADING LLC.</td>\n",
       "      <td>United Arab Emirates</td>\n",
       "      <td>United Arab Emirates</td>\n",
       "      <td>LANDED FRESH INTERNATIONALS</td>\n",
       "      <td>India</td>\n",
       "      <td>12/177, THAILAMPALAYAM,OLALAKOVI PO GOBICHETTI...</td>\n",
       "      <td>7480.05</td>\n",
       "      <td>25650.00</td>\n",
       "      <td>Kg</td>\n",
       "    </tr>\n",
       "    <tr>\n",
       "      <th>3</th>\n",
       "      <td>2018-01-30 03:00:00</td>\n",
       "      <td>Rice, parboiled</td>\n",
       "      <td>INTEGRATED GREEN RESOURCES LLC.</td>\n",
       "      <td>United Arab Emirates</td>\n",
       "      <td>United Arab Emirates</td>\n",
       "      <td>REAL TIME GROCERY SOLUTIONS</td>\n",
       "      <td>India</td>\n",
       "      <td>NO.55/3 YESHWANTHPUR INDUSTRIAL SUBURB YESHWAN...</td>\n",
       "      <td>6069.33</td>\n",
       "      <td>9.56</td>\n",
       "      <td>MTS</td>\n",
       "    </tr>\n",
       "    <tr>\n",
       "      <th>4</th>\n",
       "      <td>2018-01-30 03:00:00</td>\n",
       "      <td>Rice Excptg Parboiled (Excl Basmati Rice)</td>\n",
       "      <td>GBR GENERAL TRADING FZC.</td>\n",
       "      <td>United Arab Emirates</td>\n",
       "      <td>United Arab Emirates</td>\n",
       "      <td>SAMSKRUTHI EXPORTERS</td>\n",
       "      <td>India</td>\n",
       "      <td>MUNICIPAL NO.3-6-224-225, F.NO.501, SRIDEVI ES...</td>\n",
       "      <td>13678.20</td>\n",
       "      <td>26.82</td>\n",
       "      <td>MTS</td>\n",
       "    </tr>\n",
       "  </tbody>\n",
       "</table>\n",
       "</div>"
      ],
      "text/plain": [
       "         ARRIVAL DATE                        HS CODE DESCRIPTION  \\\n",
       "0 2018-01-30 03:00:00  Rice Excptg Parboiled (Excl Basmati Rice)   \n",
       "1 2018-01-30 03:00:00  Rice Excptg Parboiled (Excl Basmati Rice)   \n",
       "2 2018-01-30 03:00:00  Rice Excptg Parboiled (Excl Basmati Rice)   \n",
       "3 2018-01-30 03:00:00                            Rice, parboiled   \n",
       "4 2018-01-30 03:00:00  Rice Excptg Parboiled (Excl Basmati Rice)   \n",
       "\n",
       "                         IMPORTER NAME      IMPORTER COUNTRY  \\\n",
       "0                 WALQ GENERAL TRADING  United Arab Emirates   \n",
       "1  FINE WAY INTERNATIONAL TRADING LLC.  United Arab Emirates   \n",
       "2                SEMMALAI TRADING LLC.  United Arab Emirates   \n",
       "3      INTEGRATED GREEN RESOURCES LLC.  United Arab Emirates   \n",
       "4             GBR GENERAL TRADING FZC.  United Arab Emirates   \n",
       "\n",
       "             CITY STATE                             EXPORTER NAME  \\\n",
       "0  United Arab Emirates  SCM AGROTECH ENTERPRISES PRIVATE LIMITED   \n",
       "1  United Arab Emirates   SRI RAMA MODERN & PARA BOILED RICE MILL   \n",
       "2  United Arab Emirates               LANDED FRESH INTERNATIONALS   \n",
       "3  United Arab Emirates               REAL TIME GROCERY SOLUTIONS   \n",
       "4  United Arab Emirates                      SAMSKRUTHI EXPORTERS   \n",
       "\n",
       "  COUNTRY OF ORIGIN                                   EXPORTER ADDRESS  \\\n",
       "0             India  165&166A,ZONE1-M.P NAGAR,   ,BHOPAL,MADHYA PRA...   \n",
       "1             India  SARANGAPUR VILLAGENIZAMABAD.   ,ANDHRA PRADESH...   \n",
       "2             India  12/177, THAILAMPALAYAM,OLALAKOVI PO GOBICHETTI...   \n",
       "3             India  NO.55/3 YESHWANTHPUR INDUSTRIAL SUBURB YESHWAN...   \n",
       "4             India  MUNICIPAL NO.3-6-224-225, F.NO.501, SRIDEVI ES...   \n",
       "\n",
       "   IMPORT VALUE FOB  QUANTITY QUANTITY UNIT  \n",
       "0          25970.76     50.04           MTS  \n",
       "1          25945.92     48.05           MTS  \n",
       "2           7480.05  25650.00            Kg  \n",
       "3           6069.33      9.56           MTS  \n",
       "4          13678.20     26.82           MTS  "
      ]
     },
     "execution_count": 82,
     "metadata": {},
     "output_type": "execute_result"
    }
   ],
   "source": [
    "df[\"QUANTITY UNIT\"] = df[\"QUANTITY UNIT\"].apply(lambda x:\"Kg\" if \"BAG\" in x else x)\n",
    "df.head()"
   ]
  },
  {
   "cell_type": "code",
   "execution_count": 84,
   "id": "025fd8db",
   "metadata": {},
   "outputs": [
    {
     "data": {
      "text/plain": [
       "array(['MTS', 'Kg', 'NOS', 'PCS', 'kg', 'CTN', 'кг', 'BOX', 'PAC', 'TON',\n",
       "       'MTR', 'QTL', 'BG', 'kilos', 'QUILOGRAMA LIQUIDO', 'Net kg', 'LOT',\n",
       "       'SQM', 'CRT', 'SET', 'Tonelada', 'BGS', 'TONS', 'LBS', 'GMS',\n",
       "       'BUN', 'TBN', 'BX', 'CT', 'PD', 'PX', 'TONELADA', 'ZB',\n",
       "       'Toneladas', 'SA', 'PIECE', 'Box (Caja)', 'TNE', 'CS', 'LTR',\n",
       "       'INC', 'TBS', 'DRM', 'CAS', 'КГ', 'CARTONS', 'CTM', 'MDW', 'BOXES',\n",
       "       'ШТ', 'Tons', 'PCE', 'SAC', 'UNIT (UNIDAD)', 'PIECE(S)',\n",
       "       'CONTAINER(S)  N.O.S.', 'PALLETS', 'Unidades'], dtype=object)"
      ]
     },
     "execution_count": 84,
     "metadata": {},
     "output_type": "execute_result"
    }
   ],
   "source": [
    "df[\"QUANTITY UNIT\"].unique()"
   ]
  },
  {
   "cell_type": "code",
   "execution_count": null,
   "id": "908967be",
   "metadata": {},
   "outputs": [],
   "source": [
    "df[\"QUANTITY UNIT\"] = df[\"QUANTITY UNIT\"].apply(lambda x:\"TON\" if \"MTS\" in x else x)\n",
    "df[\"QUANTITY UNIT\"] = df[\"QUANTITY UNIT\"].apply(lambda x:\"TON\" if \"TONS\" in x else x)\n",
    "df[\"QUANTITY UNIT\"] = df[\"QUANTITY UNIT\"].apply(lambda x:\"TON\" if \"MTS\" in x else x)\n",
    "df[\"QUANTITY UNIT\"] = df[\"QUANTITY UNIT\"].apply(lambda x:\"TON\" if \"MTS\" in x else x)\n",
    " "
   ]
  },
  {
   "cell_type": "markdown",
   "id": "a498f811",
   "metadata": {},
   "source": [
    "Kg (Kilograms)\n",
    "\n",
    "NOS (Number of Pieces)\n",
    "\n",
    "PCS (Pieces)\n",
    "\n",
    "CTN (Cartons)\n",
    "\n",
    "TON (Tons)\n",
    "\n",
    "MTR (Meters)\n",
    "\n",
    "QTL (Quintal)\n",
    "\n",
    "BG (Bags)\n",
    "\n",
    "CRT (Carats)\n",
    "\n",
    "SET (Sets)\n",
    "\n",
    "LBS (Pounds)\n",
    "\n",
    "GMS (Grams)\n",
    "\n",
    "TNE (Tones)\n",
    "\n",
    "LTR (Liters)\n",
    "\n",
    "Tons (Tons)\n",
    "\n",
    "TNE (Tones)\n",
    "\n",
    "PIECE (Pieces)\n",
    "\n",
    "BOX (Box)\n",
    "\n",
    "TBS (Tablespoons)\n",
    "\n",
    "DRAM (Drams)\n",
    "\n",
    "KG (Kilograms)\n",
    "\n",
    "Tons (Tons)\n",
    "\n",
    "PCE (Pieces)\n",
    "\n",
    "LTR (Liters)\n",
    "\n",
    "UNIT (Unit)\n",
    "\n",
    "BOXES (Boxes)\n",
    "\n",
    "UNIDADES (Units)"
   ]
  }
 ],
 "metadata": {
  "kernelspec": {
   "display_name": "Python 3 (ipykernel)",
   "language": "python",
   "name": "python3"
  },
  "language_info": {
   "codemirror_mode": {
    "name": "ipython",
    "version": 3
   },
   "file_extension": ".py",
   "mimetype": "text/x-python",
   "name": "python",
   "nbconvert_exporter": "python",
   "pygments_lexer": "ipython3",
   "version": "3.9.12"
  }
 },
 "nbformat": 4,
 "nbformat_minor": 5
}
