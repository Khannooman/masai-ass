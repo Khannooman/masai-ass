{
 "cells": [
  {
   "cell_type": "markdown",
   "id": "62319f66",
   "metadata": {},
   "source": [
    "Q1. Write a function which prints an English Imperial Ruler:\n",
    "\n",
    "* Function takes only one argument N and prints ruler scale of N inches.\n",
    "\n",
    "\n",
    "\n",
    "Sample Output when N=3:\n",
    "\n",
    "```\n",
    "\n",
    "---- 0\n",
    "-\n",
    "--\n",
    "-\n",
    "---\n",
    "-\n",
    "--\n",
    "-\n",
    "---- 1\n",
    "-\n",
    "--\n",
    "-\n",
    "---\n",
    "-\n",
    "--\n",
    "-\n",
    "---- 2\n",
    "-\n",
    "--\n",
    "-\n",
    "---\n",
    "-\n",
    "--\n",
    "-\n",
    "---- 3\n",
    "\n",
    "```"
   ]
  },
  {
   "cell_type": "code",
   "execution_count": 10,
   "id": "c5885335",
   "metadata": {},
   "outputs": [],
   "source": [
    " \n",
    "def English_Imperial_Ruler(X):\n",
    "    for i in range(0,X+1):\n",
    "        print(\"----\",i)\n",
    "        if i==X:\n",
    "            break\n",
    "        print(\"-\")\n",
    "        print(\"--\")\n",
    "        print(\"-\")\n",
    "        print(\"---\")\n",
    "        print(\"-\")\n",
    "        print(\"--\")\n",
    "        print(\"-\")\n",
    "    "
   ]
  },
  {
   "cell_type": "code",
   "execution_count": 12,
   "id": "80ce9240",
   "metadata": {},
   "outputs": [
    {
     "name": "stdout",
     "output_type": "stream",
     "text": [
      "---- 0\n",
      "-\n",
      "--\n",
      "-\n",
      "---\n",
      "-\n",
      "--\n",
      "-\n",
      "---- 1\n",
      "-\n",
      "--\n",
      "-\n",
      "---\n",
      "-\n",
      "--\n",
      "-\n",
      "---- 2\n",
      "-\n",
      "--\n",
      "-\n",
      "---\n",
      "-\n",
      "--\n",
      "-\n",
      "---- 3\n",
      "-\n",
      "--\n",
      "-\n",
      "---\n",
      "-\n",
      "--\n",
      "-\n",
      "---- 4\n",
      "-\n",
      "--\n",
      "-\n",
      "---\n",
      "-\n",
      "--\n",
      "-\n",
      "---- 5\n"
     ]
    }
   ],
   "source": [
    "English_Imperial_Ruler(5)\n",
    " \n",
    " "
   ]
  },
  {
   "cell_type": "markdown",
   "id": "5c635ef6",
   "metadata": {},
   "source": [
    "Q2. Define a Function to calculate the geometric sum of n numbers \n",
    "Note: In mathematics, a geometric series is a series with a constant ratio between successive terms.\n",
    "\n",
    "Function should take 3 arguments a,r,n where a is constant, r is common ratio, n is number of terms\n",
    "\n",
    "**To Know More about Geometric Series:** https://en.wikipedia.org/wiki/Geometric_series"
   ]
  },
  {
   "cell_type": "code",
   "execution_count": 25,
   "id": "dec02f05",
   "metadata": {},
   "outputs": [],
   "source": [
    "\n",
    "def sum_of_GP():\n",
    "    a,r,n=map(int,input().split())\n",
    "    p=1\n",
    "    s=0\n",
    "    for i in range(1,n+1):\n",
    "        p=p*r\n",
    "    \n",
    "        s+=p\n",
    "    print(s)\n",
    "    \n",
    "    \n",
    "     \n",
    "\n",
    "  "
   ]
  },
  {
   "cell_type": "code",
   "execution_count": 27,
   "id": "ef0215b7",
   "metadata": {},
   "outputs": [
    {
     "name": "stdout",
     "output_type": "stream",
     "text": [
      "1 3 10\n",
      "88572\n"
     ]
    }
   ],
   "source": [
    "sum_of_GP()"
   ]
  },
  {
   "cell_type": "code",
   "execution_count": null,
   "id": "b910aca3",
   "metadata": {},
   "outputs": [],
   "source": []
  },
  {
   "cell_type": "markdown",
   "id": "21a99562",
   "metadata": {},
   "source": [
    "Q-3  Write a Python function to multiply all the numbers in a list. \n",
    "\n",
    "    Sample List : [8, 2, 3, -1, 7]\n",
    "    \n",
    "    Expected Output : -336"
   ]
  },
  {
   "cell_type": "code",
   "execution_count": 46,
   "id": "86131561",
   "metadata": {},
   "outputs": [],
   "source": [
    "def p_of_list(*n):\n",
    "    p=1\n",
    "    for i in n:\n",
    "        p*=i\n",
    "    print(p)\n",
    "        \n",
    "        "
   ]
  },
  {
   "cell_type": "code",
   "execution_count": 47,
   "id": "be9d9c28",
   "metadata": {},
   "outputs": [
    {
     "name": "stdout",
     "output_type": "stream",
     "text": [
      "-336\n"
     ]
    }
   ],
   "source": [
    "p_of_list(8, 2, 3, -1, 7)"
   ]
  },
  {
   "cell_type": "code",
   "execution_count": null,
   "id": "5928fa45",
   "metadata": {},
   "outputs": [],
   "source": []
  },
  {
   "cell_type": "markdown",
   "id": "5f2f90f9",
   "metadata": {},
   "source": [
    "Q4. Create a list with all elements(6) 0 using list comprehension"
   ]
  },
  {
   "cell_type": "code",
   "execution_count": 49,
   "id": "141314af",
   "metadata": {},
   "outputs": [
    {
     "data": {
      "text/plain": [
       "[0, 0, 0, 0, 0, 0]"
      ]
     },
     "execution_count": 49,
     "metadata": {},
     "output_type": "execute_result"
    }
   ],
   "source": [
    "a=[1,2,3,4,5,6]\n",
    "b=[i*0 for i in a]\n",
    "b"
   ]
  },
  {
   "cell_type": "code",
   "execution_count": null,
   "id": "098a0f84",
   "metadata": {},
   "outputs": [],
   "source": []
  },
  {
   "cell_type": "code",
   "execution_count": null,
   "id": "a3122616",
   "metadata": {},
   "outputs": [],
   "source": []
  },
  {
   "cell_type": "markdown",
   "id": "2e37a46e",
   "metadata": {},
   "source": [
    "Q5. With a given integral number n, write a program to generate a dictionary that contains (i, i*i) such that is an integral number between 1 and n (both included) and then the program should print the dictionary.\n",
    "#### Suppose the input is supplied to the program: 8\n",
    "#### Then, the output should be: {1: 1, 2: 4, 3: 9, 4: 16, 5: 25, 6: 36, 7: 49, 8: 64}"
   ]
  },
  {
   "cell_type": "code",
   "execution_count": 2,
   "id": "14faabfc",
   "metadata": {},
   "outputs": [
    {
     "name": "stdout",
     "output_type": "stream",
     "text": [
      "8\n",
      "{1: 1, 2: 4, 3: 9, 4: 16, 5: 25, 6: 36, 7: 49, 8: 64}\n"
     ]
    }
   ],
   "source": [
    "n=int(input())\n",
    "dic={}\n",
    "for i in range(1,n+1):\n",
    "    dic[i]=i**2\n",
    "print(dic)"
   ]
  },
  {
   "cell_type": "code",
   "execution_count": null,
   "id": "f372eb2e",
   "metadata": {},
   "outputs": [],
   "source": []
  },
  {
   "cell_type": "code",
   "execution_count": null,
   "id": "803c9b78",
   "metadata": {},
   "outputs": [],
   "source": []
  },
  {
   "cell_type": "code",
   "execution_count": null,
   "id": "75db161f",
   "metadata": {},
   "outputs": [],
   "source": []
  },
  {
   "cell_type": "markdown",
   "id": "3227cf11",
   "metadata": {},
   "source": [
    "Q6. divide a number by other and when there is divide-by-zero situation, raise ZeroDivisionError.\n",
    "\n",
    "Eg. \n",
    "1. 5 / 2 => print 2.5\n",
    "2. 5 / 0 => print ZeroDivisionError"
   ]
  }
 ],
 "metadata": {
  "kernelspec": {
   "display_name": "Python 3 (ipykernel)",
   "language": "python",
   "name": "python3"
  },
  "language_info": {
   "codemirror_mode": {
    "name": "ipython",
    "version": 3
   },
   "file_extension": ".py",
   "mimetype": "text/x-python",
   "name": "python",
   "nbconvert_exporter": "python",
   "pygments_lexer": "ipython3",
   "version": "3.9.12"
  }
 },
 "nbformat": 4,
 "nbformat_minor": 5
}
